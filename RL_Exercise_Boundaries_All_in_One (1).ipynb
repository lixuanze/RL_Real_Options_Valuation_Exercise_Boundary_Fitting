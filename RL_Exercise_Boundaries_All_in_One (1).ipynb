{
  "nbformat": 4,
  "nbformat_minor": 0,
  "metadata": {
    "colab": {
      "provenance": [],
      "collapsed_sections": [],
      "machine_shape": "hm"
    },
    "kernelspec": {
      "name": "python3",
      "display_name": "Python 3"
    },
    "language_info": {
      "name": "python"
    },
    "gpuClass": "standard"
  },
  "cells": [
    {
      "cell_type": "markdown",
      "source": [
        "## **Reinforcement Learning Solver for Pricing Simple Bermudan Put Options for only *1* Intermediate Decision Points**"
      ],
      "metadata": {
        "id": "XpqB2a_tYIOk"
      }
    },
    {
      "cell_type": "code",
      "source": [
        "!pip install QuantLib\n",
        "!pip install -q tf-agents"
      ],
      "metadata": {
        "colab": {
          "base_uri": "https://localhost:8080/"
        },
        "id": "98j4oe6sZhAZ",
        "outputId": "f5b9585b-7fae-41a5-ad06-abc2629691fb"
      },
      "execution_count": null,
      "outputs": [
        {
          "output_type": "stream",
          "name": "stdout",
          "text": [
            "Looking in indexes: https://pypi.org/simple, https://us-python.pkg.dev/colab-wheels/public/simple/\n",
            "Requirement already satisfied: QuantLib in /usr/local/lib/python3.7/dist-packages (1.26)\n",
            "Looking in indexes: https://pypi.org/simple, https://us-python.pkg.dev/colab-wheels/public/simple/\n",
            "Requirement already satisfied: tf-agents in /usr/local/lib/python3.7/dist-packages (0.13.0)\n",
            "Requirement already satisfied: six>=1.10.0 in /usr/local/lib/python3.7/dist-packages (from tf-agents) (1.15.0)\n",
            "Requirement already satisfied: numpy>=1.13.3 in /usr/local/lib/python3.7/dist-packages (from tf-agents) (1.21.6)\n",
            "Requirement already satisfied: gin-config>=0.4.0 in /usr/local/lib/python3.7/dist-packages (from tf-agents) (0.5.0)\n",
            "Requirement already satisfied: gym<=0.23.0,>=0.17.0 in /usr/local/lib/python3.7/dist-packages (from tf-agents) (0.17.3)\n",
            "Requirement already satisfied: wrapt>=1.11.1 in /usr/local/lib/python3.7/dist-packages (from tf-agents) (1.14.1)\n",
            "Requirement already satisfied: tensorflow-probability>=0.16.0 in /usr/local/lib/python3.7/dist-packages (from tf-agents) (0.16.0)\n",
            "Requirement already satisfied: pillow in /usr/local/lib/python3.7/dist-packages (from tf-agents) (7.1.2)\n",
            "Requirement already satisfied: typing-extensions>=3.7.4.3 in /usr/local/lib/python3.7/dist-packages (from tf-agents) (4.2.0)\n",
            "Requirement already satisfied: pygame==2.1.0 in /usr/local/lib/python3.7/dist-packages (from tf-agents) (2.1.0)\n",
            "Requirement already satisfied: protobuf>=3.11.3 in /usr/local/lib/python3.7/dist-packages (from tf-agents) (3.17.3)\n",
            "Requirement already satisfied: cloudpickle>=1.3 in /usr/local/lib/python3.7/dist-packages (from tf-agents) (1.3.0)\n",
            "Requirement already satisfied: absl-py>=0.6.1 in /usr/local/lib/python3.7/dist-packages (from tf-agents) (1.1.0)\n",
            "Requirement already satisfied: scipy in /usr/local/lib/python3.7/dist-packages (from gym<=0.23.0,>=0.17.0->tf-agents) (1.4.1)\n",
            "Requirement already satisfied: pyglet<=1.5.0,>=1.4.0 in /usr/local/lib/python3.7/dist-packages (from gym<=0.23.0,>=0.17.0->tf-agents) (1.5.0)\n",
            "Requirement already satisfied: future in /usr/local/lib/python3.7/dist-packages (from pyglet<=1.5.0,>=1.4.0->gym<=0.23.0,>=0.17.0->tf-agents) (0.16.0)\n",
            "Requirement already satisfied: dm-tree in /usr/local/lib/python3.7/dist-packages (from tensorflow-probability>=0.16.0->tf-agents) (0.1.7)\n",
            "Requirement already satisfied: decorator in /usr/local/lib/python3.7/dist-packages (from tensorflow-probability>=0.16.0->tf-agents) (4.4.2)\n",
            "Requirement already satisfied: gast>=0.3.2 in /usr/local/lib/python3.7/dist-packages (from tensorflow-probability>=0.16.0->tf-agents) (0.5.3)\n"
          ]
        }
      ]
    },
    {
      "cell_type": "markdown",
      "source": [
        "**Analytical Solutions - Binomial Tree Option Pricing Method**"
      ],
      "metadata": {
        "id": "qrBMV18BZubN"
      }
    },
    {
      "cell_type": "code",
      "source": [
        "import QuantLib as ql \n",
        "import pandas as pd\n",
        "def get_simple_bermudan_option(): \n",
        "    maturity = ql.Date(31, 12, 2022)\n",
        "    S0=5\n",
        "    K = 5\n",
        "    r = 0.03\n",
        "    sigma = 0.10\n",
        "    d = 0.0\n",
        "    otype = ql.Option.Put\n",
        "    dc = ql.Actual365Fixed()\n",
        "    calendar = ql.NullCalendar()\n",
        "\n",
        "    today = ql.Date(1, 1, 2021)\n",
        "    bermudan = ql.Date(1,1,2022)\n",
        "    ql.Settings.instance().evaluationDate = today\n",
        "\n",
        "    payoff = ql.PlainVanillaPayoff(otype, K)\n",
        "\n",
        "    bermudan_exercise = ql.BermudanExercise([today, bermudan, maturity])\n",
        "    bermudan_option=ql.VanillaOption(payoff, bermudan_exercise)\n",
        "\n",
        "    american_exercise = ql.AmericanExercise(today, maturity)\n",
        "    american_option = ql.VanillaOption(payoff, american_exercise)\n",
        "\n",
        "    d_ts = ql.YieldTermStructureHandle(ql.FlatForward(today, d, dc))\n",
        "    r_ts = ql.YieldTermStructureHandle(ql.FlatForward(today, r, dc))\n",
        "    sigma_ts = ql.BlackVolTermStructureHandle(ql.BlackConstantVol(today, calendar, sigma, dc))\n",
        "    bsm_process = ql.BlackScholesMertonProcess(ql.QuoteHandle(ql.SimpleQuote(S0)), d_ts, r_ts, sigma_ts)\n",
        "\n",
        "    binomial_engine = ql.BinomialVanillaEngine(bsm_process, \"crr\", 100)\n",
        "    bermudan_option.setPricingEngine(binomial_engine)\n",
        "    return bermudan_option.NPV()"
      ],
      "metadata": {
        "id": "lpEWUgiOZt2u"
      },
      "execution_count": null,
      "outputs": []
    },
    {
      "cell_type": "code",
      "source": [
        "pricing_dict = {}\n",
        "pricing_dict['Simple Bermudan - Binomial Tree'] = get_simple_bermudan_option()\n",
        "pricing_df = pd.DataFrame.from_dict(pricing_dict, orient='index')\n",
        "pricing_df.columns = ['Option Price']\n",
        "print(pricing_df)"
      ],
      "metadata": {
        "colab": {
          "base_uri": "https://localhost:8080/"
        },
        "id": "97Hpk86DZp4Z",
        "outputId": "71927f0e-4480-46ff-e41f-a2967ae27f31"
      },
      "execution_count": null,
      "outputs": [
        {
          "output_type": "stream",
          "name": "stdout",
          "text": [
            "                                 Option Price\n",
            "Simple Bermudan - Binomial Tree       0.16845\n"
          ]
        }
      ]
    },
    {
      "cell_type": "markdown",
      "source": [
        "**Using Reinforcement Learning Solver to Solve Simple Bermudan Put Option Prices**"
      ],
      "metadata": {
        "id": "injAyCSJdVPJ"
      }
    },
    {
      "cell_type": "markdown",
      "source": [
        "**Deep-Q Network**"
      ],
      "metadata": {
        "id": "uSXDcqBJ-mfS"
      }
    },
    {
      "cell_type": "code",
      "source": [
        "!pip install -q tf-agents\n",
        "!pip install tensorflow_addons"
      ],
      "metadata": {
        "id": "i2ONsJxzd9kR",
        "colab": {
          "base_uri": "https://localhost:8080/"
        },
        "outputId": "471de83a-9b5e-4b97-ae0d-9c3d5143f6dc"
      },
      "execution_count": null,
      "outputs": [
        {
          "output_type": "stream",
          "name": "stdout",
          "text": [
            "Looking in indexes: https://pypi.org/simple, https://us-python.pkg.dev/colab-wheels/public/simple/\n",
            "Collecting tensorflow_addons\n",
            "  Downloading tensorflow_addons-0.17.0-cp37-cp37m-manylinux_2_17_x86_64.manylinux2014_x86_64.whl (1.1 MB)\n",
            "\u001b[K     |████████████████████████████████| 1.1 MB 25.4 MB/s \n",
            "\u001b[?25hRequirement already satisfied: typeguard>=2.7 in /usr/local/lib/python3.7/dist-packages (from tensorflow_addons) (2.7.1)\n",
            "Requirement already satisfied: packaging in /usr/local/lib/python3.7/dist-packages (from tensorflow_addons) (21.3)\n",
            "Requirement already satisfied: pyparsing!=3.0.5,>=2.0.2 in /usr/local/lib/python3.7/dist-packages (from packaging->tensorflow_addons) (3.0.9)\n",
            "Installing collected packages: tensorflow-addons\n",
            "Successfully installed tensorflow-addons-0.17.0\n"
          ]
        }
      ]
    },
    {
      "cell_type": "code",
      "source": [
        "import matplotlib.pyplot as plt\n",
        "from tf_agents.policies import policy_saver\n",
        "import tempfile\n",
        "import random\n",
        "import os\n",
        "from tf_agents.utils import common  # loss function\n",
        "from tf_agents.trajectories import trajectory  # s->s' trajectory\n",
        "from tf_agents.replay_buffers import tf_uniform_replay_buffer  # replay buffer\n",
        "from tf_agents.networks import q_network  # Q net\n",
        "from tf_agents.environments import tf_py_environment  # gym to tf gym\n",
        "from tf_agents.environments import gym_wrapper  # wrap OpenAI gym\n",
        "from tf_agents.agents.dqn import dqn_agent  # DQN Agent\n",
        "from tf_agents.agents.ppo import ppo_agent #PPO agent\n",
        "from tf_agents.networks.actor_distribution_network import ActorDistributionNetwork\n",
        "from tf_agents.networks.value_network import ValueNetwork\n",
        "from tensorflow.keras.activations import gelu\n",
        "from tensorflow_addons.optimizers import Yogi\n",
        "import tensorflow as tf\n",
        "import numpy as np\n",
        "import gym\n",
        "import QuantLib as ql  # used for calculating the price of option if we hold it, baseline\n",
        "\n",
        "# Bermudan Put Gym Environment\n",
        "class BermudanOptionEnv(gym.Env): #Bermudan Put\n",
        "    def __init__(self):\n",
        "        self.S0 = 5.0\n",
        "        self.K = 5.0\n",
        "        self.r = 0.03\n",
        "        self.sigma = 0.10\n",
        "        self.T = 2.0\n",
        "        self.N = 730    # 500 days\n",
        "        self.S1 = 0\n",
        "        self.reward = 0\n",
        "        self.current_day = 0    # from day 0 taking N steps to day N\n",
        "\n",
        "        self.action_space = gym.spaces.Discrete(2)         # 0: hold, 1:exercise, the action space, the RL should learn it\n",
        "        self.observation_space = gym.spaces.Box(low=np.array([0, 0]), high=np.array(\n",
        "            [np.inf, 1.0]), dtype=np.float32)      # S in [0, inf], tao in [0, 1]\n",
        "\n",
        "    def step(self, action):\n",
        "        if action == 1:        # we exercise the option\n",
        "            reward = max(self.K-self.S1, 0.0) * np.exp(-self.r * self.T * (self.current_day/self.N)) #early payoff\n",
        "            done = True\n",
        "        else:       # we hold the option, wait to the next exercise date\n",
        "            if self.current_day == self.N:    # at maturity\n",
        "                reward = max(self.K-self.S1, 0.0) * np.exp(-self.r * self.T) # payoff after discouted\n",
        "                done = True\n",
        "            else:  # move to the next exercise date\n",
        "                reward = 0 # no payoff\n",
        "                # lnS1 - lnS0 = (r - 1/2*sigma^2)*t + sigma * Wt: GBM stock path solution.\n",
        "                self.S1 = self.S1 * np.exp((self.r - 0.5 * self.sigma**2) * (self.current_day/self.N) + self.sigma * np.sqrt(self.current_day/self.N) * np.random.normal()) #GBM process price\n",
        "                self.current_day += 365\n",
        "                done = False # move to next time\n",
        "\n",
        "        tao = 1.0 - self.current_day/self.N       # time to maturity, in unit of fraction of total_length\n",
        "        return np.array([self.S1, tao]), reward, done, {}\n",
        "\n",
        "    def reset(self):\n",
        "        self.current_day = 0\n",
        "        self.S1 = self.S0\n",
        "        tao = 1.0 - self.current_day/self.N     # time to maturity, in unit of fraction of total_length\n",
        "        return [self.S1, tao]"
      ],
      "metadata": {
        "id": "GCA9sUWBeBKb"
      },
      "execution_count": null,
      "outputs": []
    },
    {
      "cell_type": "code",
      "source": [
        "# monte-carlo simulation of stock prices\n",
        "prices = []\n",
        "S1 = 5\n",
        "r = 0.03\n",
        "sigma = 0.10\n",
        "N = 730\n",
        "T = 2.0\n",
        "current_day = 0\n",
        "for j in range(10):\n",
        "  for i in range(N):\n",
        "    prices.append(S1)\n",
        "    S1 = S1 * np.exp((r - 0.5 * sigma**2) * (T/N) + sigma * np.sqrt(T/N) * np.random.normal()) #GBM process price\n",
        "  plt.plot(prices)\n",
        "  prices = []\n",
        "  S1 = 5\n",
        "  # current_day += 365\n",
        "plt.xlabel('Day')\n",
        "plt.ylabel('Underlying Stock Prices')\n",
        "plt.title(\"GBM Processes - 10 sample paths\")"
      ],
      "metadata": {
        "colab": {
          "base_uri": "https://localhost:8080/",
          "height": 313
        },
        "id": "KZFY7-3GmX6Y",
        "outputId": "6a2b3d0e-f9eb-4f11-a7a6-ed618a48a4fc"
      },
      "execution_count": null,
      "outputs": [
        {
          "output_type": "execute_result",
          "data": {
            "text/plain": [
              "Text(0.5, 1.0, 'GBM Processes - 10 sample paths')"
            ]
          },
          "metadata": {},
          "execution_count": 28
        },
        {
          "output_type": "display_data",
          "data": {
            "text/plain": [
              "<Figure size 432x288 with 1 Axes>"
            ],
            "image/png": "[encoded data removed]"
          },
          "metadata": {
            "needs_background": "light"
          }
        }
      ]
    },
    {
      "cell_type": "markdown",
      "source": [
        "**Deep Q Network**"
      ],
      "metadata": {
        "id": "wKwQgSXnhjh1"
      }
    },
    {
      "cell_type": "code",
      "execution_count": null,
      "metadata": {
        "colab": {
          "base_uri": "https://localhost:8080/",
          "height": 1000
        },
        "id": "HsRJyhBJYEV0",
        "outputId": "ec2d3f75-b8cb-4ff5-868f-aa99e37aac8f"
      },
      "outputs": [
        {
          "output_type": "stream",
          "name": "stderr",
          "text": [
            "/usr/local/lib/python3.7/dist-packages/gym/logger.py:30: UserWarning: \u001b[33mWARN: Box bound precision lowered by casting to float32\u001b[0m\n",
            "  warnings.warn(colorize('%s: %s'%('WARN', msg % args), 'yellow'))\n"
          ]
        },
        {
          "output_type": "stream",
          "name": "stdout",
          "text": [
            "WARNING:tensorflow:From /usr/local/lib/python3.7/dist-packages/tensorflow/python/autograph/impl/api.py:377: ReplayBuffer.get_next (from tf_agents.replay_buffers.replay_buffer) is deprecated and will be removed in a future version.\n",
            "Instructions for updating:\n",
            "Use `as_dataset(..., single_deterministic_pass=False) instead.\n",
            "WARNING:tensorflow:From /usr/local/lib/python3.7/dist-packages/tensorflow/python/util/dispatch.py:1082: calling foldr_v2 (from tensorflow.python.ops.functional_ops) with back_prop=False is deprecated and will be removed in a future version.\n",
            "Instructions for updating:\n",
            "back_prop=False is deprecated. Consider using tf.stop_gradient instead.\n",
            "Instead of:\n",
            "results = tf.foldr(fn, elems, back_prop=False)\n",
            "Use:\n",
            "results = tf.nest.map_structure(tf.stop_gradient, tf.foldr(fn, elems))\n",
            "step = 200: loss = 0.006929691880941391\n",
            "step = 400: loss = 0.010454745963215828\n",
            "step = 600: loss = 0.008971500210464\n",
            "step = 800: loss = 0.007425240240991116\n",
            "step = 1000: loss = 0.008744623512029648\n",
            "step = 1000: Average Return = 0.08278129994869232\n",
            "step = 1200: loss = 0.009004545398056507\n",
            "step = 1400: loss = 0.010528857819736004\n",
            "step = 1600: loss = 0.0061349933966994286\n",
            "step = 1800: loss = 0.0065862336196005344\n",
            "step = 2000: loss = 0.006593839731067419\n",
            "step = 2000: Average Return = 0.2215465009212494\n",
            "step = 2200: loss = 0.0035015123430639505\n",
            "step = 2400: loss = 0.004733758512884378\n",
            "step = 2600: loss = 0.003541000420227647\n",
            "step = 2800: loss = 0.005625464022159576\n",
            "step = 3000: loss = 0.0058705247938632965\n",
            "step = 3000: Average Return = 0.02982417307794094\n",
            "step = 3200: loss = 0.005895243491977453\n",
            "step = 3400: loss = 0.006506139412522316\n",
            "step = 3600: loss = 0.002800279762595892\n",
            "step = 3800: loss = 0.004861291032284498\n",
            "step = 4000: loss = 0.0037330910563468933\n",
            "step = 4000: Average Return = 0.1044318675994873\n",
            "step = 4200: loss = 0.005013365298509598\n",
            "step = 4400: loss = 0.006688621360808611\n",
            "step = 4600: loss = 0.005433836951851845\n",
            "step = 4800: loss = 0.006370846647769213\n",
            "step = 5000: loss = 0.007445954717695713\n",
            "step = 5000: Average Return = 0.13035406172275543\n",
            "step = 5200: loss = 0.005591885186731815\n",
            "step = 5400: loss = 0.005741295404732227\n",
            "step = 5600: loss = 0.009693749248981476\n",
            "step = 5800: loss = 0.005569770000874996\n",
            "step = 6000: loss = 0.007168885320425034\n",
            "step = 6000: Average Return = 0.0837583914399147\n",
            "step = 6200: loss = 0.004726757761090994\n",
            "step = 6400: loss = 0.006577732507139444\n",
            "step = 6600: loss = 0.006414037197828293\n",
            "step = 6800: loss = 0.007136585656553507\n",
            "step = 7000: loss = 0.0052145663648843765\n",
            "step = 7000: Average Return = 0.10421733558177948\n",
            "step = 7200: loss = 0.00904645025730133\n",
            "step = 7400: loss = 0.005557929631322622\n",
            "step = 7600: loss = 0.006971731781959534\n",
            "step = 7800: loss = 0.00716940313577652\n",
            "step = 8000: loss = 0.006107940338551998\n",
            "step = 8000: Average Return = 0.15041930973529816\n",
            "step = 8200: loss = 0.004848413169384003\n",
            "step = 8400: loss = 0.006091666407883167\n",
            "step = 8600: loss = 0.005921166390180588\n",
            "step = 8800: loss = 0.0051008304581046104\n",
            "step = 9000: loss = 0.006326412782073021\n",
            "step = 9000: Average Return = 0.028379231691360474\n",
            "step = 9200: loss = 0.006634124554693699\n",
            "step = 9400: loss = 0.0074352119117975235\n",
            "step = 9600: loss = 0.005876215640455484\n",
            "step = 9800: loss = 0.003824585350230336\n",
            "step = 10000: loss = 0.007377260364592075\n",
            "step = 10000: Average Return = 0.032549161463975906\n",
            "step = 10200: loss = 0.006738141179084778\n",
            "step = 10400: loss = 0.011955625377595425\n",
            "step = 10600: loss = 0.010331207886338234\n",
            "step = 10800: loss = 0.006698704324662685\n",
            "step = 11000: loss = 0.006484476383775473\n",
            "step = 11000: Average Return = 0.0615571066737175\n",
            "step = 11200: loss = 0.006472492590546608\n",
            "step = 11400: loss = 0.00538611551746726\n",
            "step = 11600: loss = 0.005656050052493811\n",
            "step = 11800: loss = 0.006545389536768198\n",
            "step = 12000: loss = 0.005074695218354464\n",
            "step = 12000: Average Return = 0.10006313025951385\n",
            "step = 12200: loss = 0.005431036464869976\n",
            "step = 12400: loss = 0.01141228899359703\n",
            "step = 12600: loss = 0.006874459329992533\n",
            "step = 12800: loss = 0.005852984264492989\n",
            "step = 13000: loss = 0.0059293764643371105\n",
            "step = 13000: Average Return = 0.10280226171016693\n",
            "step = 13200: loss = 0.007964606396853924\n",
            "step = 13400: loss = 0.008896657265722752\n",
            "step = 13600: loss = 0.00737111596390605\n",
            "step = 13800: loss = 0.00410986365750432\n",
            "step = 14000: loss = 0.004641808569431305\n",
            "step = 14000: Average Return = 0.09041781723499298\n",
            "step = 14200: loss = 0.0038320892490446568\n",
            "step = 14400: loss = 0.007020819932222366\n",
            "step = 14600: loss = 0.00335892615839839\n",
            "step = 14800: loss = 0.005719425156712532\n",
            "step = 15000: loss = 0.005644886288791895\n",
            "step = 15000: Average Return = 0.11093950271606445\n",
            "step = 15200: loss = 0.006213902495801449\n",
            "step = 15400: loss = 0.0053266966715455055\n",
            "step = 15600: loss = 0.004960946273058653\n",
            "step = 15800: loss = 0.004379959776997566\n",
            "step = 16000: loss = 0.0068375952541828156\n",
            "step = 16000: Average Return = 0.1092255488038063\n",
            "step = 16200: loss = 0.005304187536239624\n",
            "step = 16400: loss = 0.004496538080275059\n",
            "step = 16600: loss = 0.005756689235568047\n",
            "step = 16800: loss = 0.005245034582912922\n",
            "step = 17000: loss = 0.004367748275399208\n",
            "step = 17000: Average Return = 0.04721502214670181\n",
            "step = 17200: loss = 0.00580203952267766\n",
            "step = 17400: loss = 0.0064869774505496025\n",
            "step = 17600: loss = 0.004040290601551533\n",
            "step = 17800: loss = 0.004778541158884764\n",
            "step = 18000: loss = 0.00418234895914793\n",
            "step = 18000: Average Return = 0.2056991159915924\n",
            "step = 18200: loss = 0.0059148771688342094\n",
            "step = 18400: loss = 0.009739821776747704\n",
            "step = 18600: loss = 0.00378230307251215\n",
            "step = 18800: loss = 0.006107079330831766\n",
            "step = 19000: loss = 0.005467922426760197\n",
            "step = 19000: Average Return = 0.059283554553985596\n",
            "step = 19200: loss = 0.0054039121605455875\n",
            "step = 19400: loss = 0.006229232996702194\n",
            "step = 19600: loss = 0.008892567828297615\n",
            "step = 19800: loss = 0.004828024655580521\n",
            "step = 20000: loss = 0.005582859739661217\n",
            "step = 20000: Average Return = 0.07226968556642532\n"
          ]
        },
        {
          "output_type": "stream",
          "name": "stderr",
          "text": [
            "WARNING:absl:Function `function_with_signature` contains input name(s) 0/step_type, 0/reward, 0/discount, 0/observation with unsupported characters which will be renamed to step_type, reward, discount, observation in the SavedModel.\n",
            "WARNING:absl:Found untraced functions such as QNetwork_layer_call_fn, QNetwork_layer_call_and_return_conditional_losses, EncodingNetwork_layer_call_fn, EncodingNetwork_layer_call_and_return_conditional_losses, dense_1_layer_call_fn while saving (showing 5 of 10). These functions will not be directly callable after loading.\n"
          ]
        },
        {
          "output_type": "stream",
          "name": "stdout",
          "text": [
            "INFO:tensorflow:Assets written to: /tmp/policy/assets\n"
          ]
        },
        {
          "output_type": "stream",
          "name": "stderr",
          "text": [
            "/usr/local/lib/python3.7/dist-packages/tensorflow/python/saved_model/nested_structure_coder.py:524: UserWarning: Encoding a StructuredValue with type tf_agents.policies.greedy_policy.DeterministicWithLogProb_ACTTypeSpec; loading this StructuredValue will require that this type be imported and registered.\n",
            "  \"imported and registered.\" % type_spec_class_name)\n",
            "INFO:tensorflow:Assets written to: /tmp/policy/assets\n"
          ]
        },
        {
          "output_type": "display_data",
          "data": {
            "text/plain": [
              "<Figure size 432x288 with 1 Axes>"
            ],
            "image/png": "[encoded data removed]"
          },
          "metadata": {
            "needs_background": "light"
          }
        }
      ],
      "source": [
        "# Hyper-parameters\n",
        "num_iterations = 20000  # @param {type:\"integer\"}\n",
        "\n",
        "collect_steps_per_iteration = 10  # @param {type:\"integer\"}\n",
        "replay_buffer_max_length = 100000  # @param {type:\"integer\"}\n",
        "batch_size = 256  # @param {type:\"integer\"}\n",
        "\n",
        "learning_rate = 1e-3  # @param {type:\"number\"}\n",
        "num_eval_episodes = 10  # @param {type:\"integer\"}\n",
        "\n",
        "eval_interval = 1000  # @param {type:\"integer\"}\n",
        "log_interval = 200  # @param {type:\"integer\"}\n",
        "\n",
        "train_env_gym = BermudanOptionEnv() # american put env\n",
        "eval_env_gym = BermudanOptionEnv() # test case\n",
        "\n",
        "train_env_wrap = gym_wrapper.GymWrapper(train_env_gym)\n",
        "eval_env_wrap = gym_wrapper.GymWrapper(eval_env_gym)\n",
        "\n",
        "train_env = tf_py_environment.TFPyEnvironment(train_env_wrap)\n",
        "eval_env = tf_py_environment.TFPyEnvironment(eval_env_wrap)\n",
        "\n",
        "fc_layer_params = (100,) # number of hidden layers\n",
        "\n",
        "q_net = q_network.QNetwork(\n",
        "    train_env.observation_spec(),\n",
        "    train_env.action_spec(),\n",
        "    fc_layer_params=fc_layer_params)\n",
        "\n",
        "optimizer = tf.compat.v1.train.AdamOptimizer(learning_rate=learning_rate)\n",
        "\n",
        "train_step_counter = tf.Variable(0)\n",
        "\n",
        "agent = dqn_agent.DqnAgent(\n",
        "    train_env.time_step_spec(),\n",
        "    train_env.action_spec(),\n",
        "    q_network=q_net,\n",
        "    optimizer=optimizer,\n",
        "    td_errors_loss_fn=common.element_wise_squared_loss,\n",
        "    train_step_counter=train_step_counter)\n",
        "\n",
        "agent.initialize()\n",
        "\n",
        "replay_buffer = tf_uniform_replay_buffer.TFUniformReplayBuffer(\n",
        "    data_spec=agent.collect_data_spec,\n",
        "    batch_size=train_env.batch_size,\n",
        "    max_length=replay_buffer_max_length)\n",
        "\n",
        "# the buffer will update the Q table based on not only the past one step, but some older steps as well.\n",
        "\n",
        "dataset = replay_buffer.as_dataset(\n",
        "    num_parallel_calls=3,\n",
        "    sample_batch_size=batch_size,\n",
        "    num_steps=2).prefetch(3)\n",
        "\n",
        "iterator = iter(dataset)\n",
        "\n",
        "# eval_env evaluation\n",
        "\n",
        "# computer average return of the Q network, which in our case is the reward, which is premium option price\n",
        "def compute_avg_return(environment, policy, num_episodes=10):\n",
        "\n",
        "    total_return = 0.0\n",
        "    for i in range(num_episodes):\n",
        "\n",
        "        time_step = environment.reset()\n",
        "        episode_return = 0.0\n",
        "\n",
        "        while not time_step.is_last():\n",
        "            action_step = policy.action(time_step)\n",
        "            time_step = environment.step(action_step.action)\n",
        "            episode_return += time_step.reward\n",
        "        total_return += episode_return\n",
        "\n",
        "    avg_return = total_return / num_episodes\n",
        "    return avg_return.numpy()[0]\n",
        "\n",
        "# Data Collection\n",
        "\n",
        "def collect_step(environment, policy, buffer):\n",
        "    time_step = environment.current_time_step()\n",
        "    action_step = policy.action(time_step)\n",
        "    next_time_step = environment.step(action_step.action)\n",
        "    traj = trajectory.from_transition(time_step, action_step, next_time_step)\n",
        "\n",
        "    # Add trajectory to the replay buffer\n",
        "    buffer.add_batch(traj)\n",
        "\n",
        "# common loop in RL- especailly DQN\n",
        "def collect_data(env, policy, buffer, steps):\n",
        "    for i in range(steps):\n",
        "        collect_step(env, policy, buffer)\n",
        "\n",
        "# training!!\n",
        "agent.train = common.function(agent.train)\n",
        "\n",
        "# Reset the train step\n",
        "agent.train_step_counter.assign(0)\n",
        "\n",
        "# Evaluate the agent's policy once before training.\n",
        "avg_return = compute_avg_return(eval_env, agent.policy, num_eval_episodes)\n",
        "returns = [avg_return]\n",
        "\n",
        "for i in range(num_iterations):\n",
        "    # Collect a few steps using collect_policy and save to the replay buffer.\n",
        "    for j in range(collect_steps_per_iteration):\n",
        "        collect_step(train_env, agent.collect_policy, replay_buffer)\n",
        "\n",
        "    # Sample a batch of data from the buffer and update the agent's network.\n",
        "    experience, unused_info = next(iterator)\n",
        "    train_loss = agent.train(experience).loss\n",
        "\n",
        "    step = agent.train_step_counter.numpy()\n",
        "\n",
        "    if step % log_interval == 0:\n",
        "        print('step = {0}: loss = {1}'.format(step, train_loss))\n",
        "\n",
        "    if step % eval_interval == 0:\n",
        "        avg_return = compute_avg_return(\n",
        "            eval_env, agent.policy, num_eval_episodes)\n",
        "        print('step = {0}: Average Return = {1}'.format(step, avg_return))\n",
        "        returns.append(avg_return)\n",
        "\n",
        "# plot training iterations\n",
        "iterations = range(0, num_iterations + 1, eval_interval)\n",
        "plt.plot(iterations, returns)\n",
        "plt.ylabel('Average Return')\n",
        "plt.xlabel('Iterations')\n",
        "plt.ylim(top=2)\n",
        "\n",
        "# save policy\n",
        "tempdir = os.getenv(\"TEST_TMPDIR\", tempfile.gettempdir())\n",
        "policy_dir = os.path.join(tempdir, 'policy')\n",
        "tf_policy_saver = policy_saver.PolicySaver(agent.policy)\n",
        "tf_policy_saver.save(policy_dir)\n",
        "\n",
        "saved_policy = tf.compat.v2.saved_model.load(policy_dir)"
      ]
    },
    {
      "cell_type": "code",
      "source": [
        "npv = compute_avg_return(eval_env, agent.policy, num_episodes=10000) # 10000 path\n",
        "pricing_dict['RL-DQN - 10000 Path'] = npv\n",
        "pricing_dict"
      ],
      "metadata": {
        "colab": {
          "base_uri": "https://localhost:8080/"
        },
        "id": "4p0b4oxKwWUp",
        "outputId": "d7016396-d195-4972-b81a-ab30cb263425"
      },
      "execution_count": null,
      "outputs": [
        {
          "output_type": "execute_result",
          "data": {
            "text/plain": [
              "{'RL-DQN - 10000 Path': 0.10072408,\n",
              " 'Simple Bermudan - Binomial Tree': 0.1685054169178282}"
            ]
          },
          "metadata": {},
          "execution_count": 18
        }
      ]
    },
    {
      "cell_type": "code",
      "source": [
        "npv = compute_avg_return(eval_env, agent.policy, num_episodes=100) # 100 path\n",
        "pricing_dict['RL-DQN - 100 Path'] = npv\n",
        "npv = compute_avg_return(eval_env, agent.policy, num_episodes=1000) # 1000 path\n",
        "pricing_dict['RL-DQN - 1000 Path'] = npv\n",
        "# npv = compute_avg_return(eval_env, agent.policy, num_episodes=100000) # 100000 path\n",
        "# pricing_dict['RL-DQN - 100000 Path'] = npv"
      ],
      "metadata": {
        "id": "8fY1Jg-lJ_Oo"
      },
      "execution_count": null,
      "outputs": []
    },
    {
      "cell_type": "code",
      "source": [
        "pricing_dict"
      ],
      "metadata": {
        "colab": {
          "base_uri": "https://localhost:8080/"
        },
        "id": "32654yuJNfqP",
        "outputId": "60e6b2b8-cf23-4db0-d878-ed146acbb3d2"
      },
      "execution_count": null,
      "outputs": [
        {
          "output_type": "execute_result",
          "data": {
            "text/plain": [
              "{'RL-DQN - 100 Path': 0.09484039,\n",
              " 'RL-DQN - 1000 Path': 0.09903693,\n",
              " 'Simple Bermudan - Binomial Tree': 0.16844989996356916}"
            ]
          },
          "metadata": {},
          "execution_count": 24
        }
      ]
    },
    {
      "cell_type": "markdown",
      "source": [
        "**Double Deep Q Network**"
      ],
      "metadata": {
        "id": "dMALaov96-EP"
      }
    },
    {
      "cell_type": "code",
      "source": [
        "tf.random.set_seed(1234)\n",
        "# Hyper-parameters\n",
        "num_iterations = 20000  # @param {type:\"integer\"}\n",
        "\n",
        "collect_steps_per_iteration = 10  # @param {type:\"integer\"}\n",
        "replay_buffer_max_length = 100000  # @param {type:\"integer\"}\n",
        "batch_size = 256  # @param {type:\"integer\"}\n",
        "\n",
        "learning_rate = 1e-3  # @param {type:\"number\"}\n",
        "num_eval_episodes = 10  # @param {type:\"integer\"}\n",
        "\n",
        "eval_interval = 1000  # @param {type:\"integer\"}\n",
        "log_interval = 200  # @param {type:\"integer\"}\n",
        "\n",
        "train_env_gym = BermudanOptionEnv() # american put env\n",
        "eval_env_gym = BermudanOptionEnv() # test case\n",
        "\n",
        "train_env_wrap = gym_wrapper.GymWrapper(train_env_gym)\n",
        "eval_env_wrap = gym_wrapper.GymWrapper(eval_env_gym)\n",
        "\n",
        "train_env = tf_py_environment.TFPyEnvironment(train_env_wrap)\n",
        "eval_env = tf_py_environment.TFPyEnvironment(eval_env_wrap)\n",
        "\n",
        "fc_layer_params = (100,) # number of hidden layers\n",
        "\n",
        "q_net = q_network.QNetwork(\n",
        "    train_env.observation_spec(),\n",
        "    train_env.action_spec(),\n",
        "    fc_layer_params=fc_layer_params)\n",
        "\n",
        "optimizer = tf.compat.v1.train.AdamOptimizer(learning_rate=learning_rate)\n",
        "\n",
        "train_step_counter = tf.Variable(0)\n",
        "\n",
        "agent = dqn_agent.DdqnAgent(\n",
        "    train_env.time_step_spec(),\n",
        "    train_env.action_spec(),\n",
        "    q_network=q_net,\n",
        "    optimizer=optimizer,\n",
        "    td_errors_loss_fn=common.element_wise_squared_loss,\n",
        "    train_step_counter=train_step_counter)\n",
        "\n",
        "agent.initialize()\n",
        "\n",
        "replay_buffer = tf_uniform_replay_buffer.TFUniformReplayBuffer(\n",
        "    data_spec=agent.collect_data_spec,\n",
        "    batch_size=train_env.batch_size,\n",
        "    max_length=replay_buffer_max_length)\n",
        "\n",
        "# the buffer will update the Q table based on not only the past one step, but some older steps as well.\n",
        "\n",
        "dataset = replay_buffer.as_dataset(\n",
        "    num_parallel_calls=3,\n",
        "    sample_batch_size=batch_size,\n",
        "    num_steps=2).prefetch(3)\n",
        "\n",
        "iterator = iter(dataset)\n",
        "\n",
        "# eval_env evaluation\n",
        "\n",
        "# computer average return of the Q network, which in our case is the reward, which is premium option price\n",
        "def compute_avg_return(environment, policy, num_episodes=10):\n",
        "\n",
        "    total_return = 0.0\n",
        "    for i in range(num_episodes):\n",
        "\n",
        "        time_step = environment.reset()\n",
        "        episode_return = 0.0\n",
        "\n",
        "        while not time_step.is_last():\n",
        "            action_step = policy.action(time_step)\n",
        "            time_step = environment.step(action_step.action)\n",
        "            episode_return += time_step.reward\n",
        "        total_return += episode_return\n",
        "\n",
        "    avg_return = total_return / num_episodes\n",
        "    return avg_return.numpy()[0]\n",
        "\n",
        "# Data Collection\n",
        "\n",
        "def collect_step(environment, policy, buffer):\n",
        "    time_step = environment.current_time_step()\n",
        "    action_step = policy.action(time_step)\n",
        "    next_time_step = environment.step(action_step.action)\n",
        "    traj = trajectory.from_transition(time_step, action_step, next_time_step)\n",
        "\n",
        "    # Add trajectory to the replay buffer\n",
        "    buffer.add_batch(traj)\n",
        "\n",
        "# common loop in RL- especailly DQN\n",
        "def collect_data(env, policy, buffer, steps):\n",
        "    for i in range(steps):\n",
        "        collect_step(env, policy, buffer)\n",
        "\n",
        "# training!!\n",
        "agent.train = common.function(agent.train)\n",
        "\n",
        "# Reset the train step\n",
        "agent.train_step_counter.assign(0)\n",
        "\n",
        "# Evaluate the agent's policy once before training.\n",
        "avg_return = compute_avg_return(eval_env, agent.policy, num_eval_episodes)\n",
        "returns = [avg_return]\n",
        "\n",
        "for i in range(num_iterations):\n",
        "    # Collect a few steps using collect_policy and save to the replay buffer.\n",
        "    for j in range(collect_steps_per_iteration):\n",
        "        collect_step(train_env, agent.collect_policy, replay_buffer)\n",
        "\n",
        "    # Sample a batch of data from the buffer and update the agent's network.\n",
        "    experience, unused_info = next(iterator)\n",
        "    train_loss = agent.train(experience).loss\n",
        "\n",
        "    step = agent.train_step_counter.numpy()\n",
        "\n",
        "    if step % log_interval == 0:\n",
        "        print('step = {0}: loss = {1}'.format(step, train_loss))\n",
        "\n",
        "    if step % eval_interval == 0:\n",
        "        avg_return = compute_avg_return(\n",
        "            eval_env, agent.policy, num_eval_episodes)\n",
        "        print('step = {0}: Average Return = {1}'.format(step, avg_return))\n",
        "        returns.append(avg_return)\n",
        "\n",
        "# plot training iterations\n",
        "iterations = range(0, num_iterations + 1, eval_interval)\n",
        "plt.plot(iterations, returns)\n",
        "plt.ylabel('Average Return')\n",
        "plt.xlabel('Iterations')\n",
        "plt.ylim(top=2)\n",
        "\n",
        "# save policy\n",
        "tempdir = os.getenv(\"TEST_TMPDIR\", tempfile.gettempdir())\n",
        "policy_dir = os.path.join(tempdir, 'policy')\n",
        "tf_policy_saver = policy_saver.PolicySaver(agent.policy)\n",
        "tf_policy_saver.save(policy_dir)\n",
        "\n",
        "saved_policy = tf.compat.v2.saved_model.load(policy_dir)"
      ],
      "metadata": {
        "colab": {
          "base_uri": "https://localhost:8080/",
          "height": 1000
        },
        "id": "3Fgz4vOy7Bci",
        "outputId": "c7562de0-a921-4c56-858a-d554c868905f"
      },
      "execution_count": null,
      "outputs": [
        {
          "metadata": {
            "tags": null
          },
          "name": "stderr",
          "output_type": "stream",
          "text": [
            "/usr/local/lib/python3.7/dist-packages/gym/logger.py:30: UserWarning: \u001b[33mWARN: Box bound precision lowered by casting to float32\u001b[0m\n",
            "  warnings.warn(colorize('%s: %s'%('WARN', msg % args), 'yellow'))\n"
          ]
        },
        {
          "output_type": "stream",
          "name": "stdout",
          "text": [
            "step = 200: loss = 0.007318985648453236\n",
            "step = 400: loss = 0.004914357326924801\n",
            "step = 600: loss = 0.008899414911866188\n",
            "step = 800: loss = 0.008989217691123486\n",
            "step = 1000: loss = 0.008832154795527458\n",
            "step = 1000: Average Return = 0.0008396123303100467\n",
            "step = 1200: loss = 0.0050729564391076565\n",
            "step = 1400: loss = 0.007944485172629356\n",
            "step = 1600: loss = 0.006655403412878513\n",
            "step = 1800: loss = 0.002653733128681779\n",
            "step = 2000: loss = 0.008516775444149971\n",
            "step = 2000: Average Return = 0.1558341532945633\n",
            "step = 2200: loss = 0.006579430773854256\n",
            "step = 2400: loss = 0.0049057030119001865\n",
            "step = 2600: loss = 0.003363823750987649\n",
            "step = 2800: loss = 0.006345344707369804\n",
            "step = 3000: loss = 0.004293972626328468\n",
            "step = 3000: Average Return = 0.018200621008872986\n",
            "step = 3200: loss = 0.004928006790578365\n",
            "step = 3400: loss = 0.004779922775924206\n",
            "step = 3600: loss = 0.007553691975772381\n",
            "step = 3800: loss = 0.01154407113790512\n",
            "step = 4000: loss = 0.0076934886164963245\n",
            "step = 4000: Average Return = 0.17555297911167145\n",
            "step = 4200: loss = 0.005399312824010849\n",
            "step = 4400: loss = 0.004366240464150906\n",
            "step = 4600: loss = 0.005738822277635336\n",
            "step = 4800: loss = 0.004900476895272732\n",
            "step = 5000: loss = 0.007462445646524429\n",
            "step = 5000: Average Return = 0.09211400151252747\n",
            "step = 5200: loss = 0.007625553756952286\n",
            "step = 5400: loss = 0.005808520130813122\n",
            "step = 5600: loss = 0.005514409393072128\n",
            "step = 5800: loss = 0.007837283425033092\n",
            "step = 6000: loss = 0.005219492595642805\n",
            "step = 6000: Average Return = 0.2199600636959076\n",
            "step = 6200: loss = 0.006766249891370535\n",
            "step = 6400: loss = 0.005453757010400295\n",
            "step = 6600: loss = 0.007543059065937996\n",
            "step = 6800: loss = 0.004797704052180052\n",
            "step = 7000: loss = 0.005812829360365868\n",
            "step = 7000: Average Return = 0.0017131849890574813\n",
            "step = 7200: loss = 0.007014694157987833\n",
            "step = 7400: loss = 0.009505661204457283\n",
            "step = 7600: loss = 0.005325092934072018\n",
            "step = 7800: loss = 0.007586631458252668\n",
            "step = 8000: loss = 0.007657913025468588\n",
            "step = 8000: Average Return = 0.026850104331970215\n",
            "step = 8200: loss = 0.007887065410614014\n",
            "step = 8400: loss = 0.005569363012909889\n",
            "step = 8600: loss = 0.007224289700388908\n",
            "step = 8800: loss = 0.005238438956439495\n",
            "step = 9000: loss = 0.007776905316859484\n",
            "step = 9000: Average Return = 0.08292152732610703\n",
            "step = 9200: loss = 0.008537988178431988\n",
            "step = 9400: loss = 0.00501745380461216\n",
            "step = 9600: loss = 0.00525490939617157\n",
            "step = 9800: loss = 0.0043937996961176395\n",
            "step = 10000: loss = 0.005545922089368105\n",
            "step = 10000: Average Return = 0.14392176270484924\n",
            "step = 10200: loss = 0.006672309245914221\n",
            "step = 10400: loss = 0.004700189922004938\n",
            "step = 10600: loss = 0.004503800068050623\n",
            "step = 10800: loss = 0.005564729683101177\n",
            "step = 11000: loss = 0.004862357396632433\n",
            "step = 11000: Average Return = 0.16519324481487274\n",
            "step = 11200: loss = 0.007303591351956129\n",
            "step = 11400: loss = 0.006009829696267843\n",
            "step = 11600: loss = 0.0081047173589468\n",
            "step = 11800: loss = 0.004801508970558643\n",
            "step = 12000: loss = 0.009405910968780518\n",
            "step = 12000: Average Return = 0.14847233891487122\n",
            "step = 12200: loss = 0.007862845435738564\n",
            "step = 12400: loss = 0.0061883823946118355\n",
            "step = 12600: loss = 0.004757151007652283\n",
            "step = 12800: loss = 0.0059978775680065155\n",
            "step = 13000: loss = 0.006101333536207676\n",
            "step = 13000: Average Return = 0.09889797866344452\n",
            "step = 13200: loss = 0.004090659320354462\n",
            "step = 13400: loss = 0.004574777092784643\n",
            "step = 13600: loss = 0.006019644904881716\n",
            "step = 13800: loss = 0.007916399277746677\n",
            "step = 14000: loss = 0.0032870599534362555\n",
            "step = 14000: Average Return = 0.07725001126527786\n",
            "step = 14200: loss = 0.006568853743374348\n",
            "step = 14400: loss = 0.007436690852046013\n",
            "step = 14600: loss = 0.0049207694828510284\n",
            "step = 14800: loss = 0.003373566083610058\n",
            "step = 15000: loss = 0.00551300123333931\n",
            "step = 15000: Average Return = 0.08420684933662415\n",
            "step = 15200: loss = 0.006582321133464575\n",
            "step = 15400: loss = 0.005000175908207893\n",
            "step = 15600: loss = 0.006259666755795479\n",
            "step = 15800: loss = 0.0056442925706505775\n",
            "step = 16000: loss = 0.006127398461103439\n",
            "step = 16000: Average Return = 0.0519636869430542\n",
            "step = 16200: loss = 0.006666697561740875\n",
            "step = 16400: loss = 0.007029391825199127\n",
            "step = 16600: loss = 0.009461197070777416\n",
            "step = 16800: loss = 0.004332263488322496\n",
            "step = 17000: loss = 0.004927004687488079\n",
            "step = 17000: Average Return = 0.031005602329969406\n",
            "step = 17200: loss = 0.004155022092163563\n",
            "step = 17400: loss = 0.005530177615582943\n",
            "step = 17600: loss = 0.007507299073040485\n",
            "step = 17800: loss = 0.002725610276684165\n",
            "step = 18000: loss = 0.0037504108622670174\n",
            "step = 18000: Average Return = 0.1776702105998993\n",
            "step = 18200: loss = 0.005489662755280733\n",
            "step = 18400: loss = 0.004491101019084454\n",
            "step = 18600: loss = 0.0045183924958109856\n",
            "step = 18800: loss = 0.005457191728055477\n",
            "step = 19000: loss = 0.00495394691824913\n",
            "step = 19000: Average Return = 0.06924612820148468\n",
            "step = 19200: loss = 0.004270507954061031\n",
            "step = 19400: loss = 0.004880567081272602\n",
            "step = 19600: loss = 0.007185418624430895\n",
            "step = 19800: loss = 0.005209734663367271\n",
            "step = 20000: loss = 0.004953410476446152\n",
            "step = 20000: Average Return = 0.03201021999120712\n"
          ]
        },
        {
          "output_type": "stream",
          "name": "stderr",
          "text": [
            "WARNING:absl:Function `function_with_signature` contains input name(s) 0/step_type, 0/reward, 0/discount, 0/observation with unsupported characters which will be renamed to step_type, reward, discount, observation in the SavedModel.\n",
            "WARNING:absl:Found untraced functions such as QNetwork_layer_call_fn, QNetwork_layer_call_and_return_conditional_losses, EncodingNetwork_layer_call_fn, EncodingNetwork_layer_call_and_return_conditional_losses, dense_17_layer_call_fn while saving (showing 5 of 10). These functions will not be directly callable after loading.\n"
          ]
        },
        {
          "output_type": "stream",
          "name": "stdout",
          "text": [
            "INFO:tensorflow:Assets written to: /tmp/policy/assets\n"
          ]
        },
        {
          "output_type": "stream",
          "name": "stderr",
          "text": [
            "/usr/local/lib/python3.7/dist-packages/tensorflow/python/saved_model/nested_structure_coder.py:524: UserWarning: Encoding a StructuredValue with type tf_agents.policies.greedy_policy.DeterministicWithLogProb_ACTTypeSpec; loading this StructuredValue will require that this type be imported and registered.\n",
            "  \"imported and registered.\" % type_spec_class_name)\n",
            "INFO:tensorflow:Assets written to: /tmp/policy/assets\n"
          ]
        },
        {
          "output_type": "display_data",
          "data": {
            "text/plain": [
              "<Figure size 432x288 with 1 Axes>"
            ],
            "image/png": "[encoded data removed]"
          },
          "metadata": {
            "needs_background": "light"
          }
        }
      ]
    },
    {
      "cell_type": "code",
      "source": [
        "npv = compute_avg_return(eval_env, agent.policy, num_episodes=10000)\n",
        "pricing_dict['RL-DQQN - 10000 Path'] = npv\n",
        "pricing_dict"
      ],
      "metadata": {
        "colab": {
          "base_uri": "https://localhost:8080/"
        },
        "id": "DX_S3zurCT-g",
        "outputId": "ac277996-3e57-4a64-90cc-17d997a43fdb"
      },
      "execution_count": null,
      "outputs": [
        {
          "output_type": "execute_result",
          "data": {
            "text/plain": [
              "{'RL-DQN - 100 Path': 0.09484039,\n",
              " 'RL-DQN - 1000 Path': 0.09903693,\n",
              " 'RL-DQQN - 10000 Path': 0.10197765,\n",
              " 'Simple Bermudan - Binomial Tree': 0.16844989996356916}"
            ]
          },
          "metadata": {},
          "execution_count": 34
        }
      ]
    },
    {
      "cell_type": "markdown",
      "source": [
        "**PPO Agent**"
      ],
      "metadata": {
        "id": "PEjhkZQ1DwgF"
      }
    },
    {
      "cell_type": "code",
      "source": [
        "# Hyper-parameters\n",
        "num_iterations = 20000  # @param {type:\"integer\"}\n",
        "\n",
        "collect_steps_per_iteration = 10  # @param {type:\"integer\"}\n",
        "replay_buffer_max_length = 2500  # @param {type:\"integer\"}\n",
        "batch_size = 256  # @param {type:\"integer\"}\n",
        "\n",
        "learning_rate = 1e-3  # @param {type:\"number\"}\n",
        "num_eval_episodes = 10  # @param {type:\"integer\"}\n",
        "\n",
        "eval_interval = 1000  # @param {type:\"integer\"}\n",
        "log_interval = 200  # @param {type:\"integer\"}\n",
        "\n",
        "train_env_gym = BermudanOptionEnv() # american put env\n",
        "eval_env_gym = BermudanOptionEnv() # test case\n",
        "\n",
        "train_env_wrap = gym_wrapper.GymWrapper(train_env_gym)\n",
        "eval_env_wrap = gym_wrapper.GymWrapper(eval_env_gym)\n",
        "\n",
        "train_env = tf_py_environment.TFPyEnvironment(train_env_wrap)\n",
        "eval_env = tf_py_environment.TFPyEnvironment(eval_env_wrap)\n",
        "\n",
        "# 2. Constructing the Networks: Critic & Value.\n",
        "conv_layers = None\n",
        "fc_layers = [256, 256]\n",
        "train_step = tf.Variable(initial_value=0)\n",
        "actor_network = ActorDistributionNetwork(\n",
        "    input_tensor_spec=train_env.observation_spec(),\n",
        "    output_tensor_spec=train_env.action_spec(),\n",
        "    conv_layer_params=conv_layers,\n",
        "    fc_layer_params=fc_layers,\n",
        "    activation_fn=gelu\n",
        ")\n",
        "\n",
        "value_network = ValueNetwork(\n",
        "    input_tensor_spec=train_env.observation_spec(),\n",
        "    conv_layer_params=conv_layers,\n",
        "    fc_layer_params=fc_layers,\n",
        "    activation_fn=gelu\n",
        ")\n",
        "\n",
        "# optimizer = tf.compat.v1.train.AdamOptimizer(learning_rate=learning_rate)\n",
        "optimizer = Yogi(learning_rate=0.00025)\n",
        "#clipping_epsilon = 0.1\n",
        "td_lambda = 0.95\n",
        "gamma = 0.99\n",
        "num_epochs = 10\n",
        "#use_gae = True\n",
        "#entropy_coef = 0.005\n",
        "\n",
        "agent = ppo_agent.PPOAgent(\n",
        "    time_step_spec=train_env.time_step_spec(),\n",
        "    action_spec=train_env.action_spec(),\n",
        "    optimizer=optimizer,\n",
        "    actor_net=actor_network,\n",
        "    value_net=value_network,\n",
        "#    importance_ratio_clipping=clipping_epsilon,\n",
        "    lambda_value=td_lambda,\n",
        "    discount_factor=gamma,\n",
        "#    entropy_regularization=entropy_coef,\n",
        "#    use_gae=use_gae,\n",
        "    num_epochs=num_epochs,\n",
        "    train_step_counter=train_step\n",
        ")\n",
        "\n",
        "agent.initialize()\n",
        "\n",
        "replay_buffer = tf_uniform_replay_buffer.TFUniformReplayBuffer(\n",
        "    data_spec=agent.collect_data_spec,\n",
        "    batch_size=train_env.batch_size,\n",
        "    max_length=replay_buffer_max_length)\n",
        "\n",
        "# the buffer will update the Q table based on not only the past one step, but some older steps as well.\n",
        "\n",
        "dataset = replay_buffer.as_dataset(\n",
        "    num_parallel_calls=3,\n",
        "    sample_batch_size=batch_size,\n",
        "    num_steps=2).prefetch(3)\n",
        "\n",
        "iterator = iter(dataset)\n",
        "\n",
        "# eval_env evaluation\n",
        "\n",
        "# computer average return of the Q network, which in our case is the reward, which is premium option price\n",
        "def compute_avg_return(environment, policy, num_episodes=10):\n",
        "\n",
        "    total_return = 0.0\n",
        "    for i in range(num_episodes):\n",
        "\n",
        "        time_step = environment.reset()\n",
        "        episode_return = 0.0\n",
        "\n",
        "        while not time_step.is_last():\n",
        "            action_step = policy.action(time_step)\n",
        "            time_step = environment.step(action_step.action)\n",
        "            episode_return += time_step.reward\n",
        "        total_return += episode_return\n",
        "\n",
        "    avg_return = total_return / num_episodes\n",
        "    return avg_return.numpy()[0]\n",
        "\n",
        "# Data Collection\n",
        "\n",
        "def collect_step(environment, policy, buffer):\n",
        "    time_step = environment.current_time_step()\n",
        "    action_step = policy.action(time_step)\n",
        "    next_time_step = environment.step(action_step.action)\n",
        "    traj = trajectory.from_transition(time_step, action_step, next_time_step)\n",
        "\n",
        "    # Add trajectory to the replay buffer\n",
        "    buffer.add_batch(traj)\n",
        "\n",
        "# common loop in RL- especailly DQN\n",
        "def collect_data(env, policy, buffer, steps):\n",
        "    for i in range(steps):\n",
        "        collect_step(env, policy, buffer)\n",
        "\n",
        "# training!!\n",
        "agent.train = common.function(agent.train)\n",
        "\n",
        "# Reset the train step\n",
        "agent.train_step_counter.assign(0)\n",
        "\n",
        "# Evaluate the agent's policy once before training.\n",
        "avg_return = compute_avg_return(eval_env, agent.policy, num_eval_episodes)\n",
        "returns = [avg_return]\n",
        "\n",
        "for i in range(num_iterations):\n",
        "    # Collect a few steps using collect_policy and save to the replay buffer.\n",
        "    for j in range(collect_steps_per_iteration):\n",
        "        collect_step(train_env, agent.collect_policy, replay_buffer)\n",
        "\n",
        "    # Sample a batch of data from the buffer and update the agent's network.\n",
        "    experience, unused_info = next(iterator)\n",
        "    train_loss = agent.train(experience).loss\n",
        "\n",
        "    step = agent.train_step_counter.numpy()\n",
        "\n",
        "    if step % log_interval == 0:\n",
        "        print('step = {0}: loss = {1}'.format(step, train_loss))\n",
        "\n",
        "    if step % eval_interval == 0:\n",
        "        avg_return = compute_avg_return(\n",
        "            eval_env, agent.policy, num_eval_episodes)\n",
        "        print('step = {0}: Average Return = {1}'.format(step, avg_return))\n",
        "        returns.append(avg_return)\n",
        "        # save policy\n",
        "        tempdir = os.getenv(\"TEST_TMPDIR\", tempfile.gettempdir())\n",
        "        policy_dir = os.path.join(tempdir, 'policy')\n",
        "        tf_policy_saver = policy_saver.PolicySaver(agent.policy)\n",
        "        tf_policy_saver.save(policy_dir)\n",
        "\n",
        "        saved_policy = tf.compat.v2.saved_model.load(policy_dir)\n",
        "\n",
        "# plot training iterations\n",
        "iterations = range(0, num_iterations + 1, eval_interval)\n",
        "plt.plot(iterations, returns)\n",
        "plt.ylabel('Average Return')\n",
        "plt.xlabel('Iterations')\n",
        "plt.ylim(top=2)\n",
        "\n",
        "# save policy\n",
        "tempdir = os.getenv(\"TEST_TMPDIR\", tempfile.gettempdir())\n",
        "policy_dir = os.path.join(tempdir, 'policy')\n",
        "tf_policy_saver = policy_saver.PolicySaver(agent.policy)\n",
        "tf_policy_saver.save(policy_dir)\n",
        "\n",
        "saved_policy = tf.compat.v2.saved_model.load(policy_dir)"
      ],
      "metadata": {
        "colab": {
          "base_uri": "https://localhost:8080/",
          "height": 1000
        },
        "id": "F14EGGqVDyPo",
        "outputId": "c89f7533-01da-469b-a9df-c4662918fca7"
      },
      "execution_count": null,
      "outputs": [
        {
          "output_type": "stream",
          "name": "stderr",
          "text": [
            "/usr/local/lib/python3.7/dist-packages/gym/logger.py:30: UserWarning: \u001b[33mWARN: Box bound precision lowered by casting to float32\u001b[0m\n",
            "  warnings.warn(colorize('%s: %s'%('WARN', msg % args), 'yellow'))\n"
          ]
        },
        {
          "output_type": "stream",
          "name": "stdout",
          "text": [
            "step = 200: loss = 0.13657960295677185\n",
            "step = 400: loss = -0.039122067391872406\n",
            "step = 600: loss = 0.3172760307788849\n",
            "step = 800: loss = 0.5384962558746338\n",
            "step = 1000: loss = 0.35453471541404724\n",
            "step = 1000: Average Return = 0.06383291631937027\n"
          ]
        },
        {
          "output_type": "stream",
          "name": "stderr",
          "text": [
            "WARNING:absl:Function `function_with_signature` contains input name(s) 0/step_type, 0/reward, 0/discount, 0/observation with unsupported characters which will be renamed to step_type, reward, discount, observation in the SavedModel.\n",
            "WARNING:absl:Found untraced functions such as ActorDistributionNetwork_layer_call_fn, ActorDistributionNetwork_layer_call_and_return_conditional_losses, ValueNetwork_layer_call_fn, ValueNetwork_layer_call_and_return_conditional_losses, EncodingNetwork_layer_call_fn while saving (showing 5 of 26). These functions will not be directly callable after loading.\n",
            "/usr/local/lib/python3.7/dist-packages/tensorflow/python/saved_model/nested_structure_coder.py:524: UserWarning: Encoding a StructuredValue with type tf_agents.policies.greedy_policy.DeterministicWithLogProb_ACTTypeSpec; loading this StructuredValue will require that this type be imported and registered.\n",
            "  \"imported and registered.\" % type_spec_class_name)\n"
          ]
        },
        {
          "output_type": "stream",
          "name": "stdout",
          "text": [
            "INFO:tensorflow:Assets written to: /tmp/policy/assets\n"
          ]
        },
        {
          "output_type": "stream",
          "name": "stderr",
          "text": [
            "INFO:tensorflow:Assets written to: /tmp/policy/assets\n"
          ]
        },
        {
          "output_type": "stream",
          "name": "stdout",
          "text": [
            "step = 1200: loss = 0.4345945417881012\n",
            "step = 1400: loss = 0.1441502869129181\n",
            "step = 1600: loss = 0.1874113380908966\n",
            "step = 1800: loss = 0.11457064747810364\n",
            "step = 2000: loss = 0.44297051429748535\n",
            "step = 2000: Average Return = 0.04190125688910484\n"
          ]
        },
        {
          "output_type": "stream",
          "name": "stderr",
          "text": [
            "WARNING:absl:Function `function_with_signature` contains input name(s) 0/step_type, 0/reward, 0/discount, 0/observation with unsupported characters which will be renamed to step_type, reward, discount, observation in the SavedModel.\n",
            "WARNING:absl:Found untraced functions such as ActorDistributionNetwork_layer_call_fn, ActorDistributionNetwork_layer_call_and_return_conditional_losses, ValueNetwork_layer_call_fn, ValueNetwork_layer_call_and_return_conditional_losses, EncodingNetwork_layer_call_fn while saving (showing 5 of 26). These functions will not be directly callable after loading.\n",
            "/usr/local/lib/python3.7/dist-packages/tensorflow/python/saved_model/nested_structure_coder.py:524: UserWarning: Encoding a StructuredValue with type tf_agents.policies.greedy_policy.DeterministicWithLogProb_ACTTypeSpec; loading this StructuredValue will require that this type be imported and registered.\n",
            "  \"imported and registered.\" % type_spec_class_name)\n"
          ]
        },
        {
          "output_type": "stream",
          "name": "stdout",
          "text": [
            "INFO:tensorflow:Assets written to: /tmp/policy/assets\n"
          ]
        },
        {
          "output_type": "stream",
          "name": "stderr",
          "text": [
            "INFO:tensorflow:Assets written to: /tmp/policy/assets\n"
          ]
        },
        {
          "output_type": "stream",
          "name": "stdout",
          "text": [
            "step = 2200: loss = 0.3111964166164398\n",
            "step = 2400: loss = 0.10341902822256088\n",
            "step = 2600: loss = 0.1006758064031601\n",
            "step = 2800: loss = 0.15501634776592255\n",
            "step = 3000: loss = 0.22402936220169067\n",
            "step = 3000: Average Return = 0.01745353266596794\n"
          ]
        },
        {
          "output_type": "stream",
          "name": "stderr",
          "text": [
            "WARNING:absl:Function `function_with_signature` contains input name(s) 0/step_type, 0/reward, 0/discount, 0/observation with unsupported characters which will be renamed to step_type, reward, discount, observation in the SavedModel.\n",
            "WARNING:absl:Found untraced functions such as ActorDistributionNetwork_layer_call_fn, ActorDistributionNetwork_layer_call_and_return_conditional_losses, ValueNetwork_layer_call_fn, ValueNetwork_layer_call_and_return_conditional_losses, EncodingNetwork_layer_call_fn while saving (showing 5 of 26). These functions will not be directly callable after loading.\n"
          ]
        },
        {
          "output_type": "stream",
          "name": "stdout",
          "text": [
            "INFO:tensorflow:Assets written to: /tmp/policy/assets\n"
          ]
        },
        {
          "output_type": "stream",
          "name": "stderr",
          "text": [
            "/usr/local/lib/python3.7/dist-packages/tensorflow/python/saved_model/nested_structure_coder.py:524: UserWarning: Encoding a StructuredValue with type tf_agents.policies.greedy_policy.DeterministicWithLogProb_ACTTypeSpec; loading this StructuredValue will require that this type be imported and registered.\n",
            "  \"imported and registered.\" % type_spec_class_name)\n",
            "INFO:tensorflow:Assets written to: /tmp/policy/assets\n"
          ]
        },
        {
          "output_type": "stream",
          "name": "stdout",
          "text": [
            "step = 3200: loss = 0.16677585244178772\n",
            "step = 3400: loss = 0.12372611463069916\n",
            "step = 3600: loss = 0.19889238476753235\n",
            "step = 3800: loss = 0.25193101167678833\n",
            "step = 4000: loss = 0.1527845710515976\n",
            "step = 4000: Average Return = 0.10168111324310303\n"
          ]
        },
        {
          "output_type": "stream",
          "name": "stderr",
          "text": [
            "WARNING:absl:Function `function_with_signature` contains input name(s) 0/step_type, 0/reward, 0/discount, 0/observation with unsupported characters which will be renamed to step_type, reward, discount, observation in the SavedModel.\n",
            "WARNING:absl:Found untraced functions such as ActorDistributionNetwork_layer_call_fn, ActorDistributionNetwork_layer_call_and_return_conditional_losses, ValueNetwork_layer_call_fn, ValueNetwork_layer_call_and_return_conditional_losses, EncodingNetwork_layer_call_fn while saving (showing 5 of 26). These functions will not be directly callable after loading.\n",
            "/usr/local/lib/python3.7/dist-packages/tensorflow/python/saved_model/nested_structure_coder.py:524: UserWarning: Encoding a StructuredValue with type tf_agents.policies.greedy_policy.DeterministicWithLogProb_ACTTypeSpec; loading this StructuredValue will require that this type be imported and registered.\n",
            "  \"imported and registered.\" % type_spec_class_name)\n"
          ]
        },
        {
          "output_type": "stream",
          "name": "stdout",
          "text": [
            "INFO:tensorflow:Assets written to: /tmp/policy/assets\n"
          ]
        },
        {
          "output_type": "stream",
          "name": "stderr",
          "text": [
            "INFO:tensorflow:Assets written to: /tmp/policy/assets\n"
          ]
        },
        {
          "output_type": "stream",
          "name": "stdout",
          "text": [
            "step = 4200: loss = 0.20523428916931152\n",
            "step = 4400: loss = 0.22468361258506775\n",
            "step = 4600: loss = 0.1904739886522293\n",
            "step = 4800: loss = 0.2992331385612488\n",
            "step = 5000: loss = 0.22041404247283936\n",
            "step = 5000: Average Return = 0.09086257219314575\n"
          ]
        },
        {
          "output_type": "stream",
          "name": "stderr",
          "text": [
            "WARNING:absl:Function `function_with_signature` contains input name(s) 0/step_type, 0/reward, 0/discount, 0/observation with unsupported characters which will be renamed to step_type, reward, discount, observation in the SavedModel.\n",
            "WARNING:absl:Found untraced functions such as ActorDistributionNetwork_layer_call_fn, ActorDistributionNetwork_layer_call_and_return_conditional_losses, ValueNetwork_layer_call_fn, ValueNetwork_layer_call_and_return_conditional_losses, EncodingNetwork_layer_call_fn while saving (showing 5 of 26). These functions will not be directly callable after loading.\n",
            "/usr/local/lib/python3.7/dist-packages/tensorflow/python/saved_model/nested_structure_coder.py:524: UserWarning: Encoding a StructuredValue with type tf_agents.policies.greedy_policy.DeterministicWithLogProb_ACTTypeSpec; loading this StructuredValue will require that this type be imported and registered.\n",
            "  \"imported and registered.\" % type_spec_class_name)\n"
          ]
        },
        {
          "output_type": "stream",
          "name": "stdout",
          "text": [
            "INFO:tensorflow:Assets written to: /tmp/policy/assets\n"
          ]
        },
        {
          "output_type": "stream",
          "name": "stderr",
          "text": [
            "INFO:tensorflow:Assets written to: /tmp/policy/assets\n"
          ]
        },
        {
          "output_type": "stream",
          "name": "stdout",
          "text": [
            "step = 5200: loss = 0.27642327547073364\n",
            "step = 5400: loss = 0.17335611581802368\n",
            "step = 5600: loss = 0.1591019332408905\n",
            "step = 5800: loss = 0.292421817779541\n",
            "step = 6000: loss = 0.21563822031021118\n",
            "step = 6000: Average Return = 0.08574571460485458\n"
          ]
        },
        {
          "output_type": "stream",
          "name": "stderr",
          "text": [
            "WARNING:absl:Function `function_with_signature` contains input name(s) 0/step_type, 0/reward, 0/discount, 0/observation with unsupported characters which will be renamed to step_type, reward, discount, observation in the SavedModel.\n",
            "WARNING:absl:Found untraced functions such as ActorDistributionNetwork_layer_call_fn, ActorDistributionNetwork_layer_call_and_return_conditional_losses, ValueNetwork_layer_call_fn, ValueNetwork_layer_call_and_return_conditional_losses, EncodingNetwork_layer_call_fn while saving (showing 5 of 26). These functions will not be directly callable after loading.\n"
          ]
        },
        {
          "output_type": "stream",
          "name": "stdout",
          "text": [
            "INFO:tensorflow:Assets written to: /tmp/policy/assets\n"
          ]
        },
        {
          "output_type": "stream",
          "name": "stderr",
          "text": [
            "/usr/local/lib/python3.7/dist-packages/tensorflow/python/saved_model/nested_structure_coder.py:524: UserWarning: Encoding a StructuredValue with type tf_agents.policies.greedy_policy.DeterministicWithLogProb_ACTTypeSpec; loading this StructuredValue will require that this type be imported and registered.\n",
            "  \"imported and registered.\" % type_spec_class_name)\n",
            "INFO:tensorflow:Assets written to: /tmp/policy/assets\n"
          ]
        },
        {
          "output_type": "stream",
          "name": "stdout",
          "text": [
            "step = 6200: loss = 0.23651579022407532\n",
            "step = 6400: loss = 0.22646808624267578\n",
            "step = 6600: loss = 0.31767889857292175\n",
            "step = 6800: loss = 0.11764249205589294\n",
            "step = 7000: loss = 0.12372787296772003\n",
            "step = 7000: Average Return = 0.036849986761808395\n"
          ]
        },
        {
          "output_type": "stream",
          "name": "stderr",
          "text": [
            "WARNING:absl:Function `function_with_signature` contains input name(s) 0/step_type, 0/reward, 0/discount, 0/observation with unsupported characters which will be renamed to step_type, reward, discount, observation in the SavedModel.\n",
            "WARNING:absl:Found untraced functions such as ActorDistributionNetwork_layer_call_fn, ActorDistributionNetwork_layer_call_and_return_conditional_losses, ValueNetwork_layer_call_fn, ValueNetwork_layer_call_and_return_conditional_losses, EncodingNetwork_layer_call_fn while saving (showing 5 of 26). These functions will not be directly callable after loading.\n"
          ]
        },
        {
          "output_type": "stream",
          "name": "stdout",
          "text": [
            "INFO:tensorflow:Assets written to: /tmp/policy/assets\n"
          ]
        },
        {
          "output_type": "stream",
          "name": "stderr",
          "text": [
            "/usr/local/lib/python3.7/dist-packages/tensorflow/python/saved_model/nested_structure_coder.py:524: UserWarning: Encoding a StructuredValue with type tf_agents.policies.greedy_policy.DeterministicWithLogProb_ACTTypeSpec; loading this StructuredValue will require that this type be imported and registered.\n",
            "  \"imported and registered.\" % type_spec_class_name)\n",
            "INFO:tensorflow:Assets written to: /tmp/policy/assets\n"
          ]
        },
        {
          "output_type": "stream",
          "name": "stdout",
          "text": [
            "step = 7200: loss = 0.19086897373199463\n",
            "step = 7400: loss = 0.26087915897369385\n",
            "step = 7600: loss = 0.20855779945850372\n",
            "step = 7800: loss = 0.2973363399505615\n",
            "step = 8000: loss = 0.33139723539352417\n",
            "step = 8000: Average Return = 0.12670768797397614\n"
          ]
        },
        {
          "output_type": "stream",
          "name": "stderr",
          "text": [
            "WARNING:absl:Function `function_with_signature` contains input name(s) 0/step_type, 0/reward, 0/discount, 0/observation with unsupported characters which will be renamed to step_type, reward, discount, observation in the SavedModel.\n",
            "WARNING:absl:Found untraced functions such as ActorDistributionNetwork_layer_call_fn, ActorDistributionNetwork_layer_call_and_return_conditional_losses, ValueNetwork_layer_call_fn, ValueNetwork_layer_call_and_return_conditional_losses, EncodingNetwork_layer_call_fn while saving (showing 5 of 26). These functions will not be directly callable after loading.\n",
            "/usr/local/lib/python3.7/dist-packages/tensorflow/python/saved_model/nested_structure_coder.py:524: UserWarning: Encoding a StructuredValue with type tf_agents.policies.greedy_policy.DeterministicWithLogProb_ACTTypeSpec; loading this StructuredValue will require that this type be imported and registered.\n",
            "  \"imported and registered.\" % type_spec_class_name)\n"
          ]
        },
        {
          "output_type": "stream",
          "name": "stdout",
          "text": [
            "INFO:tensorflow:Assets written to: /tmp/policy/assets\n"
          ]
        },
        {
          "output_type": "stream",
          "name": "stderr",
          "text": [
            "INFO:tensorflow:Assets written to: /tmp/policy/assets\n"
          ]
        },
        {
          "output_type": "stream",
          "name": "stdout",
          "text": [
            "step = 8200: loss = 0.21031861007213593\n",
            "step = 8400: loss = 0.20950767397880554\n",
            "step = 8600: loss = 0.2140866369009018\n",
            "step = 8800: loss = 0.22094886004924774\n",
            "step = 9000: loss = 0.14067992568016052\n",
            "step = 9000: Average Return = 0.06395238637924194\n"
          ]
        },
        {
          "output_type": "stream",
          "name": "stderr",
          "text": [
            "WARNING:absl:Function `function_with_signature` contains input name(s) 0/step_type, 0/reward, 0/discount, 0/observation with unsupported characters which will be renamed to step_type, reward, discount, observation in the SavedModel.\n",
            "WARNING:absl:Found untraced functions such as ActorDistributionNetwork_layer_call_fn, ActorDistributionNetwork_layer_call_and_return_conditional_losses, ValueNetwork_layer_call_fn, ValueNetwork_layer_call_and_return_conditional_losses, EncodingNetwork_layer_call_fn while saving (showing 5 of 26). These functions will not be directly callable after loading.\n",
            "/usr/local/lib/python3.7/dist-packages/tensorflow/python/saved_model/nested_structure_coder.py:524: UserWarning: Encoding a StructuredValue with type tf_agents.policies.greedy_policy.DeterministicWithLogProb_ACTTypeSpec; loading this StructuredValue will require that this type be imported and registered.\n",
            "  \"imported and registered.\" % type_spec_class_name)\n"
          ]
        },
        {
          "output_type": "stream",
          "name": "stdout",
          "text": [
            "INFO:tensorflow:Assets written to: /tmp/policy/assets\n"
          ]
        },
        {
          "output_type": "stream",
          "name": "stderr",
          "text": [
            "INFO:tensorflow:Assets written to: /tmp/policy/assets\n"
          ]
        },
        {
          "output_type": "stream",
          "name": "stdout",
          "text": [
            "step = 9200: loss = 0.2986491918563843\n",
            "step = 9400: loss = 0.19179925322532654\n",
            "step = 9600: loss = 0.1883305460214615\n",
            "step = 9800: loss = 0.17561747133731842\n",
            "step = 10000: loss = 0.20667767524719238\n",
            "step = 10000: Average Return = 0.1729131042957306\n"
          ]
        },
        {
          "output_type": "stream",
          "name": "stderr",
          "text": [
            "WARNING:absl:Function `function_with_signature` contains input name(s) 0/step_type, 0/reward, 0/discount, 0/observation with unsupported characters which will be renamed to step_type, reward, discount, observation in the SavedModel.\n",
            "WARNING:absl:Found untraced functions such as ActorDistributionNetwork_layer_call_fn, ActorDistributionNetwork_layer_call_and_return_conditional_losses, ValueNetwork_layer_call_fn, ValueNetwork_layer_call_and_return_conditional_losses, EncodingNetwork_layer_call_fn while saving (showing 5 of 26). These functions will not be directly callable after loading.\n",
            "/usr/local/lib/python3.7/dist-packages/tensorflow/python/saved_model/nested_structure_coder.py:524: UserWarning: Encoding a StructuredValue with type tf_agents.policies.greedy_policy.DeterministicWithLogProb_ACTTypeSpec; loading this StructuredValue will require that this type be imported and registered.\n",
            "  \"imported and registered.\" % type_spec_class_name)\n"
          ]
        },
        {
          "output_type": "stream",
          "name": "stdout",
          "text": [
            "INFO:tensorflow:Assets written to: /tmp/policy/assets\n"
          ]
        },
        {
          "output_type": "stream",
          "name": "stderr",
          "text": [
            "INFO:tensorflow:Assets written to: /tmp/policy/assets\n"
          ]
        },
        {
          "output_type": "stream",
          "name": "stdout",
          "text": [
            "step = 10200: loss = 0.3152913451194763\n",
            "step = 10400: loss = 0.15011794865131378\n",
            "step = 10600: loss = 0.21752241253852844\n",
            "step = 10800: loss = 0.23612971603870392\n",
            "step = 11000: loss = 0.09867341816425323\n",
            "step = 11000: Average Return = 0.08154674619436264\n"
          ]
        },
        {
          "output_type": "stream",
          "name": "stderr",
          "text": [
            "WARNING:absl:Function `function_with_signature` contains input name(s) 0/step_type, 0/reward, 0/discount, 0/observation with unsupported characters which will be renamed to step_type, reward, discount, observation in the SavedModel.\n",
            "WARNING:absl:Found untraced functions such as ActorDistributionNetwork_layer_call_fn, ActorDistributionNetwork_layer_call_and_return_conditional_losses, ValueNetwork_layer_call_fn, ValueNetwork_layer_call_and_return_conditional_losses, EncodingNetwork_layer_call_fn while saving (showing 5 of 26). These functions will not be directly callable after loading.\n",
            "/usr/local/lib/python3.7/dist-packages/tensorflow/python/saved_model/nested_structure_coder.py:524: UserWarning: Encoding a StructuredValue with type tf_agents.policies.greedy_policy.DeterministicWithLogProb_ACTTypeSpec; loading this StructuredValue will require that this type be imported and registered.\n",
            "  \"imported and registered.\" % type_spec_class_name)\n"
          ]
        },
        {
          "output_type": "stream",
          "name": "stdout",
          "text": [
            "INFO:tensorflow:Assets written to: /tmp/policy/assets\n"
          ]
        },
        {
          "output_type": "stream",
          "name": "stderr",
          "text": [
            "INFO:tensorflow:Assets written to: /tmp/policy/assets\n"
          ]
        },
        {
          "output_type": "stream",
          "name": "stdout",
          "text": [
            "step = 11200: loss = 0.30636852979660034\n",
            "step = 11400: loss = 0.22061389684677124\n",
            "step = 11600: loss = 0.12256182730197906\n",
            "step = 11800: loss = 0.1941087543964386\n",
            "step = 12000: loss = 0.24901895225048065\n",
            "step = 12000: Average Return = 0.07665779441595078\n"
          ]
        },
        {
          "output_type": "stream",
          "name": "stderr",
          "text": [
            "WARNING:absl:Function `function_with_signature` contains input name(s) 0/step_type, 0/reward, 0/discount, 0/observation with unsupported characters which will be renamed to step_type, reward, discount, observation in the SavedModel.\n",
            "WARNING:absl:Found untraced functions such as ActorDistributionNetwork_layer_call_fn, ActorDistributionNetwork_layer_call_and_return_conditional_losses, ValueNetwork_layer_call_fn, ValueNetwork_layer_call_and_return_conditional_losses, EncodingNetwork_layer_call_fn while saving (showing 5 of 26). These functions will not be directly callable after loading.\n",
            "/usr/local/lib/python3.7/dist-packages/tensorflow/python/saved_model/nested_structure_coder.py:524: UserWarning: Encoding a StructuredValue with type tf_agents.policies.greedy_policy.DeterministicWithLogProb_ACTTypeSpec; loading this StructuredValue will require that this type be imported and registered.\n",
            "  \"imported and registered.\" % type_spec_class_name)\n"
          ]
        },
        {
          "output_type": "stream",
          "name": "stdout",
          "text": [
            "INFO:tensorflow:Assets written to: /tmp/policy/assets\n"
          ]
        },
        {
          "output_type": "stream",
          "name": "stderr",
          "text": [
            "INFO:tensorflow:Assets written to: /tmp/policy/assets\n"
          ]
        },
        {
          "output_type": "stream",
          "name": "stdout",
          "text": [
            "step = 12200: loss = 0.15673457086086273\n",
            "step = 12400: loss = 0.16606755554676056\n",
            "step = 12600: loss = 0.21756406128406525\n",
            "step = 12800: loss = 0.10126706957817078\n",
            "step = 13000: loss = 0.1950487345457077\n",
            "step = 13000: Average Return = 0.21859999001026154\n"
          ]
        },
        {
          "output_type": "stream",
          "name": "stderr",
          "text": [
            "WARNING:absl:Function `function_with_signature` contains input name(s) 0/step_type, 0/reward, 0/discount, 0/observation with unsupported characters which will be renamed to step_type, reward, discount, observation in the SavedModel.\n",
            "WARNING:absl:Found untraced functions such as ActorDistributionNetwork_layer_call_fn, ActorDistributionNetwork_layer_call_and_return_conditional_losses, ValueNetwork_layer_call_fn, ValueNetwork_layer_call_and_return_conditional_losses, EncodingNetwork_layer_call_fn while saving (showing 5 of 26). These functions will not be directly callable after loading.\n",
            "/usr/local/lib/python3.7/dist-packages/tensorflow/python/saved_model/nested_structure_coder.py:524: UserWarning: Encoding a StructuredValue with type tf_agents.policies.greedy_policy.DeterministicWithLogProb_ACTTypeSpec; loading this StructuredValue will require that this type be imported and registered.\n",
            "  \"imported and registered.\" % type_spec_class_name)\n"
          ]
        },
        {
          "output_type": "stream",
          "name": "stdout",
          "text": [
            "INFO:tensorflow:Assets written to: /tmp/policy/assets\n"
          ]
        },
        {
          "output_type": "stream",
          "name": "stderr",
          "text": [
            "INFO:tensorflow:Assets written to: /tmp/policy/assets\n"
          ]
        },
        {
          "output_type": "stream",
          "name": "stdout",
          "text": [
            "step = 13200: loss = 0.12795047461986542\n",
            "step = 13400: loss = 0.16562779247760773\n",
            "step = 13600: loss = 0.18070350587368011\n",
            "step = 13800: loss = 0.2197248637676239\n",
            "step = 14000: loss = 0.15284712612628937\n",
            "step = 14000: Average Return = 0.14327669143676758\n"
          ]
        },
        {
          "output_type": "stream",
          "name": "stderr",
          "text": [
            "WARNING:absl:Function `function_with_signature` contains input name(s) 0/step_type, 0/reward, 0/discount, 0/observation with unsupported characters which will be renamed to step_type, reward, discount, observation in the SavedModel.\n",
            "WARNING:absl:Found untraced functions such as ActorDistributionNetwork_layer_call_fn, ActorDistributionNetwork_layer_call_and_return_conditional_losses, ValueNetwork_layer_call_fn, ValueNetwork_layer_call_and_return_conditional_losses, EncodingNetwork_layer_call_fn while saving (showing 5 of 26). These functions will not be directly callable after loading.\n",
            "/usr/local/lib/python3.7/dist-packages/tensorflow/python/saved_model/nested_structure_coder.py:524: UserWarning: Encoding a StructuredValue with type tf_agents.policies.greedy_policy.DeterministicWithLogProb_ACTTypeSpec; loading this StructuredValue will require that this type be imported and registered.\n",
            "  \"imported and registered.\" % type_spec_class_name)\n"
          ]
        },
        {
          "output_type": "stream",
          "name": "stdout",
          "text": [
            "INFO:tensorflow:Assets written to: /tmp/policy/assets\n"
          ]
        },
        {
          "output_type": "stream",
          "name": "stderr",
          "text": [
            "INFO:tensorflow:Assets written to: /tmp/policy/assets\n"
          ]
        },
        {
          "output_type": "stream",
          "name": "stdout",
          "text": [
            "step = 14200: loss = 0.17796289920806885\n",
            "step = 14400: loss = 0.19420146942138672\n",
            "step = 14600: loss = 0.213609516620636\n",
            "step = 14800: loss = 0.22474482655525208\n",
            "step = 15000: loss = 0.21791888773441315\n",
            "step = 15000: Average Return = 0.1569899022579193\n"
          ]
        },
        {
          "output_type": "stream",
          "name": "stderr",
          "text": [
            "WARNING:absl:Function `function_with_signature` contains input name(s) 0/step_type, 0/reward, 0/discount, 0/observation with unsupported characters which will be renamed to step_type, reward, discount, observation in the SavedModel.\n",
            "WARNING:absl:Found untraced functions such as ActorDistributionNetwork_layer_call_fn, ActorDistributionNetwork_layer_call_and_return_conditional_losses, ValueNetwork_layer_call_fn, ValueNetwork_layer_call_and_return_conditional_losses, EncodingNetwork_layer_call_fn while saving (showing 5 of 26). These functions will not be directly callable after loading.\n",
            "/usr/local/lib/python3.7/dist-packages/tensorflow/python/saved_model/nested_structure_coder.py:524: UserWarning: Encoding a StructuredValue with type tf_agents.policies.greedy_policy.DeterministicWithLogProb_ACTTypeSpec; loading this StructuredValue will require that this type be imported and registered.\n",
            "  \"imported and registered.\" % type_spec_class_name)\n"
          ]
        },
        {
          "output_type": "stream",
          "name": "stdout",
          "text": [
            "INFO:tensorflow:Assets written to: /tmp/policy/assets\n"
          ]
        },
        {
          "output_type": "stream",
          "name": "stderr",
          "text": [
            "INFO:tensorflow:Assets written to: /tmp/policy/assets\n"
          ]
        },
        {
          "output_type": "stream",
          "name": "stdout",
          "text": [
            "step = 15200: loss = 0.2391628473997116\n",
            "step = 15400: loss = 0.2718994617462158\n",
            "step = 15600: loss = 0.2819845974445343\n",
            "step = 15800: loss = 0.23406405746936798\n",
            "step = 16000: loss = 0.4052269458770752\n",
            "step = 16000: Average Return = 0.07469187676906586\n"
          ]
        },
        {
          "output_type": "stream",
          "name": "stderr",
          "text": [
            "WARNING:absl:Function `function_with_signature` contains input name(s) 0/step_type, 0/reward, 0/discount, 0/observation with unsupported characters which will be renamed to step_type, reward, discount, observation in the SavedModel.\n",
            "WARNING:absl:Found untraced functions such as ActorDistributionNetwork_layer_call_fn, ActorDistributionNetwork_layer_call_and_return_conditional_losses, ValueNetwork_layer_call_fn, ValueNetwork_layer_call_and_return_conditional_losses, EncodingNetwork_layer_call_fn while saving (showing 5 of 26). These functions will not be directly callable after loading.\n",
            "/usr/local/lib/python3.7/dist-packages/tensorflow/python/saved_model/nested_structure_coder.py:524: UserWarning: Encoding a StructuredValue with type tf_agents.policies.greedy_policy.DeterministicWithLogProb_ACTTypeSpec; loading this StructuredValue will require that this type be imported and registered.\n",
            "  \"imported and registered.\" % type_spec_class_name)\n"
          ]
        },
        {
          "output_type": "stream",
          "name": "stdout",
          "text": [
            "INFO:tensorflow:Assets written to: /tmp/policy/assets\n"
          ]
        },
        {
          "output_type": "stream",
          "name": "stderr",
          "text": [
            "INFO:tensorflow:Assets written to: /tmp/policy/assets\n"
          ]
        },
        {
          "output_type": "stream",
          "name": "stdout",
          "text": [
            "step = 16200: loss = 0.22705894708633423\n",
            "step = 16400: loss = 0.20025552809238434\n",
            "step = 16600: loss = 0.1559785157442093\n",
            "step = 16800: loss = 0.19021940231323242\n",
            "step = 17000: loss = 0.22875261306762695\n",
            "step = 17000: Average Return = 0.11093215644359589\n"
          ]
        },
        {
          "output_type": "stream",
          "name": "stderr",
          "text": [
            "WARNING:absl:Function `function_with_signature` contains input name(s) 0/step_type, 0/reward, 0/discount, 0/observation with unsupported characters which will be renamed to step_type, reward, discount, observation in the SavedModel.\n",
            "WARNING:absl:Found untraced functions such as ActorDistributionNetwork_layer_call_fn, ActorDistributionNetwork_layer_call_and_return_conditional_losses, ValueNetwork_layer_call_fn, ValueNetwork_layer_call_and_return_conditional_losses, EncodingNetwork_layer_call_fn while saving (showing 5 of 26). These functions will not be directly callable after loading.\n",
            "/usr/local/lib/python3.7/dist-packages/tensorflow/python/saved_model/nested_structure_coder.py:524: UserWarning: Encoding a StructuredValue with type tf_agents.policies.greedy_policy.DeterministicWithLogProb_ACTTypeSpec; loading this StructuredValue will require that this type be imported and registered.\n",
            "  \"imported and registered.\" % type_spec_class_name)\n"
          ]
        },
        {
          "output_type": "stream",
          "name": "stdout",
          "text": [
            "INFO:tensorflow:Assets written to: /tmp/policy/assets\n"
          ]
        },
        {
          "output_type": "stream",
          "name": "stderr",
          "text": [
            "INFO:tensorflow:Assets written to: /tmp/policy/assets\n"
          ]
        },
        {
          "output_type": "stream",
          "name": "stdout",
          "text": [
            "step = 17200: loss = 0.3023195266723633\n",
            "step = 17400: loss = 0.1850292682647705\n",
            "step = 17600: loss = 0.22554068267345428\n",
            "step = 17800: loss = 0.17256319522857666\n",
            "step = 18000: loss = 0.2730114459991455\n",
            "step = 18000: Average Return = 0.10644765943288803\n"
          ]
        },
        {
          "output_type": "stream",
          "name": "stderr",
          "text": [
            "WARNING:absl:Function `function_with_signature` contains input name(s) 0/step_type, 0/reward, 0/discount, 0/observation with unsupported characters which will be renamed to step_type, reward, discount, observation in the SavedModel.\n",
            "WARNING:absl:Found untraced functions such as ActorDistributionNetwork_layer_call_fn, ActorDistributionNetwork_layer_call_and_return_conditional_losses, ValueNetwork_layer_call_fn, ValueNetwork_layer_call_and_return_conditional_losses, EncodingNetwork_layer_call_fn while saving (showing 5 of 26). These functions will not be directly callable after loading.\n",
            "/usr/local/lib/python3.7/dist-packages/tensorflow/python/saved_model/nested_structure_coder.py:524: UserWarning: Encoding a StructuredValue with type tf_agents.policies.greedy_policy.DeterministicWithLogProb_ACTTypeSpec; loading this StructuredValue will require that this type be imported and registered.\n",
            "  \"imported and registered.\" % type_spec_class_name)\n"
          ]
        },
        {
          "output_type": "stream",
          "name": "stdout",
          "text": [
            "INFO:tensorflow:Assets written to: /tmp/policy/assets\n"
          ]
        },
        {
          "output_type": "stream",
          "name": "stderr",
          "text": [
            "INFO:tensorflow:Assets written to: /tmp/policy/assets\n"
          ]
        },
        {
          "output_type": "stream",
          "name": "stdout",
          "text": [
            "step = 18200: loss = 0.23222678899765015\n",
            "step = 18400: loss = 0.2487606257200241\n",
            "step = 18600: loss = 0.2536862790584564\n",
            "step = 18800: loss = 0.2984355092048645\n",
            "step = 19000: loss = 0.14902155101299286\n",
            "step = 19000: Average Return = 0.012897792272269726\n"
          ]
        },
        {
          "output_type": "stream",
          "name": "stderr",
          "text": [
            "WARNING:absl:Function `function_with_signature` contains input name(s) 0/step_type, 0/reward, 0/discount, 0/observation with unsupported characters which will be renamed to step_type, reward, discount, observation in the SavedModel.\n",
            "WARNING:absl:Found untraced functions such as ActorDistributionNetwork_layer_call_fn, ActorDistributionNetwork_layer_call_and_return_conditional_losses, ValueNetwork_layer_call_fn, ValueNetwork_layer_call_and_return_conditional_losses, EncodingNetwork_layer_call_fn while saving (showing 5 of 26). These functions will not be directly callable after loading.\n",
            "/usr/local/lib/python3.7/dist-packages/tensorflow/python/saved_model/nested_structure_coder.py:524: UserWarning: Encoding a StructuredValue with type tf_agents.policies.greedy_policy.DeterministicWithLogProb_ACTTypeSpec; loading this StructuredValue will require that this type be imported and registered.\n",
            "  \"imported and registered.\" % type_spec_class_name)\n"
          ]
        },
        {
          "output_type": "stream",
          "name": "stdout",
          "text": [
            "INFO:tensorflow:Assets written to: /tmp/policy/assets\n"
          ]
        },
        {
          "output_type": "stream",
          "name": "stderr",
          "text": [
            "INFO:tensorflow:Assets written to: /tmp/policy/assets\n"
          ]
        },
        {
          "output_type": "stream",
          "name": "stdout",
          "text": [
            "step = 19200: loss = 0.19113090634346008\n",
            "step = 19400: loss = 0.23745110630989075\n",
            "step = 19600: loss = 0.1507067233324051\n",
            "step = 19800: loss = 0.19278112053871155\n",
            "step = 20000: loss = 0.22667014598846436\n",
            "step = 20000: Average Return = 0.11581043899059296\n"
          ]
        },
        {
          "output_type": "stream",
          "name": "stderr",
          "text": [
            "WARNING:absl:Function `function_with_signature` contains input name(s) 0/step_type, 0/reward, 0/discount, 0/observation with unsupported characters which will be renamed to step_type, reward, discount, observation in the SavedModel.\n",
            "WARNING:absl:Found untraced functions such as ActorDistributionNetwork_layer_call_fn, ActorDistributionNetwork_layer_call_and_return_conditional_losses, ValueNetwork_layer_call_fn, ValueNetwork_layer_call_and_return_conditional_losses, EncodingNetwork_layer_call_fn while saving (showing 5 of 26). These functions will not be directly callable after loading.\n",
            "/usr/local/lib/python3.7/dist-packages/tensorflow/python/saved_model/nested_structure_coder.py:524: UserWarning: Encoding a StructuredValue with type tf_agents.policies.greedy_policy.DeterministicWithLogProb_ACTTypeSpec; loading this StructuredValue will require that this type be imported and registered.\n",
            "  \"imported and registered.\" % type_spec_class_name)\n"
          ]
        },
        {
          "output_type": "stream",
          "name": "stdout",
          "text": [
            "INFO:tensorflow:Assets written to: /tmp/policy/assets\n"
          ]
        },
        {
          "output_type": "stream",
          "name": "stderr",
          "text": [
            "INFO:tensorflow:Assets written to: /tmp/policy/assets\n"
          ]
        },
        {
          "output_type": "stream",
          "name": "stdout",
          "text": [
            "step = 20200: loss = 0.15218129754066467\n",
            "step = 20400: loss = 0.1780589073896408\n",
            "step = 20600: loss = 0.1864302158355713\n",
            "step = 20800: loss = 0.18791726231575012\n",
            "step = 21000: loss = 0.17231744527816772\n",
            "step = 21000: Average Return = 0.13622918725013733\n"
          ]
        },
        {
          "output_type": "stream",
          "name": "stderr",
          "text": [
            "WARNING:absl:Function `function_with_signature` contains input name(s) 0/step_type, 0/reward, 0/discount, 0/observation with unsupported characters which will be renamed to step_type, reward, discount, observation in the SavedModel.\n",
            "WARNING:absl:Found untraced functions such as ActorDistributionNetwork_layer_call_fn, ActorDistributionNetwork_layer_call_and_return_conditional_losses, ValueNetwork_layer_call_fn, ValueNetwork_layer_call_and_return_conditional_losses, EncodingNetwork_layer_call_fn while saving (showing 5 of 26). These functions will not be directly callable after loading.\n"
          ]
        },
        {
          "output_type": "error",
          "ename": "KeyboardInterrupt",
          "evalue": "ignored",
          "traceback": [
            "\u001b[0;31m---------------------------------------------------------------------------\u001b[0m",
            "\u001b[0;31mKeyboardInterrupt\u001b[0m                         Traceback (most recent call last)",
            "\u001b[0;32m<ipython-input-17-04538c6e2c74>\u001b[0m in \u001b[0;36m<module>\u001b[0;34m()\u001b[0m\n\u001b[1;32m    149\u001b[0m         \u001b[0mpolicy_dir\u001b[0m \u001b[0;34m=\u001b[0m \u001b[0mos\u001b[0m\u001b[0;34m.\u001b[0m\u001b[0mpath\u001b[0m\u001b[0;34m.\u001b[0m\u001b[0mjoin\u001b[0m\u001b[0;34m(\u001b[0m\u001b[0mtempdir\u001b[0m\u001b[0;34m,\u001b[0m \u001b[0;34m'policy'\u001b[0m\u001b[0;34m)\u001b[0m\u001b[0;34m\u001b[0m\u001b[0;34m\u001b[0m\u001b[0m\n\u001b[1;32m    150\u001b[0m         \u001b[0mtf_policy_saver\u001b[0m \u001b[0;34m=\u001b[0m \u001b[0mpolicy_saver\u001b[0m\u001b[0;34m.\u001b[0m\u001b[0mPolicySaver\u001b[0m\u001b[0;34m(\u001b[0m\u001b[0magent\u001b[0m\u001b[0;34m.\u001b[0m\u001b[0mpolicy\u001b[0m\u001b[0;34m)\u001b[0m\u001b[0;34m\u001b[0m\u001b[0;34m\u001b[0m\u001b[0m\n\u001b[0;32m--> 151\u001b[0;31m         \u001b[0mtf_policy_saver\u001b[0m\u001b[0;34m.\u001b[0m\u001b[0msave\u001b[0m\u001b[0;34m(\u001b[0m\u001b[0mpolicy_dir\u001b[0m\u001b[0;34m)\u001b[0m\u001b[0;34m\u001b[0m\u001b[0;34m\u001b[0m\u001b[0m\n\u001b[0m\u001b[1;32m    152\u001b[0m \u001b[0;34m\u001b[0m\u001b[0m\n\u001b[1;32m    153\u001b[0m         \u001b[0msaved_policy\u001b[0m \u001b[0;34m=\u001b[0m \u001b[0mtf\u001b[0m\u001b[0;34m.\u001b[0m\u001b[0mcompat\u001b[0m\u001b[0;34m.\u001b[0m\u001b[0mv2\u001b[0m\u001b[0;34m.\u001b[0m\u001b[0msaved_model\u001b[0m\u001b[0;34m.\u001b[0m\u001b[0mload\u001b[0m\u001b[0;34m(\u001b[0m\u001b[0mpolicy_dir\u001b[0m\u001b[0;34m)\u001b[0m\u001b[0;34m\u001b[0m\u001b[0;34m\u001b[0m\u001b[0m\n",
            "\u001b[0;32m/usr/local/lib/python3.7/dist-packages/tf_agents/policies/policy_saver.py\u001b[0m in \u001b[0;36msave\u001b[0;34m(self, export_dir, options)\u001b[0m\n\u001b[1;32m    608\u001b[0m     \"\"\"\n\u001b[1;32m    609\u001b[0m     tf.compat.v2.saved_model.save(\n\u001b[0;32m--> 610\u001b[0;31m         self._policy, export_dir, signatures=self._signatures, options=options)\n\u001b[0m\u001b[1;32m    611\u001b[0m \u001b[0;34m\u001b[0m\u001b[0m\n\u001b[1;32m    612\u001b[0m     \u001b[0mtemp_spec_file_name\u001b[0m \u001b[0;34m=\u001b[0m \u001b[0;34m'{}_temp'\u001b[0m\u001b[0;34m.\u001b[0m\u001b[0mformat\u001b[0m\u001b[0;34m(\u001b[0m\u001b[0mPOLICY_SPECS_PBTXT\u001b[0m\u001b[0;34m)\u001b[0m\u001b[0;34m\u001b[0m\u001b[0;34m\u001b[0m\u001b[0m\n",
            "\u001b[0;32m/usr/local/lib/python3.7/dist-packages/tensorflow/python/saved_model/save.py\u001b[0m in \u001b[0;36msave\u001b[0;34m(obj, export_dir, signatures, options)\u001b[0m\n\u001b[1;32m   1332\u001b[0m   \u001b[0;31m# pylint: enable=line-too-long\u001b[0m\u001b[0;34m\u001b[0m\u001b[0;34m\u001b[0m\u001b[0;34m\u001b[0m\u001b[0m\n\u001b[1;32m   1333\u001b[0m   \u001b[0mmetrics\u001b[0m\u001b[0;34m.\u001b[0m\u001b[0mIncrementWriteApi\u001b[0m\u001b[0;34m(\u001b[0m\u001b[0m_SAVE_V2_LABEL\u001b[0m\u001b[0;34m)\u001b[0m\u001b[0;34m\u001b[0m\u001b[0;34m\u001b[0m\u001b[0m\n\u001b[0;32m-> 1334\u001b[0;31m   \u001b[0msave_and_return_nodes\u001b[0m\u001b[0;34m(\u001b[0m\u001b[0mobj\u001b[0m\u001b[0;34m,\u001b[0m \u001b[0mexport_dir\u001b[0m\u001b[0;34m,\u001b[0m \u001b[0msignatures\u001b[0m\u001b[0;34m,\u001b[0m \u001b[0moptions\u001b[0m\u001b[0;34m)\u001b[0m\u001b[0;34m\u001b[0m\u001b[0;34m\u001b[0m\u001b[0m\n\u001b[0m\u001b[1;32m   1335\u001b[0m   \u001b[0mmetrics\u001b[0m\u001b[0;34m.\u001b[0m\u001b[0mIncrementWrite\u001b[0m\u001b[0;34m(\u001b[0m\u001b[0mwrite_version\u001b[0m\u001b[0;34m=\u001b[0m\u001b[0;34m\"2\"\u001b[0m\u001b[0;34m)\u001b[0m\u001b[0;34m\u001b[0m\u001b[0;34m\u001b[0m\u001b[0m\n\u001b[1;32m   1336\u001b[0m \u001b[0;34m\u001b[0m\u001b[0m\n",
            "\u001b[0;32m/usr/local/lib/python3.7/dist-packages/tensorflow/python/saved_model/save.py\u001b[0m in \u001b[0;36msave_and_return_nodes\u001b[0;34m(obj, export_dir, signatures, options, experimental_skip_checkpoint)\u001b[0m\n\u001b[1;32m   1367\u001b[0m \u001b[0;34m\u001b[0m\u001b[0m\n\u001b[1;32m   1368\u001b[0m   _, exported_graph, object_saver, asset_info, saved_nodes, node_paths = (\n\u001b[0;32m-> 1369\u001b[0;31m       _build_meta_graph(obj, signatures, options, meta_graph_def))\n\u001b[0m\u001b[1;32m   1370\u001b[0m   saved_model.saved_model_schema_version = (\n\u001b[1;32m   1371\u001b[0m       constants.SAVED_MODEL_SCHEMA_VERSION)\n",
            "\u001b[0;32m/usr/local/lib/python3.7/dist-packages/tensorflow/python/saved_model/save.py\u001b[0m in \u001b[0;36m_build_meta_graph\u001b[0;34m(obj, signatures, options, meta_graph_def)\u001b[0m\n\u001b[1;32m   1534\u001b[0m \u001b[0;34m\u001b[0m\u001b[0m\n\u001b[1;32m   1535\u001b[0m   \u001b[0;32mwith\u001b[0m \u001b[0msave_context\u001b[0m\u001b[0;34m.\u001b[0m\u001b[0msave_context\u001b[0m\u001b[0;34m(\u001b[0m\u001b[0moptions\u001b[0m\u001b[0;34m)\u001b[0m\u001b[0;34m:\u001b[0m\u001b[0;34m\u001b[0m\u001b[0;34m\u001b[0m\u001b[0m\n\u001b[0;32m-> 1536\u001b[0;31m     \u001b[0;32mreturn\u001b[0m \u001b[0m_build_meta_graph_impl\u001b[0m\u001b[0;34m(\u001b[0m\u001b[0mobj\u001b[0m\u001b[0;34m,\u001b[0m \u001b[0msignatures\u001b[0m\u001b[0;34m,\u001b[0m \u001b[0moptions\u001b[0m\u001b[0;34m,\u001b[0m \u001b[0mmeta_graph_def\u001b[0m\u001b[0;34m)\u001b[0m\u001b[0;34m\u001b[0m\u001b[0;34m\u001b[0m\u001b[0m\n\u001b[0m",
            "\u001b[0;32m/usr/local/lib/python3.7/dist-packages/tensorflow/python/saved_model/save.py\u001b[0m in \u001b[0;36m_build_meta_graph_impl\u001b[0;34m(obj, signatures, options, meta_graph_def)\u001b[0m\n\u001b[1;32m   1490\u001b[0m   asset_info, exported_graph = _fill_meta_graph_def(\n\u001b[1;32m   1491\u001b[0m       \u001b[0mmeta_graph_def\u001b[0m\u001b[0;34m,\u001b[0m \u001b[0msaveable_view\u001b[0m\u001b[0;34m,\u001b[0m \u001b[0msignatures\u001b[0m\u001b[0;34m,\u001b[0m\u001b[0;34m\u001b[0m\u001b[0;34m\u001b[0m\u001b[0m\n\u001b[0;32m-> 1492\u001b[0;31m       options.namespace_whitelist, options.experimental_custom_gradients)\n\u001b[0m\u001b[1;32m   1493\u001b[0m   \u001b[0;32mif\u001b[0m \u001b[0moptions\u001b[0m\u001b[0;34m.\u001b[0m\u001b[0mfunction_aliases\u001b[0m\u001b[0;34m:\u001b[0m\u001b[0;34m\u001b[0m\u001b[0;34m\u001b[0m\u001b[0m\n\u001b[1;32m   1494\u001b[0m     \u001b[0mfunction_aliases\u001b[0m \u001b[0;34m=\u001b[0m \u001b[0mmeta_graph_def\u001b[0m\u001b[0;34m.\u001b[0m\u001b[0mmeta_info_def\u001b[0m\u001b[0;34m.\u001b[0m\u001b[0mfunction_aliases\u001b[0m\u001b[0;34m\u001b[0m\u001b[0;34m\u001b[0m\u001b[0m\n",
            "\u001b[0;32m/usr/local/lib/python3.7/dist-packages/tensorflow/python/saved_model/save.py\u001b[0m in \u001b[0;36m_fill_meta_graph_def\u001b[0;34m(meta_graph_def, saveable_view, signature_functions, namespace_whitelist, save_custom_gradients)\u001b[0m\n\u001b[1;32m    966\u001b[0m   \u001b[0;32mfor\u001b[0m \u001b[0msignature_key\u001b[0m\u001b[0;34m,\u001b[0m \u001b[0msignature\u001b[0m \u001b[0;32min\u001b[0m \u001b[0msignatures\u001b[0m\u001b[0;34m.\u001b[0m\u001b[0mitems\u001b[0m\u001b[0;34m(\u001b[0m\u001b[0;34m)\u001b[0m\u001b[0;34m:\u001b[0m\u001b[0;34m\u001b[0m\u001b[0;34m\u001b[0m\u001b[0m\n\u001b[1;32m    967\u001b[0m     \u001b[0mmeta_graph_def\u001b[0m\u001b[0;34m.\u001b[0m\u001b[0msignature_def\u001b[0m\u001b[0;34m[\u001b[0m\u001b[0msignature_key\u001b[0m\u001b[0;34m]\u001b[0m\u001b[0;34m.\u001b[0m\u001b[0mCopyFrom\u001b[0m\u001b[0;34m(\u001b[0m\u001b[0msignature\u001b[0m\u001b[0;34m)\u001b[0m\u001b[0;34m\u001b[0m\u001b[0;34m\u001b[0m\u001b[0m\n\u001b[0;32m--> 968\u001b[0;31m   \u001b[0mmeta_graph\u001b[0m\u001b[0;34m.\u001b[0m\u001b[0mstrip_graph_default_valued_attrs\u001b[0m\u001b[0;34m(\u001b[0m\u001b[0mmeta_graph_def\u001b[0m\u001b[0;34m)\u001b[0m\u001b[0;34m\u001b[0m\u001b[0;34m\u001b[0m\u001b[0m\n\u001b[0m\u001b[1;32m    969\u001b[0m   \u001b[0;31m# store tensor_content in litle endian format\u001b[0m\u001b[0;34m\u001b[0m\u001b[0;34m\u001b[0m\u001b[0;34m\u001b[0m\u001b[0m\n\u001b[1;32m    970\u001b[0m   \u001b[0;32mif\u001b[0m \u001b[0msys\u001b[0m\u001b[0;34m.\u001b[0m\u001b[0mbyteorder\u001b[0m \u001b[0;34m==\u001b[0m \u001b[0;34m\"big\"\u001b[0m\u001b[0;34m:\u001b[0m\u001b[0;34m\u001b[0m\u001b[0;34m\u001b[0m\u001b[0m\n",
            "\u001b[0;32m/usr/local/lib/python3.7/dist-packages/tensorflow/python/framework/meta_graph.py\u001b[0m in \u001b[0;36mstrip_graph_default_valued_attrs\u001b[0;34m(meta_graph_def)\u001b[0m\n\u001b[1;32m    501\u001b[0m   \u001b[0;32mfor\u001b[0m \u001b[0mfunction_def\u001b[0m \u001b[0;32min\u001b[0m \u001b[0mmeta_graph_def\u001b[0m\u001b[0;34m.\u001b[0m\u001b[0mgraph_def\u001b[0m\u001b[0;34m.\u001b[0m\u001b[0mlibrary\u001b[0m\u001b[0;34m.\u001b[0m\u001b[0mfunction\u001b[0m\u001b[0;34m:\u001b[0m\u001b[0;34m\u001b[0m\u001b[0;34m\u001b[0m\u001b[0m\n\u001b[1;32m    502\u001b[0m     \u001b[0;32mfor\u001b[0m \u001b[0mfunction_node_def\u001b[0m \u001b[0;32min\u001b[0m \u001b[0mfunction_def\u001b[0m\u001b[0;34m.\u001b[0m\u001b[0mnode_def\u001b[0m\u001b[0;34m:\u001b[0m\u001b[0;34m\u001b[0m\u001b[0;34m\u001b[0m\u001b[0m\n\u001b[0;32m--> 503\u001b[0;31m       \u001b[0m_strip_node_default_valued_attrs\u001b[0m\u001b[0;34m(\u001b[0m\u001b[0mfunction_node_def\u001b[0m\u001b[0;34m)\u001b[0m\u001b[0;34m\u001b[0m\u001b[0;34m\u001b[0m\u001b[0m\n\u001b[0m\u001b[1;32m    504\u001b[0m \u001b[0;34m\u001b[0m\u001b[0m\n\u001b[1;32m    505\u001b[0m   \u001b[0;31m# Tell consumers of this graph that default valued attrs have been stripped.\u001b[0m\u001b[0;34m\u001b[0m\u001b[0;34m\u001b[0m\u001b[0;34m\u001b[0m\u001b[0m\n",
            "\u001b[0;32m/usr/local/lib/python3.7/dist-packages/tensorflow/python/framework/meta_graph.py\u001b[0m in \u001b[0;36m_strip_node_default_valued_attrs\u001b[0;34m(node_def)\u001b[0m\n\u001b[1;32m    487\u001b[0m \u001b[0;34m\u001b[0m\u001b[0m\n\u001b[1;32m    488\u001b[0m     \u001b[0mattrs_to_strip\u001b[0m \u001b[0;34m=\u001b[0m \u001b[0mset\u001b[0m\u001b[0;34m(\u001b[0m\u001b[0;34m)\u001b[0m\u001b[0;34m\u001b[0m\u001b[0;34m\u001b[0m\u001b[0m\n\u001b[0;32m--> 489\u001b[0;31m     \u001b[0;32mfor\u001b[0m \u001b[0mattr_name\u001b[0m\u001b[0;34m,\u001b[0m \u001b[0mattr_value\u001b[0m \u001b[0;32min\u001b[0m \u001b[0mnode_def\u001b[0m\u001b[0;34m.\u001b[0m\u001b[0mattr\u001b[0m\u001b[0;34m.\u001b[0m\u001b[0mitems\u001b[0m\u001b[0;34m(\u001b[0m\u001b[0;34m)\u001b[0m\u001b[0;34m:\u001b[0m\u001b[0;34m\u001b[0m\u001b[0;34m\u001b[0m\u001b[0m\n\u001b[0m\u001b[1;32m    490\u001b[0m       \u001b[0;32mif\u001b[0m \u001b[0m_is_default_attr_value\u001b[0m\u001b[0;34m(\u001b[0m\u001b[0mop_def\u001b[0m\u001b[0;34m,\u001b[0m \u001b[0mattr_name\u001b[0m\u001b[0;34m,\u001b[0m \u001b[0mattr_value\u001b[0m\u001b[0;34m)\u001b[0m\u001b[0;34m:\u001b[0m\u001b[0;34m\u001b[0m\u001b[0;34m\u001b[0m\u001b[0m\n\u001b[1;32m    491\u001b[0m         \u001b[0mattrs_to_strip\u001b[0m\u001b[0;34m.\u001b[0m\u001b[0madd\u001b[0m\u001b[0;34m(\u001b[0m\u001b[0mattr_name\u001b[0m\u001b[0;34m)\u001b[0m\u001b[0;34m\u001b[0m\u001b[0;34m\u001b[0m\u001b[0m\n",
            "\u001b[0;31mKeyboardInterrupt\u001b[0m: "
          ]
        }
      ]
    },
    {
      "cell_type": "code",
      "source": [
        "npv = compute_avg_return(eval_env, agent.policy, num_episodes=10000) # 10000 path\n",
        "pricing_dict['RL-PPO - 10000 Path'] = npv\n",
        "pricing_dict"
      ],
      "metadata": {
        "colab": {
          "base_uri": "https://localhost:8080/"
        },
        "id": "iWr-7zvgDyRt",
        "outputId": "1e653b65-4a68-4ba7-c415-4783985813c9"
      },
      "execution_count": null,
      "outputs": [
        {
          "output_type": "execute_result",
          "data": {
            "text/plain": [
              "{'RL-PPO - 10000 Path': 0.098266214,\n",
              " 'Simple Bermudan - Binomial Tree': 0.16844989996356916}"
            ]
          },
          "metadata": {},
          "execution_count": 18
        }
      ]
    },
    {
      "cell_type": "markdown",
      "source": [
        "## **Reinforcement Learning Solver for Pricing Bermudan Put Options with *10* Intermediate Decision Points**"
      ],
      "metadata": {
        "id": "pyBwXcacMGXT"
      }
    },
    {
      "cell_type": "markdown",
      "source": [
        "**Analytical Solutions - Binomial Tree Option Pricing Method**"
      ],
      "metadata": {
        "id": "HZDuJ0dAMUxm"
      }
    },
    {
      "cell_type": "code",
      "source": [
        "import QuantLib as ql \n",
        "import pandas as pd\n",
        "def get_bermudan_option_with_11_points(): \n",
        "    maturity = ql.Date(1, 3, 2023)\n",
        "    S0=5\n",
        "    K = 5\n",
        "    r = 0.03\n",
        "    sigma = 0.10\n",
        "    d = 0.0\n",
        "    otype = ql.Option.Put\n",
        "    dc = ql.Actual365Fixed()\n",
        "    calendar = ql.NullCalendar()\n",
        "\n",
        "    today = ql.Date(1, 1, 2021)\n",
        "    bermudan1 = ql.Date(1,3,2021)\n",
        "    bermudan2 = ql.Date(1,5,2021)\n",
        "    bermudan3 = ql.Date(1,7,2021)\n",
        "    bermudan4 = ql.Date(1,9,2021)\n",
        "    bermudan5 = ql.Date(1,11,2021)\n",
        "    bermudan6 = ql.Date(1,1,2022)\n",
        "    bermudan7 = ql.Date(1,3,2022)\n",
        "    bermudan8 = ql.Date(1,5,2022)\n",
        "    bermudan9 = ql.Date(1,7,2022)\n",
        "    bermudan10 = ql.Date(1,9,2022)\n",
        "    bermudan11 = ql.Date(1,11,2022)\n",
        "    ql.Settings.instance().evaluationDate = today\n",
        "\n",
        "    payoff = ql.PlainVanillaPayoff(otype, K)\n",
        "\n",
        "    bermudan_exercise = ql.BermudanExercise([bermudan1,bermudan2,bermudan3,bermudan4,bermudan5,bermudan6,bermudan7,bermudan8,bermudan9,bermudan10,bermudan11, maturity])\n",
        "    bermudan_option=ql.VanillaOption(payoff, bermudan_exercise)\n",
        "\n",
        "    american_exercise = ql.AmericanExercise(today, maturity)\n",
        "    american_option = ql.VanillaOption(payoff, american_exercise)\n",
        "\n",
        "    d_ts = ql.YieldTermStructureHandle(ql.FlatForward(today, d, dc))\n",
        "    r_ts = ql.YieldTermStructureHandle(ql.FlatForward(today, r, dc))\n",
        "    sigma_ts = ql.BlackVolTermStructureHandle(ql.BlackConstantVol(today, calendar, sigma, dc))\n",
        "    bsm_process = ql.BlackScholesMertonProcess(ql.QuoteHandle(ql.SimpleQuote(S0)), d_ts, r_ts, sigma_ts)\n",
        "\n",
        "    binomial_engine = ql.BinomialVanillaEngine(bsm_process, \"crr\", 100)\n",
        "    bermudan_option.setPricingEngine(binomial_engine)\n",
        "    return bermudan_option.NPV()"
      ],
      "metadata": {
        "id": "OkfJ-yn-MO3K"
      },
      "execution_count": null,
      "outputs": []
    },
    {
      "cell_type": "code",
      "source": [
        "pricing_dict = {}\n",
        "pricing_dict['Bermudan Put - Binomial Tree'] = get_bermudan_option_with_11_points()\n",
        "pricing_df = pd.DataFrame.from_dict(pricing_dict, orient='index')\n",
        "pricing_df.columns = ['Option Price']\n",
        "print(pricing_df)"
      ],
      "metadata": {
        "colab": {
          "base_uri": "https://localhost:8080/"
        },
        "id": "4U7g78PbM7H6",
        "outputId": "924b8adb-8167-4a9e-fe7f-c3192788e5cd"
      },
      "execution_count": null,
      "outputs": [
        {
          "output_type": "stream",
          "name": "stdout",
          "text": [
            "                                                    Option Price\n",
            "Bermudan Put with 11 Decision Points - Binomial...      0.184841\n"
          ]
        }
      ]
    },
    {
      "cell_type": "markdown",
      "source": [
        "**Using Reinforcement Learning Solver to Solve Bermudan Put Option with 11 Internmediate Exercising Points**"
      ],
      "metadata": {
        "id": "gja1e5qZNqK_"
      }
    },
    {
      "cell_type": "code",
      "source": [
        "import matplotlib.pyplot as plt\n",
        "from tf_agents.policies import policy_saver\n",
        "import tempfile\n",
        "import random\n",
        "import os\n",
        "from tf_agents.utils import common  # loss function\n",
        "from tf_agents.trajectories import trajectory  # s->s' trajectory\n",
        "from tf_agents.replay_buffers import tf_uniform_replay_buffer  # replay buffer\n",
        "from tf_agents.networks import q_network  # Q net\n",
        "from tf_agents.environments import tf_py_environment  # gym to tf gym\n",
        "from tf_agents.environments import gym_wrapper  # wrap OpenAI gym\n",
        "from tf_agents.agents.dqn import dqn_agent  # DQN Agent\n",
        "from tf_agents.agents.ppo import ppo_agent\n",
        "import tensorflow as tf\n",
        "import numpy as np\n",
        "import gym\n",
        "import QuantLib as ql  # used for calculating the price of option if we hold it, baseline\n",
        "\n",
        "# Bermudan Put Gym Environment\n",
        "class BermudanOptionEnv(gym.Env): #Bermudan Put\n",
        "    def __init__(self):\n",
        "        self.S0 = 5.0\n",
        "        self.K = 5.0\n",
        "        self.r = 0.03\n",
        "        self.sigma = 0.10\n",
        "        self.T = 2.0\n",
        "        self.N = 732   # 732 days\n",
        "\n",
        "        self.S1 = 0\n",
        "        self.reward = 0\n",
        "        self.current_day = 0    # from day 0 taking N steps to day N\n",
        "\n",
        "        self.action_space = gym.spaces.Discrete(2)         # 0: hold, 1:exercise, the action space, the RL should learn it\n",
        "        self.observation_space = gym.spaces.Box(low=np.array([0, 0]), high=np.array(\n",
        "            [np.inf, 1.0]), dtype=np.float32)      # S in [0, inf], tao in [0, 1]\n",
        "\n",
        "    def step(self, action):\n",
        "        if action == 1:        # we exercise the option\n",
        "            reward = max(self.K-self.S1, 0.0) * np.exp(-self.r * self.T * (self.current_day/self.N)) #early payoff\n",
        "            done = True\n",
        "        else:       # we hold the option, wait to the next exercise date\n",
        "            if self.current_day == self.N:    # at maturity\n",
        "                reward = max(self.K-self.S1, 0.0) * np.exp(-self.r * self.T) # payoff after discouted\n",
        "                done = True\n",
        "            else:  # move to tomorrow/next exercise date\n",
        "                reward = 0 # no payoff\n",
        "                # lnS1 - lnS0 = (r - 1/2*sigma^2)*t + sigma * Wt: GBM stock path solution.\n",
        "                self.S1 = self.S1 * np.exp((self.r - 0.5 * self.sigma**2) * (self.current_day/self.N) + self.sigma * np.sqrt(self.current_day/self.N) * np.random.normal()) #GBM process price\n",
        "                self.current_day += 61\n",
        "                done = False # move to next time\n",
        "\n",
        "        tao = 1.0-self.current_day/self.N        # time to maturity, in unit of fraction of total_length\n",
        "        return np.array([self.S1, tao]), reward, done, {}\n",
        "\n",
        "    def reset(self):\n",
        "        self.current_day = 0\n",
        "        self.S1 = self.S0\n",
        "        tao = 1.0-self.current_day/self.N        # time to maturity, in unit of fraction of total_length\n",
        "        return [self.S1, tao]"
      ],
      "metadata": {
        "id": "ML9r9R3eNpNc"
      },
      "execution_count": null,
      "outputs": []
    },
    {
      "cell_type": "markdown",
      "source": [
        "**Deep Q Network**"
      ],
      "metadata": {
        "id": "4A_jKQEXOXKA"
      }
    },
    {
      "cell_type": "code",
      "source": [
        "# Hyper-parameters\n",
        "num_iterations = 20000  # @param {type:\"integer\"}\n",
        "\n",
        "collect_steps_per_iteration = 10  # @param {type:\"integer\"}\n",
        "replay_buffer_max_length = 100000  # @param {type:\"integer\"}\n",
        "batch_size = 256  # @param {type:\"integer\"}\n",
        "\n",
        "learning_rate = 1e-3  # @param {type:\"number\"}\n",
        "num_eval_episodes = 10  # @param {type:\"integer\"}\n",
        "\n",
        "eval_interval = 1000  # @param {type:\"integer\"}\n",
        "log_interval = 200  # @param {type:\"integer\"}\n",
        "\n",
        "train_env_gym = BermudanOptionEnv() # american put env\n",
        "eval_env_gym = BermudanOptionEnv() # test case\n",
        "\n",
        "train_env_wrap = gym_wrapper.GymWrapper(train_env_gym)\n",
        "eval_env_wrap = gym_wrapper.GymWrapper(eval_env_gym)\n",
        "\n",
        "train_env = tf_py_environment.TFPyEnvironment(train_env_wrap)\n",
        "eval_env = tf_py_environment.TFPyEnvironment(eval_env_wrap)\n",
        "\n",
        "fc_layer_params = (100,) # number of hidden layers\n",
        "\n",
        "q_net = q_network.QNetwork(\n",
        "    train_env.observation_spec(),\n",
        "    train_env.action_spec(),\n",
        "    fc_layer_params=fc_layer_params)\n",
        "\n",
        "optimizer = tf.compat.v1.train.AdamOptimizer(learning_rate=learning_rate)\n",
        "\n",
        "train_step_counter = tf.Variable(0)\n",
        "\n",
        "agent = dqn_agent.DqnAgent(\n",
        "    train_env.time_step_spec(),\n",
        "    train_env.action_spec(),\n",
        "    q_network=q_net,\n",
        "    optimizer=optimizer,\n",
        "    td_errors_loss_fn=common.element_wise_squared_loss,\n",
        "    train_step_counter=train_step_counter)\n",
        "\n",
        "agent.initialize()\n",
        "\n",
        "replay_buffer = tf_uniform_replay_buffer.TFUniformReplayBuffer(\n",
        "    data_spec=agent.collect_data_spec,\n",
        "    batch_size=train_env.batch_size,\n",
        "    max_length=replay_buffer_max_length)\n",
        "\n",
        "# the buffer will update the Q table based on not only the past one step, but some older steps as well.\n",
        "\n",
        "dataset = replay_buffer.as_dataset(\n",
        "    num_parallel_calls=3,\n",
        "    sample_batch_size=batch_size,\n",
        "    num_steps=2).prefetch(3)\n",
        "\n",
        "iterator = iter(dataset)\n",
        "\n",
        "# eval_env evaluation\n",
        "\n",
        "# computer average return of the Q network, which in our case is the reward, which is premium option price\n",
        "def compute_avg_return(environment, policy, num_episodes=10):\n",
        "\n",
        "    total_return = 0.0\n",
        "    for i in range(num_episodes):\n",
        "\n",
        "        time_step = environment.reset()\n",
        "        episode_return = 0.0\n",
        "\n",
        "        while not time_step.is_last():\n",
        "            action_step = policy.action(time_step)\n",
        "            time_step = environment.step(action_step.action)\n",
        "            episode_return += time_step.reward\n",
        "        total_return += episode_return\n",
        "\n",
        "    avg_return = total_return / num_episodes\n",
        "    return avg_return.numpy()[0]\n",
        "\n",
        "# Data Collection\n",
        "\n",
        "def collect_step(environment, policy, buffer):\n",
        "    time_step = environment.current_time_step()\n",
        "    action_step = policy.action(time_step)\n",
        "    next_time_step = environment.step(action_step.action)\n",
        "    traj = trajectory.from_transition(time_step, action_step, next_time_step)\n",
        "\n",
        "    # Add trajectory to the replay buffer\n",
        "    buffer.add_batch(traj)\n",
        "\n",
        "# common loop in RL- especailly DQN\n",
        "def collect_data(env, policy, buffer, steps):\n",
        "    for i in range(steps):\n",
        "        collect_step(env, policy, buffer)\n",
        "\n",
        "# training!!\n",
        "agent.train = common.function(agent.train)\n",
        "\n",
        "# Reset the train step\n",
        "agent.train_step_counter.assign(0)\n",
        "\n",
        "# Evaluate the agent's policy once before training.\n",
        "avg_return = compute_avg_return(eval_env, agent.policy, num_eval_episodes)\n",
        "returns = [avg_return]\n",
        "\n",
        "for i in range(num_iterations):\n",
        "    # Collect a few steps using collect_policy and save to the replay buffer.\n",
        "    for j in range(collect_steps_per_iteration):\n",
        "        collect_step(train_env, agent.collect_policy, replay_buffer)\n",
        "\n",
        "    # Sample a batch of data from the buffer and update the agent's network.\n",
        "    experience, unused_info = next(iterator)\n",
        "    train_loss = agent.train(experience).loss\n",
        "\n",
        "    step = agent.train_step_counter.numpy()\n",
        "\n",
        "    if step % log_interval == 0:\n",
        "        print('step = {0}: loss = {1}'.format(step, train_loss))\n",
        "\n",
        "    if step % eval_interval == 0:\n",
        "        avg_return = compute_avg_return(\n",
        "            eval_env, agent.policy, num_eval_episodes)\n",
        "        print('step = {0}: Average Return = {1}'.format(step, avg_return))\n",
        "        returns.append(avg_return)\n",
        "\n",
        "# plot training iterations\n",
        "iterations = range(0, num_iterations + 1, eval_interval)\n",
        "plt.plot(iterations, returns)\n",
        "plt.ylabel('Average Return')\n",
        "plt.xlabel('Iterations')\n",
        "plt.ylim(top=2)\n",
        "\n",
        "# save policy\n",
        "tempdir = os.getenv(\"TEST_TMPDIR\", tempfile.gettempdir())\n",
        "policy_dir = os.path.join(tempdir, 'policy')\n",
        "tf_policy_saver = policy_saver.PolicySaver(agent.policy)\n",
        "tf_policy_saver.save(policy_dir)\n",
        "\n",
        "saved_policy = tf.compat.v2.saved_model.load(policy_dir)"
      ],
      "metadata": {
        "colab": {
          "base_uri": "https://localhost:8080/",
          "height": 1000
        },
        "id": "UjJTa0ZuOZTI",
        "outputId": "d871a652-0b7a-4c31-f804-502ad8d026ee"
      },
      "execution_count": null,
      "outputs": [
        {
          "output_type": "stream",
          "name": "stderr",
          "text": [
            "/usr/local/lib/python3.7/dist-packages/gym/logger.py:30: UserWarning: \u001b[33mWARN: Box bound precision lowered by casting to float32\u001b[0m\n",
            "  warnings.warn(colorize('%s: %s'%('WARN', msg % args), 'yellow'))\n"
          ]
        },
        {
          "output_type": "stream",
          "name": "stdout",
          "text": [
            "step = 200: loss = 0.003650132566690445\n",
            "step = 400: loss = 0.006475348491221666\n",
            "step = 600: loss = 0.008413203060626984\n",
            "step = 800: loss = 0.013374561443924904\n",
            "step = 1000: loss = 0.004942030645906925\n",
            "step = 1000: Average Return = 0.14340226352214813\n",
            "step = 1200: loss = 0.005061009433120489\n",
            "step = 1400: loss = 0.0027110923547297716\n",
            "step = 1600: loss = 0.003538456279784441\n",
            "step = 1800: loss = 0.003514025127515197\n",
            "step = 2000: loss = 0.004538955166935921\n",
            "step = 2000: Average Return = 0.22681978344917297\n",
            "step = 2200: loss = 0.0065576015040278435\n",
            "step = 2400: loss = 0.0043141841888427734\n",
            "step = 2600: loss = 0.0028684635180979967\n",
            "step = 2800: loss = 0.004327934235334396\n",
            "step = 3000: loss = 0.005101171787828207\n",
            "step = 3000: Average Return = 0.1583210825920105\n",
            "step = 3200: loss = 0.004643366206437349\n",
            "step = 3400: loss = 0.006745918653905392\n",
            "step = 3600: loss = 0.004901840817183256\n",
            "step = 3800: loss = 0.005919065326452255\n",
            "step = 4000: loss = 0.004325441550463438\n",
            "step = 4000: Average Return = 0.1470371037721634\n",
            "step = 4200: loss = 0.007761931978166103\n",
            "step = 4400: loss = 0.008118104189634323\n",
            "step = 4600: loss = 0.006041384767740965\n",
            "step = 4800: loss = 0.006110933609306812\n",
            "step = 5000: loss = 0.005432187579572201\n",
            "step = 5000: Average Return = 0.20752906799316406\n",
            "step = 5200: loss = 0.005839062388986349\n",
            "step = 5400: loss = 0.006243962794542313\n",
            "step = 5600: loss = 0.005569073371589184\n",
            "step = 5800: loss = 0.0042880200780928135\n",
            "step = 6000: loss = 0.004361422266811132\n",
            "step = 6000: Average Return = 0.07824530452489853\n",
            "step = 6200: loss = 0.007289126515388489\n",
            "step = 6400: loss = 0.005774189718067646\n",
            "step = 6600: loss = 0.006247584708034992\n",
            "step = 6800: loss = 0.006737261079251766\n",
            "step = 7000: loss = 0.006695919670164585\n",
            "step = 7000: Average Return = 0.24351219832897186\n",
            "step = 7200: loss = 0.006904953625053167\n",
            "step = 7400: loss = 0.010673531331121922\n",
            "step = 7600: loss = 0.006789978127926588\n",
            "step = 7800: loss = 0.007821287028491497\n",
            "step = 8000: loss = 0.008504698053002357\n",
            "step = 8000: Average Return = 0.20734167098999023\n",
            "step = 8200: loss = 0.004878029692918062\n",
            "step = 8400: loss = 0.007877797819674015\n",
            "step = 8600: loss = 0.006280824076384306\n",
            "step = 8800: loss = 0.006189902778714895\n",
            "step = 9000: loss = 0.006738945841789246\n",
            "step = 9000: Average Return = 0.3913760483264923\n",
            "step = 9200: loss = 0.007690620608627796\n",
            "step = 9400: loss = 0.00896933302283287\n",
            "step = 9600: loss = 0.00822205189615488\n",
            "step = 9800: loss = 0.007399626541882753\n",
            "step = 10000: loss = 0.006430978886783123\n",
            "step = 10000: Average Return = 0.16212911903858185\n",
            "step = 10200: loss = 0.007479802705347538\n",
            "step = 10400: loss = 0.005737816449254751\n",
            "step = 10600: loss = 0.007576887961477041\n",
            "step = 10800: loss = 0.005094585474580526\n",
            "step = 11000: loss = 0.010042072273790836\n",
            "step = 11000: Average Return = 0.14434567093849182\n",
            "step = 11200: loss = 0.006613337434828281\n",
            "step = 11400: loss = 0.008976082317531109\n",
            "step = 11600: loss = 0.005796369630843401\n",
            "step = 11800: loss = 0.009911557659506798\n",
            "step = 12000: loss = 0.009347322396934032\n",
            "step = 12000: Average Return = 0.18730628490447998\n",
            "step = 12200: loss = 0.010699836537241936\n",
            "step = 12400: loss = 0.00826102402061224\n",
            "step = 12600: loss = 0.008034149184823036\n",
            "step = 12800: loss = 0.009554717689752579\n",
            "step = 13000: loss = 0.007161244284361601\n",
            "step = 13000: Average Return = 0.13358864188194275\n",
            "step = 13200: loss = 0.008349182084202766\n",
            "step = 13400: loss = 0.005747328978031874\n",
            "step = 13600: loss = 0.0068497126922011375\n",
            "step = 13800: loss = 0.006263301242142916\n",
            "step = 14000: loss = 0.005184328183531761\n",
            "step = 14000: Average Return = 0.04917732626199722\n",
            "step = 14200: loss = 0.005173856392502785\n",
            "step = 14400: loss = 0.0180068239569664\n",
            "step = 14600: loss = 0.005527151748538017\n",
            "step = 14800: loss = 0.00585197051987052\n",
            "step = 15000: loss = 0.00898070726543665\n",
            "step = 15000: Average Return = 0.26364433765411377\n",
            "step = 15200: loss = 0.006895506754517555\n",
            "step = 15400: loss = 0.005604629870504141\n",
            "step = 15600: loss = 0.006037471815943718\n",
            "step = 15800: loss = 0.006325454916805029\n",
            "step = 16000: loss = 0.0071580130606889725\n",
            "step = 16000: Average Return = 0.050672709941864014\n",
            "step = 16200: loss = 0.005141653120517731\n",
            "step = 16400: loss = 0.004872172139585018\n",
            "step = 16600: loss = 0.005821929778903723\n",
            "step = 16800: loss = 0.005079744849354029\n",
            "step = 17000: loss = 0.005555401556193829\n",
            "step = 17000: Average Return = 0.31907278299331665\n",
            "step = 17200: loss = 0.00724073126912117\n",
            "step = 17400: loss = 0.004550459329038858\n",
            "step = 17600: loss = 0.00428263284265995\n",
            "step = 17800: loss = 0.004730819724500179\n",
            "step = 18000: loss = 0.00477604242041707\n",
            "step = 18000: Average Return = 0.2224125862121582\n",
            "step = 18200: loss = 0.003918148577213287\n",
            "step = 18400: loss = 0.006206146907061338\n",
            "step = 18600: loss = 0.005494691431522369\n",
            "step = 18800: loss = 0.005592279601842165\n",
            "step = 19000: loss = 0.006277251522988081\n",
            "step = 19000: Average Return = 0.16101184487342834\n",
            "step = 19200: loss = 0.00444101681932807\n",
            "step = 19400: loss = 0.0051374961622059345\n",
            "step = 19600: loss = 0.005753764882683754\n",
            "step = 19800: loss = 0.004131630528718233\n",
            "step = 20000: loss = 0.004903119523078203\n"
          ]
        },
        {
          "output_type": "stream",
          "name": "stderr",
          "text": [
            "WARNING:absl:Function `function_with_signature` contains input name(s) 0/step_type, 0/reward, 0/discount, 0/observation with unsupported characters which will be renamed to step_type, reward, discount, observation in the SavedModel.\n"
          ]
        },
        {
          "output_type": "stream",
          "name": "stdout",
          "text": [
            "step = 20000: Average Return = 0.2329680621623993\n"
          ]
        },
        {
          "output_type": "stream",
          "name": "stderr",
          "text": [
            "WARNING:absl:Found untraced functions such as QNetwork_layer_call_fn, QNetwork_layer_call_and_return_conditional_losses, EncodingNetwork_layer_call_fn, EncodingNetwork_layer_call_and_return_conditional_losses, dense_5_layer_call_fn while saving (showing 5 of 25). These functions will not be directly callable after loading.\n"
          ]
        },
        {
          "output_type": "stream",
          "name": "stdout",
          "text": [
            "INFO:tensorflow:Assets written to: /tmp/policy/assets\n"
          ]
        },
        {
          "output_type": "stream",
          "name": "stderr",
          "text": [
            "/usr/local/lib/python3.7/dist-packages/tensorflow/python/saved_model/nested_structure_coder.py:561: UserWarning: Encoding a StructuredValue with type tf_agents.policies.greedy_policy.DeterministicWithLogProb_ACTTypeSpec; loading this StructuredValue will require that this type be imported and registered.\n",
            "  \"imported and registered.\" % type_spec_class_name)\n",
            "INFO:tensorflow:Assets written to: /tmp/policy/assets\n"
          ]
        },
        {
          "output_type": "display_data",
          "data": {
            "image/png": "[encoded data removed]",
            "text/plain": [
              "<Figure size 432x288 with 1 Axes>"
            ]
          },
          "metadata": {
            "needs_background": "light"
          }
        }
      ]
    },
    {
      "cell_type": "code",
      "source": [
        "npv = compute_avg_return(eval_env, agent.policy, num_episodes=10000) # 10000 path\n",
        "pricing_dict['RL-DQN - 10000 Path'] = npv\n",
        "pricing_dict"
      ],
      "metadata": {
        "colab": {
          "base_uri": "https://localhost:8080/"
        },
        "id": "0YjU-INAOfUs",
        "outputId": "b3ad5faf-97c2-4808-fecb-d7fc7e7ae7f1"
      },
      "execution_count": null,
      "outputs": [
        {
          "output_type": "execute_result",
          "data": {
            "text/plain": [
              "{'Bermudan Put with 11 Decision Points - Binomial Tree': 0.18484082892803913,\n",
              " 'RL-DQN - 100 Path': 0.20071062}"
            ]
          },
          "metadata": {},
          "execution_count": 15
        }
      ]
    },
    {
      "cell_type": "markdown",
      "source": [
        "**Double Deep Q Network**"
      ],
      "metadata": {
        "id": "5taM7pvzOj_W"
      }
    },
    {
      "cell_type": "code",
      "source": [
        "# Hyper-parameters\n",
        "num_iterations = 20000  # @param {type:\"integer\"}\n",
        "\n",
        "collect_steps_per_iteration = 10  # @param {type:\"integer\"}\n",
        "replay_buffer_max_length = 100000  # @param {type:\"integer\"}\n",
        "batch_size = 256  # @param {type:\"integer\"}\n",
        "\n",
        "learning_rate = 1e-3  # @param {type:\"number\"}\n",
        "num_eval_episodes = 10  # @param {type:\"integer\"}\n",
        "\n",
        "eval_interval = 1000  # @param {type:\"integer\"}\n",
        "log_interval = 200  # @param {type:\"integer\"}\n",
        "\n",
        "train_env_gym = BermudanOptionEnv() # american put env\n",
        "eval_env_gym = BermudanOptionEnv() # test case\n",
        "\n",
        "train_env_wrap = gym_wrapper.GymWrapper(train_env_gym)\n",
        "eval_env_wrap = gym_wrapper.GymWrapper(eval_env_gym)\n",
        "\n",
        "train_env = tf_py_environment.TFPyEnvironment(train_env_wrap)\n",
        "eval_env = tf_py_environment.TFPyEnvironment(eval_env_wrap)\n",
        "\n",
        "fc_layer_params = (100,) # number of hidden layers\n",
        "\n",
        "q_net = q_network.QNetwork(\n",
        "    train_env.observation_spec(),\n",
        "    train_env.action_spec(),\n",
        "    fc_layer_params=fc_layer_params)\n",
        "\n",
        "optimizer = tf.compat.v1.train.AdamOptimizer(learning_rate=learning_rate)\n",
        "\n",
        "train_step_counter = tf.Variable(0)\n",
        "\n",
        "agent = dqn_agent.DdqnAgent(\n",
        "    train_env.time_step_spec(),\n",
        "    train_env.action_spec(),\n",
        "    q_network=q_net,\n",
        "    optimizer=optimizer,\n",
        "    td_errors_loss_fn=common.element_wise_squared_loss,\n",
        "    train_step_counter=train_step_counter)\n",
        "\n",
        "agent.initialize()\n",
        "\n",
        "replay_buffer = tf_uniform_replay_buffer.TFUniformReplayBuffer(\n",
        "    data_spec=agent.collect_data_spec,\n",
        "    batch_size=train_env.batch_size,\n",
        "    max_length=replay_buffer_max_length)\n",
        "\n",
        "# the buffer will update the Q table based on not only the past one step, but some older steps as well.\n",
        "\n",
        "dataset = replay_buffer.as_dataset(\n",
        "    num_parallel_calls=3,\n",
        "    sample_batch_size=batch_size,\n",
        "    num_steps=2).prefetch(3)\n",
        "\n",
        "iterator = iter(dataset)\n",
        "\n",
        "# eval_env evaluation\n",
        "\n",
        "# computer average return of the Q network, which in our case is the reward, which is premium option price\n",
        "def compute_avg_return(environment, policy, num_episodes=10):\n",
        "\n",
        "    total_return = 0.0\n",
        "    for i in range(num_episodes):\n",
        "\n",
        "        time_step = environment.reset()\n",
        "        episode_return = 0.0\n",
        "\n",
        "        while not time_step.is_last():\n",
        "            action_step = policy.action(time_step)\n",
        "            time_step = environment.step(action_step.action)\n",
        "            episode_return += time_step.reward\n",
        "        total_return += episode_return\n",
        "\n",
        "    avg_return = total_return / num_episodes\n",
        "    return avg_return.numpy()[0]\n",
        "\n",
        "# Data Collection\n",
        "\n",
        "def collect_step(environment, policy, buffer):\n",
        "    time_step = environment.current_time_step()\n",
        "    action_step = policy.action(time_step)\n",
        "    next_time_step = environment.step(action_step.action)\n",
        "    traj = trajectory.from_transition(time_step, action_step, next_time_step)\n",
        "\n",
        "    # Add trajectory to the replay buffer\n",
        "    buffer.add_batch(traj)\n",
        "\n",
        "# common loop in RL- especailly DQN\n",
        "def collect_data(env, policy, buffer, steps):\n",
        "    for i in range(steps):\n",
        "        collect_step(env, policy, buffer)\n",
        "\n",
        "# training!!\n",
        "agent.train = common.function(agent.train)\n",
        "\n",
        "# Reset the train step\n",
        "agent.train_step_counter.assign(0)\n",
        "\n",
        "# Evaluate the agent's policy once before training.\n",
        "avg_return = compute_avg_return(eval_env, agent.policy, num_eval_episodes)\n",
        "returns = [avg_return]\n",
        "\n",
        "for i in range(num_iterations):\n",
        "    # Collect a few steps using collect_policy and save to the replay buffer.\n",
        "    for j in range(collect_steps_per_iteration):\n",
        "        collect_step(train_env, agent.collect_policy, replay_buffer)\n",
        "\n",
        "    # Sample a batch of data from the buffer and update the agent's network.\n",
        "    experience, unused_info = next(iterator)\n",
        "    train_loss = agent.train(experience).loss\n",
        "\n",
        "    step = agent.train_step_counter.numpy()\n",
        "\n",
        "    if step % log_interval == 0:\n",
        "        print('step = {0}: loss = {1}'.format(step, train_loss))\n",
        "\n",
        "    if step % eval_interval == 0:\n",
        "        avg_return = compute_avg_return(\n",
        "            eval_env, agent.policy, num_eval_episodes)\n",
        "        print('step = {0}: Average Return = {1}'.format(step, avg_return))\n",
        "        returns.append(avg_return)\n",
        "\n",
        "# plot training iterations\n",
        "iterations = range(0, num_iterations + 1, eval_interval)\n",
        "plt.plot(iterations, returns)\n",
        "plt.ylabel('Average Return')\n",
        "plt.xlabel('Iterations')\n",
        "plt.ylim(top=2)\n",
        "\n",
        "# save policy\n",
        "tempdir = os.getenv(\"TEST_TMPDIR\", tempfile.gettempdir())\n",
        "policy_dir = os.path.join(tempdir, 'policy')\n",
        "tf_policy_saver = policy_saver.PolicySaver(agent.policy)\n",
        "tf_policy_saver.save(policy_dir)\n",
        "\n",
        "saved_policy = tf.compat.v2.saved_model.load(policy_dir)"
      ],
      "metadata": {
        "colab": {
          "base_uri": "https://localhost:8080/",
          "height": 1000
        },
        "id": "sFR9DuSwOl4a",
        "outputId": "5912cd37-f1d4-4185-b176-63d8f769d772"
      },
      "execution_count": null,
      "outputs": [
        {
          "output_type": "stream",
          "name": "stderr",
          "text": [
            "/usr/local/lib/python3.7/dist-packages/gym/logger.py:30: UserWarning: \u001b[33mWARN: Box bound precision lowered by casting to float32\u001b[0m\n",
            "  warnings.warn(colorize('%s: %s'%('WARN', msg % args), 'yellow'))\n"
          ]
        },
        {
          "output_type": "stream",
          "name": "stdout",
          "text": [
            "step = 200: loss = 0.008041481487452984\n",
            "step = 400: loss = 0.0032232266385108232\n",
            "step = 600: loss = 0.009250139817595482\n",
            "step = 800: loss = 0.0109369782730937\n",
            "step = 1000: loss = 0.01306467317044735\n",
            "step = 1000: Average Return = 0.5354942083358765\n",
            "step = 1200: loss = 0.016467757523059845\n",
            "step = 1400: loss = 0.012879880145192146\n",
            "step = 1600: loss = 0.007006361149251461\n",
            "step = 1800: loss = 0.003891587955877185\n",
            "step = 2000: loss = 0.008131193928420544\n",
            "step = 2000: Average Return = 0.1612675040960312\n",
            "step = 2200: loss = 0.009624606929719448\n",
            "step = 2400: loss = 0.00528717739507556\n",
            "step = 2600: loss = 0.004044915083795786\n",
            "step = 2800: loss = 0.004466997925192118\n",
            "step = 3000: loss = 0.0045033651404082775\n",
            "step = 3000: Average Return = 0.12244696915149689\n",
            "step = 3200: loss = 0.0036306665278971195\n",
            "step = 3400: loss = 0.005511815659701824\n",
            "step = 3600: loss = 0.00658235140144825\n",
            "step = 3800: loss = 0.006338194478303194\n",
            "step = 4000: loss = 0.00929323397576809\n",
            "step = 4000: Average Return = 0.24859090149402618\n",
            "step = 4200: loss = 0.006926759146153927\n",
            "step = 4400: loss = 0.007871922105550766\n",
            "step = 4600: loss = 0.0075486465357244015\n",
            "step = 4800: loss = 0.007906712591648102\n",
            "step = 5000: loss = 0.00736301951110363\n",
            "step = 5000: Average Return = 0.24646659195423126\n",
            "step = 5200: loss = 0.009798913262784481\n",
            "step = 5400: loss = 0.007958192378282547\n",
            "step = 5600: loss = 0.008376269601285458\n",
            "step = 5800: loss = 0.0062589989975094795\n",
            "step = 6000: loss = 0.0067062159068882465\n",
            "step = 6000: Average Return = 0.14440123736858368\n",
            "step = 6200: loss = 0.007267446722835302\n",
            "step = 6400: loss = 0.007764493580907583\n",
            "step = 6600: loss = 0.006363417953252792\n",
            "step = 6800: loss = 0.005893305875360966\n",
            "step = 7000: loss = 0.0058836424723267555\n",
            "step = 7000: Average Return = 0.1558239459991455\n",
            "step = 7200: loss = 0.005673126317560673\n",
            "step = 7400: loss = 0.007007124368101358\n",
            "step = 7600: loss = 0.0050561935640871525\n",
            "step = 7800: loss = 0.00892576389014721\n",
            "step = 8000: loss = 0.006352887488901615\n",
            "step = 8000: Average Return = 0.1528853178024292\n",
            "step = 8200: loss = 0.009132228791713715\n",
            "step = 8400: loss = 0.006661452818661928\n",
            "step = 8600: loss = 0.009044235572218895\n",
            "step = 8800: loss = 0.007064569275826216\n",
            "step = 9000: loss = 0.005006598308682442\n",
            "step = 9000: Average Return = 0.3750474452972412\n",
            "step = 9200: loss = 0.010709677822887897\n",
            "step = 9400: loss = 0.008862103335559368\n",
            "step = 9600: loss = 0.007351668551564217\n",
            "step = 9800: loss = 0.007108881138265133\n",
            "step = 10000: loss = 0.007567030377686024\n",
            "step = 10000: Average Return = 0.18959175050258636\n",
            "step = 10200: loss = 0.00705434987321496\n",
            "step = 10400: loss = 0.010605497285723686\n",
            "step = 10600: loss = 0.0058731259778141975\n",
            "step = 10800: loss = 0.006730270572006702\n",
            "step = 11000: loss = 0.011207749135792255\n",
            "step = 11000: Average Return = 0.08771345019340515\n",
            "step = 11200: loss = 0.004757277201861143\n",
            "step = 11400: loss = 0.006423707120120525\n",
            "step = 11600: loss = 0.00645457673817873\n",
            "step = 11800: loss = 0.007684689946472645\n",
            "step = 12000: loss = 0.005905115976929665\n",
            "step = 12000: Average Return = 0.21595361828804016\n",
            "step = 12200: loss = 0.008831115439534187\n",
            "step = 12400: loss = 0.005706010386347771\n",
            "step = 12600: loss = 0.005724331364035606\n",
            "step = 12800: loss = 0.0051912046037614346\n",
            "step = 13000: loss = 0.006215604022145271\n",
            "step = 13000: Average Return = 0.3119807243347168\n",
            "step = 13200: loss = 0.005536871962249279\n",
            "step = 13400: loss = 0.005478694569319487\n",
            "step = 13600: loss = 0.005161514040082693\n",
            "step = 13800: loss = 0.005743793211877346\n",
            "step = 14000: loss = 0.004352930933237076\n",
            "step = 14000: Average Return = 0.2843053340911865\n",
            "step = 14200: loss = 0.007033033296465874\n",
            "step = 14400: loss = 0.005527947098016739\n",
            "step = 14600: loss = 0.00680506182834506\n",
            "step = 14800: loss = 0.005267368163913488\n",
            "step = 15000: loss = 0.003777678357437253\n",
            "step = 15000: Average Return = 0.05512067675590515\n",
            "step = 15200: loss = 0.0048464033752679825\n",
            "step = 15400: loss = 0.00818763580173254\n",
            "step = 15600: loss = 0.00701959989964962\n",
            "step = 15800: loss = 0.005129003431648016\n",
            "step = 16000: loss = 0.009460401721298695\n",
            "step = 16000: Average Return = 0.21331124007701874\n",
            "step = 16200: loss = 0.009697158820927143\n",
            "step = 16400: loss = 0.0042055519297719\n",
            "step = 16600: loss = 0.005697239656001329\n",
            "step = 16800: loss = 0.005704554729163647\n",
            "step = 17000: loss = 0.005109274294227362\n",
            "step = 17000: Average Return = 0.21403703093528748\n",
            "step = 17200: loss = 0.008435290306806564\n",
            "step = 17400: loss = 0.0042239101603627205\n",
            "step = 17600: loss = 0.005076163914054632\n",
            "step = 17800: loss = 0.00566056976094842\n",
            "step = 18000: loss = 0.006766067817807198\n",
            "step = 18000: Average Return = 0.32456526160240173\n",
            "step = 18200: loss = 0.006579682696610689\n",
            "step = 18400: loss = 0.006058409810066223\n",
            "step = 18600: loss = 0.014545222744345665\n",
            "step = 18800: loss = 0.005959699396044016\n",
            "step = 19000: loss = 0.00521648395806551\n",
            "step = 19000: Average Return = 0.23950190842151642\n",
            "step = 19200: loss = 0.008957059122622013\n",
            "step = 19400: loss = 0.004528959281742573\n",
            "step = 19600: loss = 0.005228746682405472\n",
            "step = 19800: loss = 0.007915262132883072\n",
            "step = 20000: loss = 0.005664312280714512\n"
          ]
        },
        {
          "output_type": "stream",
          "name": "stderr",
          "text": [
            "WARNING:absl:Function `function_with_signature` contains input name(s) 0/step_type, 0/reward, 0/discount, 0/observation with unsupported characters which will be renamed to step_type, reward, discount, observation in the SavedModel.\n"
          ]
        },
        {
          "output_type": "stream",
          "name": "stdout",
          "text": [
            "step = 20000: Average Return = 0.2176072597503662\n"
          ]
        },
        {
          "output_type": "stream",
          "name": "stderr",
          "text": [
            "WARNING:absl:Found untraced functions such as QNetwork_layer_call_fn, QNetwork_layer_call_and_return_conditional_losses, EncodingNetwork_layer_call_fn, EncodingNetwork_layer_call_and_return_conditional_losses, dense_9_layer_call_fn while saving (showing 5 of 25). These functions will not be directly callable after loading.\n"
          ]
        },
        {
          "output_type": "stream",
          "name": "stdout",
          "text": [
            "INFO:tensorflow:Assets written to: /tmp/policy/assets\n"
          ]
        },
        {
          "output_type": "stream",
          "name": "stderr",
          "text": [
            "/usr/local/lib/python3.7/dist-packages/tensorflow/python/saved_model/nested_structure_coder.py:561: UserWarning: Encoding a StructuredValue with type tf_agents.policies.greedy_policy.DeterministicWithLogProb_ACTTypeSpec; loading this StructuredValue will require that this type be imported and registered.\n",
            "  \"imported and registered.\" % type_spec_class_name)\n",
            "INFO:tensorflow:Assets written to: /tmp/policy/assets\n"
          ]
        },
        {
          "output_type": "display_data",
          "data": {
            "image/png": "[encoded data removed]",
            "text/plain": [
              "<Figure size 432x288 with 1 Axes>"
            ]
          },
          "metadata": {
            "needs_background": "light"
          }
        }
      ]
    },
    {
      "cell_type": "code",
      "source": [
        "npv = compute_avg_return(eval_env, agent.policy, num_episodes=10000) # 10000 paths\n",
        "pricing_dict['RL-DDQN - 10000 Path'] = npv\n",
        "pricing_dict"
      ],
      "metadata": {
        "colab": {
          "base_uri": "https://localhost:8080/"
        },
        "id": "zHJh5dMZOu1b",
        "outputId": "74dabecf-3e5a-4a61-9e54-299c2090aba7"
      },
      "execution_count": null,
      "outputs": [
        {
          "output_type": "execute_result",
          "data": {
            "text/plain": [
              "{'Bermudan Put with 11 Decision Points - Binomial Tree': 0.18484082892803913,\n",
              " 'RL-DDQN - 100 Path': 0.2136646,\n",
              " 'RL-DQN - 100 Path': 0.20071062}"
            ]
          },
          "metadata": {},
          "execution_count": 19
        }
      ]
    },
    {
      "cell_type": "markdown",
      "source": [
        "**PPO Agent**"
      ],
      "metadata": {
        "id": "Q576utxFFWy3"
      }
    },
    {
      "cell_type": "code",
      "source": [
        "# Hyper-parameters\n",
        "num_iterations = 20000  # @param {type:\"integer\"}\n",
        "\n",
        "collect_steps_per_iteration = 10  # @param {type:\"integer\"}\n",
        "replay_buffer_max_length = 100000  # @param {type:\"integer\"}\n",
        "batch_size = 256  # @param {type:\"integer\"}\n",
        "\n",
        "learning_rate = 1e-3  # @param {type:\"number\"}\n",
        "num_eval_episodes = 10  # @param {type:\"integer\"}\n",
        "\n",
        "eval_interval = 1000  # @param {type:\"integer\"}\n",
        "log_interval = 200  # @param {type:\"integer\"}\n",
        "\n",
        "train_env_gym = BermudanOptionEnv() # american put env\n",
        "eval_env_gym = BermudanOptionEnv() # test case\n",
        "\n",
        "train_env_wrap = gym_wrapper.GymWrapper(train_env_gym)\n",
        "eval_env_wrap = gym_wrapper.GymWrapper(eval_env_gym)\n",
        "\n",
        "train_env = tf_py_environment.TFPyEnvironment(train_env_wrap)\n",
        "eval_env = tf_py_environment.TFPyEnvironment(eval_env_wrap)\n",
        "\n",
        "fc_layer_params = (100,) # number of hidden layers\n",
        "\n",
        "q_net = q_network.QNetwork(\n",
        "    train_env.observation_spec(),\n",
        "    train_env.action_spec(),\n",
        "    fc_layer_params=fc_layer_params)\n",
        "\n",
        "optimizer = tf.compat.v1.train.AdamOptimizer(learning_rate=learning_rate)\n",
        "\n",
        "train_step_counter = tf.Variable(0)\n",
        "\n",
        "agent = ppo_agent.PPOAgent(\n",
        "    train_env.time_step_spec(),\n",
        "    train_env.action_spec(),\n",
        "    q_network=q_net,\n",
        "    optimizer=optimizer,\n",
        "    td_errors_loss_fn=common.element_wise_squared_loss,\n",
        "    train_step_counter=train_step_counter)\n",
        "\n",
        "agent.initialize()\n",
        "\n",
        "replay_buffer = tf_uniform_replay_buffer.TFUniformReplayBuffer(\n",
        "    data_spec=agent.collect_data_spec,\n",
        "    batch_size=train_env.batch_size,\n",
        "    max_length=replay_buffer_max_length)\n",
        "\n",
        "# the buffer will update the Q table based on not only the past one step, but some older steps as well.\n",
        "\n",
        "dataset = replay_buffer.as_dataset(\n",
        "    num_parallel_calls=3,\n",
        "    sample_batch_size=batch_size,\n",
        "    num_steps=2).prefetch(3)\n",
        "\n",
        "iterator = iter(dataset)\n",
        "\n",
        "# eval_env evaluation\n",
        "\n",
        "# computer average return of the Q network, which in our case is the reward, which is premium option price\n",
        "def compute_avg_return(environment, policy, num_episodes=10):\n",
        "\n",
        "    total_return = 0.0\n",
        "    for i in range(num_episodes):\n",
        "\n",
        "        time_step = environment.reset()\n",
        "        episode_return = 0.0\n",
        "\n",
        "        while not time_step.is_last():\n",
        "            action_step = policy.action(time_step)\n",
        "            time_step = environment.step(action_step.action)\n",
        "            episode_return += time_step.reward\n",
        "        total_return += episode_return\n",
        "\n",
        "    avg_return = total_return / num_episodes\n",
        "    return avg_return.numpy()[0]\n",
        "\n",
        "# Data Collection\n",
        "\n",
        "def collect_step(environment, policy, buffer):\n",
        "    time_step = environment.current_time_step()\n",
        "    action_step = policy.action(time_step)\n",
        "    next_time_step = environment.step(action_step.action)\n",
        "    traj = trajectory.from_transition(time_step, action_step, next_time_step)\n",
        "\n",
        "    # Add trajectory to the replay buffer\n",
        "    buffer.add_batch(traj)\n",
        "\n",
        "# common loop in RL- especailly DQN\n",
        "def collect_data(env, policy, buffer, steps):\n",
        "    for i in range(steps):\n",
        "        collect_step(env, policy, buffer)\n",
        "\n",
        "# training!!\n",
        "agent.train = common.function(agent.train)\n",
        "\n",
        "# Reset the train step\n",
        "agent.train_step_counter.assign(0)\n",
        "\n",
        "# Evaluate the agent's policy once before training.\n",
        "avg_return = compute_avg_return(eval_env, agent.policy, num_eval_episodes)\n",
        "returns = [avg_return]\n",
        "\n",
        "for i in range(num_iterations):\n",
        "    # Collect a few steps using collect_policy and save to the replay buffer.\n",
        "    for j in range(collect_steps_per_iteration):\n",
        "        collect_step(train_env, agent.collect_policy, replay_buffer)\n",
        "\n",
        "    # Sample a batch of data from the buffer and update the agent's network.\n",
        "    experience, unused_info = next(iterator)\n",
        "    train_loss = agent.train(experience).loss\n",
        "\n",
        "    step = agent.train_step_counter.numpy()\n",
        "\n",
        "    if step % log_interval == 0:\n",
        "        print('step = {0}: loss = {1}'.format(step, train_loss))\n",
        "\n",
        "    if step % eval_interval == 0:\n",
        "        avg_return = compute_avg_return(\n",
        "            eval_env, agent.policy, num_eval_episodes)\n",
        "        print('step = {0}: Average Return = {1}'.format(step, avg_return))\n",
        "        returns.append(avg_return)\n",
        "\n",
        "# plot training iterations\n",
        "iterations = range(0, num_iterations + 1, eval_interval)\n",
        "plt.plot(iterations, returns)\n",
        "plt.ylabel('Average Return')\n",
        "plt.xlabel('Iterations')\n",
        "plt.ylim(top=2)\n",
        "\n",
        "# save policy\n",
        "tempdir = os.getenv(\"TEST_TMPDIR\", tempfile.gettempdir())\n",
        "policy_dir = os.path.join(tempdir, 'policy')\n",
        "tf_policy_saver = policy_saver.PolicySaver(agent.policy)\n",
        "tf_policy_saver.save(policy_dir)\n",
        "\n",
        "saved_policy = tf.compat.v2.saved_model.load(policy_dir)"
      ],
      "metadata": {
        "id": "aGLKZyvfFY83"
      },
      "execution_count": null,
      "outputs": []
    },
    {
      "cell_type": "code",
      "source": [
        "npv = compute_avg_return(eval_env, agent.policy, num_episodes=10000) # 10000 path\n",
        "pricing_dict['RL-PPO - 10000 Path'] = npv\n",
        "pricing_dict"
      ],
      "metadata": {
        "id": "iAxqc8gXFY_V"
      },
      "execution_count": null,
      "outputs": []
    },
    {
      "cell_type": "markdown",
      "source": [
        "## **Reinforcement Learning Solver for Pricing American Put Options**"
      ],
      "metadata": {
        "id": "Sgbz1XFPoIEj"
      }
    },
    {
      "cell_type": "markdown",
      "source": [
        "**Analytical Solutions - Binomial Tree Option Pricing Method**"
      ],
      "metadata": {
        "id": "2LZecYpkoMH9"
      }
    },
    {
      "cell_type": "code",
      "source": [
        "import QuantLib as ql \n",
        "import pandas as pd\n",
        "def get_american_put_option(): \n",
        "    maturity = ql.Date(1, 1, 2023)\n",
        "    S0=5\n",
        "    K = 5\n",
        "    r = 0.03\n",
        "    sigma = 0.10\n",
        "    d = 0.0\n",
        "    otype = ql.Option.Put\n",
        "    dc = ql.Actual365Fixed()\n",
        "    calendar = ql.NullCalendar()\n",
        "\n",
        "    today = ql.Date(1, 1, 2021)\n",
        "    ql.Settings.instance().evaluationDate = today\n",
        "\n",
        "    payoff = ql.PlainVanillaPayoff(otype, K)\n",
        "\n",
        "    american_exercise = ql.AmericanExercise(today, maturity)\n",
        "    american_option = ql.VanillaOption(payoff, american_exercise)\n",
        "\n",
        "    d_ts = ql.YieldTermStructureHandle(ql.FlatForward(today, d, dc))\n",
        "    r_ts = ql.YieldTermStructureHandle(ql.FlatForward(today, r, dc))\n",
        "    sigma_ts = ql.BlackVolTermStructureHandle(ql.BlackConstantVol(today, calendar, sigma, dc))\n",
        "    bsm_process = ql.BlackScholesMertonProcess(ql.QuoteHandle(ql.SimpleQuote(S0)), d_ts, r_ts, sigma_ts)\n",
        "\n",
        "    binomial_engine = ql.BinomialVanillaEngine(bsm_process, \"crr\", 100)\n",
        "    american_option.setPricingEngine(binomial_engine)\n",
        "    return american_option.NPV()"
      ],
      "metadata": {
        "id": "kH4NJBngoVP4"
      },
      "execution_count": null,
      "outputs": []
    },
    {
      "cell_type": "code",
      "source": [
        "pricing_dict = {}\n",
        "pricing_dict['American Put - Binomial Tree'] = get_american_put_option()\n",
        "pricing_df = pd.DataFrame.from_dict(pricing_dict, orient='index')\n",
        "pricing_df.columns = ['Option Price']\n",
        "print(pricing_df)"
      ],
      "metadata": {
        "colab": {
          "base_uri": "https://localhost:8080/"
        },
        "id": "RayRJ5YTpMG9",
        "outputId": "e2f3599a-0bc1-41c2-9494-5440cb3fd592"
      },
      "execution_count": null,
      "outputs": [
        {
          "output_type": "stream",
          "name": "stdout",
          "text": [
            "                              Option Price\n",
            "American Put - Binomial Tree      0.183273\n"
          ]
        }
      ]
    },
    {
      "cell_type": "markdown",
      "source": [
        "**Using Reinforcement Learning Solver to Solve American Put Options**"
      ],
      "metadata": {
        "id": "kvIRGlTMn-rn"
      }
    },
    {
      "cell_type": "code",
      "source": [
        "import matplotlib.pyplot as plt\n",
        "from tf_agents.policies import policy_saver\n",
        "import tempfile\n",
        "import random\n",
        "import os\n",
        "from tf_agents.utils import common  # loss function\n",
        "from tf_agents.trajectories import trajectory  # s->s' trajectory\n",
        "from tf_agents.replay_buffers import tf_uniform_replay_buffer  # replay buffer\n",
        "from tf_agents.networks import q_network  # Q net\n",
        "from tf_agents.environments import tf_py_environment  # gym to tf gym\n",
        "from tf_agents.environments import gym_wrapper  # wrap OpenAI gym\n",
        "from tf_agents.agents.dqn import dqn_agent  # DQN Agent\n",
        "from tf_agents.agents.ppo import ppo_agent # PPO Agent\n",
        "import tensorflow as tf\n",
        "import numpy as np\n",
        "import gym\n",
        "import QuantLib as ql  # used for calculating the price of option if we hold it, baseline\n",
        "\n",
        "# American Put Gym Environment\n",
        "class AmericanPutOptionEnv(gym.Env): #American Put\n",
        "    def __init__(self):\n",
        "        self.S0 = 5.0\n",
        "        self.K = 5.0\n",
        "        self.r = 0.03\n",
        "        self.sigma = 0.10\n",
        "        self.T = 2.0\n",
        "        self.N = 730   # 730 days\n",
        "        self.S1 = 0\n",
        "        self.reward = 0\n",
        "        self.current_day = 0    # from day 0 taking N steps to day N\n",
        "        self.action_space = gym.spaces.Discrete(2)         # 0: hold, 1:exercise, the action space, the RL should learn it\n",
        "        self.observation_space = gym.spaces.Box(low=np.array([0, 0]), high=np.array(\n",
        "            [np.inf, 1.0]), dtype=np.float32)      # S in [0, inf], tao in [0, 1]\n",
        "\n",
        "    def step(self, action):\n",
        "        if action == 1:        # we exercise the option\n",
        "            reward = max(self.K-self.S1, 0.0) * np.exp(-self.r * self.T * (self.current_day/self.N)) #early payoff\n",
        "            done = True\n",
        "        else:       # we hold the option, wait to the next exercise date\n",
        "            if self.current_day == self.N:    # at maturity\n",
        "                reward = max(self.K-self.S1, 0.0) * np.exp(-self.r * self.T) # payoff after discouted\n",
        "                done = True\n",
        "            else:  # move to tomorrow/next exercise date\n",
        "                reward = 0 # no payoff\n",
        "                self.S1 = self.S1 * np.exp((self.r - 0.5 * self.sigma**2) * (self.T/self.N) + self.sigma * np.sqrt(self.T/self.N) * np.random.normal()) #GBM process price\n",
        "                self.current_day += 1\n",
        "                done = False # move to next time\n",
        "\n",
        "        tao = 1.0-self.current_day/self.N        # time to maturity, in unit of years\n",
        "        return np.array([self.S1, tao]), reward, done, {}\n",
        "\n",
        "    def reset(self):\n",
        "        self.current_day = 0\n",
        "        self.S1 = self.S0\n",
        "        tao = 1.0-self.current_day/self.N        # time to maturity, in unit of years\n",
        "        return [self.S1, tao]"
      ],
      "metadata": {
        "id": "ddbhIOCvoDHg"
      },
      "execution_count": null,
      "outputs": []
    },
    {
      "cell_type": "markdown",
      "source": [
        "**DQN**"
      ],
      "metadata": {
        "id": "8g3IZwkopudQ"
      }
    },
    {
      "cell_type": "code",
      "source": [
        "# Hyper-parameters\n",
        "num_iterations = 20000  # @param {type:\"integer\"}\n",
        "\n",
        "collect_steps_per_iteration = 10  # @param {type:\"integer\"}\n",
        "replay_buffer_max_length = 100000  # @param {type:\"integer\"}\n",
        "batch_size = 256  # @param {type:\"integer\"}\n",
        "\n",
        "learning_rate = 1e-3  # @param {type:\"number\"}\n",
        "num_eval_episodes = 10  # @param {type:\"integer\"}\n",
        "\n",
        "eval_interval = 1000  # @param {type:\"integer\"}\n",
        "log_interval = 200  # @param {type:\"integer\"}\n",
        "\n",
        "train_env_gym = AmericanPutOptionEnv() # american put env\n",
        "eval_env_gym = AmericanPutOptionEnv() # test case\n",
        "\n",
        "train_env_wrap = gym_wrapper.GymWrapper(train_env_gym)\n",
        "eval_env_wrap = gym_wrapper.GymWrapper(eval_env_gym)\n",
        "\n",
        "train_env = tf_py_environment.TFPyEnvironment(train_env_wrap)\n",
        "eval_env = tf_py_environment.TFPyEnvironment(eval_env_wrap)\n",
        "\n",
        "fc_layer_params = (100,) # number of hidden layers\n",
        "\n",
        "q_net = q_network.QNetwork(\n",
        "    train_env.observation_spec(),\n",
        "    train_env.action_spec(),\n",
        "    fc_layer_params=fc_layer_params)\n",
        "\n",
        "optimizer = tf.compat.v1.train.AdamOptimizer(learning_rate=learning_rate)\n",
        "\n",
        "train_step_counter = tf.Variable(0)\n",
        "\n",
        "agent = dqn_agent.DqnAgent(\n",
        "    train_env.time_step_spec(),\n",
        "    train_env.action_spec(),\n",
        "    q_network=q_net,\n",
        "    optimizer=optimizer,\n",
        "    td_errors_loss_fn=common.element_wise_squared_loss,\n",
        "    train_step_counter=train_step_counter)\n",
        "\n",
        "agent.initialize()\n",
        "\n",
        "replay_buffer = tf_uniform_replay_buffer.TFUniformReplayBuffer(\n",
        "    data_spec=agent.collect_data_spec,\n",
        "    batch_size=train_env.batch_size,\n",
        "    max_length=replay_buffer_max_length)\n",
        "\n",
        "# the buffer will update the Q table based on not only the past one step, but some older steps as well.\n",
        "\n",
        "dataset = replay_buffer.as_dataset(\n",
        "    num_parallel_calls=3,\n",
        "    sample_batch_size=batch_size,\n",
        "    num_steps=2).prefetch(3)\n",
        "\n",
        "iterator = iter(dataset)\n",
        "\n",
        "# eval_env evaluation\n",
        "\n",
        "# computer average return of the Q network, which in our case is the reward, which is premium option price\n",
        "def compute_avg_return(environment, policy, num_episodes=10):\n",
        "\n",
        "    total_return = 0.0\n",
        "    for i in range(num_episodes):\n",
        "\n",
        "        time_step = environment.reset()\n",
        "        episode_return = 0.0\n",
        "\n",
        "        while not time_step.is_last():\n",
        "            action_step = policy.action(time_step)\n",
        "            time_step = environment.step(action_step.action)\n",
        "            episode_return += time_step.reward\n",
        "        total_return += episode_return\n",
        "\n",
        "    avg_return = total_return / num_episodes\n",
        "    return avg_return.numpy()[0]\n",
        "\n",
        "# Data Collection\n",
        "\n",
        "def collect_step(environment, policy, buffer):\n",
        "    time_step = environment.current_time_step()\n",
        "    action_step = policy.action(time_step)\n",
        "    next_time_step = environment.step(action_step.action)\n",
        "    traj = trajectory.from_transition(time_step, action_step, next_time_step)\n",
        "\n",
        "    # Add trajectory to the replay buffer\n",
        "    buffer.add_batch(traj)\n",
        "\n",
        "# common loop in RL- especailly DQN\n",
        "def collect_data(env, policy, buffer, steps):\n",
        "    for i in range(steps):\n",
        "        collect_step(env, policy, buffer)\n",
        "\n",
        "# training!!\n",
        "agent.train = common.function(agent.train)\n",
        "\n",
        "# Reset the train step\n",
        "agent.train_step_counter.assign(0)\n",
        "\n",
        "# Evaluate the agent's policy once before training.\n",
        "avg_return = compute_avg_return(eval_env, agent.policy, num_eval_episodes)\n",
        "returns = [avg_return]\n",
        "\n",
        "for i in range(num_iterations):\n",
        "    # Collect a few steps using collect_policy and save to the replay buffer.\n",
        "    for j in range(collect_steps_per_iteration):\n",
        "        collect_step(train_env, agent.collect_policy, replay_buffer)\n",
        "\n",
        "    # Sample a batch of data from the buffer and update the agent's network.\n",
        "    experience, unused_info = next(iterator)\n",
        "    train_loss = agent.train(experience).loss\n",
        "\n",
        "    step = agent.train_step_counter.numpy()\n",
        "\n",
        "    if step % log_interval == 0:\n",
        "        print('step = {0}: loss = {1}'.format(step, train_loss))\n",
        "\n",
        "    if step % eval_interval == 0:\n",
        "        avg_return = compute_avg_return(\n",
        "            eval_env, agent.policy, num_eval_episodes)\n",
        "        print('step = {0}: Average Return = {1}'.format(step, avg_return))\n",
        "        returns.append(avg_return)\n",
        "\n",
        "# plot training iterations\n",
        "iterations = range(0, num_iterations + 1, eval_interval)\n",
        "plt.plot(iterations, returns)\n",
        "plt.ylabel('Average Return')\n",
        "plt.xlabel('Iterations')\n",
        "plt.ylim(top=2)\n",
        "\n",
        "# save policy\n",
        "tempdir = os.getenv(\"TEST_TMPDIR\", tempfile.gettempdir())\n",
        "policy_dir = os.path.join(tempdir, 'policy')\n",
        "tf_policy_saver = policy_saver.PolicySaver(agent.policy)\n",
        "tf_policy_saver.save(policy_dir)\n",
        "\n",
        "saved_policy = tf.compat.v2.saved_model.load(policy_dir)"
      ],
      "metadata": {
        "colab": {
          "base_uri": "https://localhost:8080/",
          "height": 1000
        },
        "id": "eYDYLdOQpwwe",
        "outputId": "5f369e27-f401-4514-b4e5-0ebad7d709e4"
      },
      "execution_count": null,
      "outputs": [
        {
          "output_type": "stream",
          "name": "stderr",
          "text": [
            "/usr/local/lib/python3.7/dist-packages/gym/logger.py:30: UserWarning: \u001b[33mWARN: Box bound precision lowered by casting to float32\u001b[0m\n",
            "  warnings.warn(colorize('%s: %s'%('WARN', msg % args), 'yellow'))\n"
          ]
        },
        {
          "output_type": "stream",
          "name": "stdout",
          "text": [
            "step = 200: loss = 0.00023643898020964116\n",
            "step = 400: loss = 0.0006300238310359418\n",
            "step = 600: loss = 0.0013709557242691517\n",
            "step = 800: loss = 0.0004812780243810266\n",
            "step = 1000: loss = 0.001050292165018618\n",
            "step = 1000: Average Return = 0.25243932008743286\n",
            "step = 1200: loss = 0.002294923411682248\n",
            "step = 1400: loss = 0.001324157346971333\n",
            "step = 1600: loss = 0.0009737137006595731\n",
            "step = 1800: loss = 0.00033609848469495773\n",
            "step = 2000: loss = 0.0008918949170038104\n",
            "step = 2000: Average Return = 0.3274080157279968\n",
            "step = 2200: loss = 0.001077444525435567\n",
            "step = 2400: loss = 0.0012682040687650442\n",
            "step = 2600: loss = 0.001699418993666768\n",
            "step = 2800: loss = 0.00201292522251606\n",
            "step = 3000: loss = 0.0015698145143687725\n",
            "step = 3000: Average Return = 0.286185085773468\n",
            "step = 3200: loss = 0.0009771451586857438\n",
            "step = 3400: loss = 0.0015402529388666153\n",
            "step = 3600: loss = 0.0017577941762283444\n",
            "step = 3800: loss = 0.0036192203406244516\n",
            "step = 4000: loss = 0.0034345537424087524\n",
            "step = 4000: Average Return = 0.16225209832191467\n",
            "step = 4200: loss = 0.0022657541558146477\n",
            "step = 4400: loss = 0.0029815786983817816\n",
            "step = 4600: loss = 0.003208139445632696\n",
            "step = 4800: loss = 0.0029475949704647064\n",
            "step = 5000: loss = 0.002145006787031889\n",
            "step = 5000: Average Return = 0.15195563435554504\n",
            "step = 5200: loss = 0.007364370860159397\n",
            "step = 5400: loss = 0.005103145260363817\n",
            "step = 5600: loss = 0.005189734976738691\n",
            "step = 5800: loss = 0.005047312937676907\n",
            "step = 6000: loss = 0.005048427265137434\n",
            "step = 6000: Average Return = 0.20127198100090027\n",
            "step = 6200: loss = 0.002571165096014738\n",
            "step = 6400: loss = 0.006868514697998762\n",
            "step = 6600: loss = 0.005011531058698893\n",
            "step = 6800: loss = 0.005682526156306267\n",
            "step = 7000: loss = 0.007541341707110405\n",
            "step = 7000: Average Return = 0.042703211307525635\n",
            "step = 7200: loss = 0.004866686649620533\n",
            "step = 7400: loss = 0.0021522128954529762\n",
            "step = 7600: loss = 0.00126378214918077\n",
            "step = 7800: loss = 0.000398542353650555\n",
            "step = 8000: loss = 0.0006552799604833126\n",
            "step = 8000: Average Return = 0.4045493006706238\n",
            "step = 8200: loss = 0.00021978825679980218\n",
            "step = 8400: loss = 8.518707181792706e-05\n",
            "step = 8600: loss = 0.00020181998843327165\n",
            "step = 8800: loss = 0.0002977707772515714\n",
            "step = 9000: loss = 4.961073136655614e-05\n",
            "step = 9000: Average Return = 0.17114855349063873\n",
            "step = 9200: loss = 4.883110523223877e-05\n",
            "step = 9400: loss = 0.00020737925660796463\n",
            "step = 9600: loss = 2.3912723918328993e-05\n",
            "step = 9800: loss = 0.0001374772982671857\n",
            "step = 10000: loss = 0.0004233568615745753\n",
            "step = 10000: Average Return = 0.10349106788635254\n",
            "step = 10200: loss = 0.0005777314654551446\n",
            "step = 10400: loss = 0.0007851728587411344\n",
            "step = 10600: loss = 0.0002669128589332104\n",
            "step = 10800: loss = 0.0004336757701821625\n",
            "step = 11000: loss = 0.0008390965522266924\n",
            "step = 11000: Average Return = 0.19147150218486786\n",
            "step = 11200: loss = 7.564030511275632e-06\n",
            "step = 11400: loss = 0.00010344505426473916\n",
            "step = 11600: loss = 0.0003458332794252783\n",
            "step = 11800: loss = 0.0001066722470568493\n",
            "step = 12000: loss = 0.0001866066741058603\n",
            "step = 12000: Average Return = 0.19010257720947266\n",
            "step = 12200: loss = 0.00019329943461343646\n",
            "step = 12400: loss = 0.000329049420543015\n",
            "step = 12600: loss = 0.00032831067801453173\n",
            "step = 12800: loss = 5.963194780633785e-05\n",
            "step = 13000: loss = 2.3839034838601947e-05\n",
            "step = 13000: Average Return = 0.12778803706169128\n",
            "step = 13200: loss = 0.00018045557953882962\n",
            "step = 13400: loss = 5.351301660994068e-05\n",
            "step = 13600: loss = 0.00013178007793612778\n",
            "step = 13800: loss = 5.114445593790151e-05\n",
            "step = 14000: loss = 0.00019429821986705065\n",
            "step = 14000: Average Return = 0.03495773673057556\n",
            "step = 14200: loss = 0.00010733030649134889\n",
            "step = 14400: loss = 4.926376277580857e-05\n",
            "step = 14600: loss = 5.612403037957847e-05\n",
            "step = 14800: loss = 0.0001473280426580459\n",
            "step = 15000: loss = 0.00032324332278221846\n",
            "step = 15000: Average Return = 0.04104376956820488\n",
            "step = 15200: loss = 6.221950752660632e-05\n",
            "step = 15400: loss = 3.173571894876659e-05\n",
            "step = 15600: loss = 0.00010771244706120342\n",
            "step = 15800: loss = 0.0002693205024115741\n",
            "step = 16000: loss = 0.0001354240666842088\n",
            "step = 16000: Average Return = 0.14785024523735046\n",
            "step = 16200: loss = 0.00020082313858438283\n",
            "step = 16400: loss = 4.617538797901943e-05\n",
            "step = 16600: loss = 5.435743878479116e-05\n",
            "step = 16800: loss = 0.00018811106565408409\n",
            "step = 17000: loss = 0.00019174943736288697\n",
            "step = 17000: Average Return = 0.09509366005659103\n",
            "step = 17200: loss = 0.0005038953386247158\n",
            "step = 17400: loss = 4.3030056986026466e-05\n",
            "step = 17600: loss = 0.00013765867333859205\n",
            "step = 17800: loss = 0.0002254406426800415\n",
            "step = 18000: loss = 0.00021669999114237726\n",
            "step = 18000: Average Return = 0.15343637764453888\n",
            "step = 18200: loss = 0.00036396144423633814\n",
            "step = 18400: loss = 4.84676675114315e-05\n",
            "step = 18600: loss = 9.238662460120395e-05\n",
            "step = 18800: loss = 0.00011841123341582716\n",
            "step = 19000: loss = 7.006266969256103e-05\n",
            "step = 19000: Average Return = 0.063783660531044\n",
            "step = 19200: loss = 5.559947021538392e-05\n",
            "step = 19400: loss = 9.791057527763769e-05\n",
            "step = 19600: loss = 0.00010749814100563526\n",
            "step = 19800: loss = 3.496388308121823e-05\n",
            "step = 20000: loss = 0.0001712536468403414\n"
          ]
        },
        {
          "output_type": "stream",
          "name": "stderr",
          "text": [
            "WARNING:absl:Function `function_with_signature` contains input name(s) 0/step_type, 0/reward, 0/discount, 0/observation with unsupported characters which will be renamed to step_type, reward, discount, observation in the SavedModel.\n"
          ]
        },
        {
          "output_type": "stream",
          "name": "stdout",
          "text": [
            "step = 20000: Average Return = 0.24572274088859558\n"
          ]
        },
        {
          "output_type": "stream",
          "name": "stderr",
          "text": [
            "WARNING:absl:Found untraced functions such as QNetwork_layer_call_fn, QNetwork_layer_call_and_return_conditional_losses, EncodingNetwork_layer_call_fn, EncodingNetwork_layer_call_and_return_conditional_losses, dense_17_layer_call_fn while saving (showing 5 of 25). These functions will not be directly callable after loading.\n"
          ]
        },
        {
          "output_type": "stream",
          "name": "stdout",
          "text": [
            "INFO:tensorflow:Assets written to: /tmp/policy/assets\n"
          ]
        },
        {
          "output_type": "stream",
          "name": "stderr",
          "text": [
            "/usr/local/lib/python3.7/dist-packages/tensorflow/python/saved_model/nested_structure_coder.py:561: UserWarning: Encoding a StructuredValue with type tf_agents.policies.greedy_policy.DeterministicWithLogProb_ACTTypeSpec; loading this StructuredValue will require that this type be imported and registered.\n",
            "  \"imported and registered.\" % type_spec_class_name)\n",
            "INFO:tensorflow:Assets written to: /tmp/policy/assets\n"
          ]
        },
        {
          "output_type": "display_data",
          "data": {
            "image/png": "[encoded data removed]",
            "text/plain": [
              "<Figure size 432x288 with 1 Axes>"
            ]
          },
          "metadata": {
            "needs_background": "light"
          }
        }
      ]
    },
    {
      "cell_type": "code",
      "source": [
        "npv = compute_avg_return(eval_env, agent.policy, num_episodes=10000) # not averaged\n",
        "pricing_dict['RL-DQN - 10000 Path'] = npv\n",
        "pricing_dict"
      ],
      "metadata": {
        "colab": {
          "base_uri": "https://localhost:8080/"
        },
        "id": "eYn-wx9a0BdR",
        "outputId": "616c5706-29f7-46b4-b646-2529da9331da"
      },
      "execution_count": null,
      "outputs": [
        {
          "output_type": "execute_result",
          "data": {
            "text/plain": [
              "{'American Put - Binomial Tree': 0.18327259259578063,\n",
              " 'RL-DQN - 100 Path': 0.1414174}"
            ]
          },
          "metadata": {},
          "execution_count": 27
        }
      ]
    },
    {
      "cell_type": "markdown",
      "source": [
        "**DDQN**"
      ],
      "metadata": {
        "id": "6FLMHVnuBlHl"
      }
    },
    {
      "cell_type": "code",
      "source": [
        "# Hyper-parameters\n",
        "num_iterations = 20000  # @param {type:\"integer\"}\n",
        "\n",
        "collect_steps_per_iteration = 10  # @param {type:\"integer\"}\n",
        "replay_buffer_max_length = 100000  # @param {type:\"integer\"}\n",
        "batch_size = 256  # @param {type:\"integer\"}\n",
        "\n",
        "learning_rate = 1e-3  # @param {type:\"number\"}\n",
        "num_eval_episodes = 10  # @param {type:\"integer\"}\n",
        "\n",
        "eval_interval = 1000  # @param {type:\"integer\"}\n",
        "log_interval = 200  # @param {type:\"integer\"}\n",
        "\n",
        "train_env_gym = BermudanOptionEnv() # american put env\n",
        "eval_env_gym = BermudanOptionEnv() # test case\n",
        "\n",
        "train_env_wrap = gym_wrapper.GymWrapper(train_env_gym)\n",
        "eval_env_wrap = gym_wrapper.GymWrapper(eval_env_gym)\n",
        "\n",
        "train_env = tf_py_environment.TFPyEnvironment(train_env_wrap)\n",
        "eval_env = tf_py_environment.TFPyEnvironment(eval_env_wrap)\n",
        "\n",
        "fc_layer_params = (100,) # number of hidden layers\n",
        "\n",
        "q_net = q_network.QNetwork(\n",
        "    train_env.observation_spec(),\n",
        "    train_env.action_spec(),\n",
        "    fc_layer_params=fc_layer_params)\n",
        "\n",
        "optimizer = tf.compat.v1.train.AdamOptimizer(learning_rate=learning_rate)\n",
        "\n",
        "train_step_counter = tf.Variable(0)\n",
        "\n",
        "agent = dqn_agent.DdqnAgent(\n",
        "    train_env.time_step_spec(),\n",
        "    train_env.action_spec(),\n",
        "    q_network=q_net,\n",
        "    optimizer=optimizer,\n",
        "    td_errors_loss_fn=common.element_wise_squared_loss,\n",
        "    train_step_counter=train_step_counter)\n",
        "\n",
        "agent.initialize()\n",
        "\n",
        "replay_buffer = tf_uniform_replay_buffer.TFUniformReplayBuffer(\n",
        "    data_spec=agent.collect_data_spec,\n",
        "    batch_size=train_env.batch_size,\n",
        "    max_length=replay_buffer_max_length)\n",
        "\n",
        "# the buffer will update the Q table based on not only the past one step, but some older steps as well.\n",
        "\n",
        "dataset = replay_buffer.as_dataset(\n",
        "    num_parallel_calls=3,\n",
        "    sample_batch_size=batch_size,\n",
        "    num_steps=2).prefetch(3)\n",
        "\n",
        "iterator = iter(dataset)\n",
        "\n",
        "# eval_env evaluation\n",
        "\n",
        "# computer average return of the Q network, which in our case is the reward, which is premium option price\n",
        "def compute_avg_return(environment, policy, num_episodes=10):\n",
        "\n",
        "    total_return = 0.0\n",
        "    for i in range(num_episodes):\n",
        "\n",
        "        time_step = environment.reset()\n",
        "        episode_return = 0.0\n",
        "\n",
        "        while not time_step.is_last():\n",
        "            action_step = policy.action(time_step)\n",
        "            time_step = environment.step(action_step.action)\n",
        "            episode_return += time_step.reward\n",
        "        total_return += episode_return\n",
        "\n",
        "    avg_return = total_return / num_episodes\n",
        "    return avg_return.numpy()[0]\n",
        "\n",
        "# Data Collection\n",
        "\n",
        "def collect_step(environment, policy, buffer):\n",
        "    time_step = environment.current_time_step()\n",
        "    action_step = policy.action(time_step)\n",
        "    next_time_step = environment.step(action_step.action)\n",
        "    traj = trajectory.from_transition(time_step, action_step, next_time_step)\n",
        "\n",
        "    # Add trajectory to the replay buffer\n",
        "    buffer.add_batch(traj)\n",
        "\n",
        "# common loop in RL- especailly DQN\n",
        "def collect_data(env, policy, buffer, steps):\n",
        "    for i in range(steps):\n",
        "        collect_step(env, policy, buffer)\n",
        "\n",
        "# training!!\n",
        "agent.train = common.function(agent.train)\n",
        "\n",
        "# Reset the train step\n",
        "agent.train_step_counter.assign(0)\n",
        "\n",
        "# Evaluate the agent's policy once before training.\n",
        "avg_return = compute_avg_return(eval_env, agent.policy, num_eval_episodes)\n",
        "returns = [avg_return]\n",
        "\n",
        "for i in range(num_iterations):\n",
        "    # Collect a few steps using collect_policy and save to the replay buffer.\n",
        "    for j in range(collect_steps_per_iteration):\n",
        "        collect_step(train_env, agent.collect_policy, replay_buffer)\n",
        "\n",
        "    # Sample a batch of data from the buffer and update the agent's network.\n",
        "    experience, unused_info = next(iterator)\n",
        "    train_loss = agent.train(experience).loss\n",
        "\n",
        "    step = agent.train_step_counter.numpy()\n",
        "\n",
        "    if step % log_interval == 0:\n",
        "        print('step = {0}: loss = {1}'.format(step, train_loss))\n",
        "\n",
        "    if step % eval_interval == 0:\n",
        "        avg_return = compute_avg_return(\n",
        "            eval_env, agent.policy, num_eval_episodes)\n",
        "        print('step = {0}: Average Return = {1}'.format(step, avg_return))\n",
        "        returns.append(avg_return)\n",
        "\n",
        "# plot training iterations\n",
        "iterations = range(0, num_iterations + 1, eval_interval)\n",
        "plt.plot(iterations, returns)\n",
        "plt.ylabel('Average Return')\n",
        "plt.xlabel('Iterations')\n",
        "plt.ylim(top=2)\n",
        "\n",
        "# save policy\n",
        "tempdir = os.getenv(\"TEST_TMPDIR\", tempfile.gettempdir())\n",
        "policy_dir = os.path.join(tempdir, 'policy')\n",
        "tf_policy_saver = policy_saver.PolicySaver(agent.policy)\n",
        "tf_policy_saver.save(policy_dir)\n",
        "\n",
        "saved_policy = tf.compat.v2.saved_model.load(policy_dir)"
      ],
      "metadata": {
        "colab": {
          "base_uri": "https://localhost:8080/",
          "height": 1000
        },
        "id": "H-MHmW8uBnN4",
        "outputId": "31638d92-4c60-452f-dd97-0c7dc006cba4"
      },
      "execution_count": null,
      "outputs": [
        {
          "output_type": "stream",
          "name": "stderr",
          "text": [
            "/usr/local/lib/python3.7/dist-packages/gym/logger.py:30: UserWarning: \u001b[33mWARN: Box bound precision lowered by casting to float32\u001b[0m\n",
            "  warnings.warn(colorize('%s: %s'%('WARN', msg % args), 'yellow'))\n"
          ]
        },
        {
          "output_type": "stream",
          "name": "stdout",
          "text": [
            "step = 200: loss = 0.02021465077996254\n",
            "step = 400: loss = 0.002763847354799509\n",
            "step = 600: loss = 0.005606097634881735\n",
            "step = 800: loss = 0.009201876819133759\n",
            "step = 1000: loss = 0.0058450354263186455\n",
            "step = 1000: Average Return = 0.2291295975446701\n",
            "step = 1200: loss = 0.0059221358969807625\n",
            "step = 1400: loss = 0.013148041442036629\n",
            "step = 1600: loss = 0.008572177030146122\n",
            "step = 1800: loss = 0.0015853152144700289\n",
            "step = 2000: loss = 0.003436711383983493\n",
            "step = 2000: Average Return = 0.12069052457809448\n",
            "step = 2200: loss = 0.00722106359899044\n",
            "step = 2400: loss = 0.004956073593348265\n",
            "step = 2600: loss = 0.005854591727256775\n",
            "step = 2800: loss = 0.005530149210244417\n",
            "step = 3000: loss = 0.004943207371979952\n",
            "step = 3000: Average Return = 0.11782469600439072\n",
            "step = 3200: loss = 0.006120596081018448\n",
            "step = 3400: loss = 0.007214024662971497\n",
            "step = 3600: loss = 0.009303277358412743\n",
            "step = 3800: loss = 0.007136041764169931\n",
            "step = 4000: loss = 0.006445133127272129\n",
            "step = 4000: Average Return = 0.20632509887218475\n",
            "step = 4200: loss = 0.00583602674305439\n",
            "step = 4400: loss = 0.0055968258529901505\n",
            "step = 4600: loss = 0.007414278574287891\n",
            "step = 4800: loss = 0.009163696318864822\n",
            "step = 5000: loss = 0.008010726422071457\n",
            "step = 5000: Average Return = 0.08261441439390182\n",
            "step = 5200: loss = 0.008054268546402454\n",
            "step = 5400: loss = 0.010216804221272469\n",
            "step = 5600: loss = 0.006374369841068983\n",
            "step = 5800: loss = 0.009786193259060383\n",
            "step = 6000: loss = 0.005782033782452345\n",
            "step = 6000: Average Return = 0.16670463979244232\n",
            "step = 6200: loss = 0.01162546407431364\n",
            "step = 6400: loss = 0.008142667822539806\n",
            "step = 6600: loss = 0.007877483032643795\n",
            "step = 6800: loss = 0.00852852314710617\n",
            "step = 7000: loss = 0.014919999986886978\n",
            "step = 7000: Average Return = 0.1648748517036438\n",
            "step = 7200: loss = 0.008228997699916363\n",
            "step = 7400: loss = 0.008492162451148033\n",
            "step = 7600: loss = 0.006798822898417711\n",
            "step = 7800: loss = 0.00810293946415186\n",
            "step = 8000: loss = 0.007779604289680719\n",
            "step = 8000: Average Return = 0.14036865532398224\n",
            "step = 8200: loss = 0.007650397717952728\n",
            "step = 8400: loss = 0.007581209298223257\n",
            "step = 8600: loss = 0.006659602280706167\n",
            "step = 8800: loss = 0.005517979152500629\n",
            "step = 9000: loss = 0.006968664936721325\n",
            "step = 9000: Average Return = 0.18476584553718567\n",
            "step = 9200: loss = 0.0052261957898736\n",
            "step = 9400: loss = 0.009406807832419872\n",
            "step = 9600: loss = 0.006054988130927086\n",
            "step = 9800: loss = 0.005629220977425575\n",
            "step = 10000: loss = 0.006422343663871288\n",
            "step = 10000: Average Return = 0.34111765027046204\n",
            "step = 10200: loss = 0.00718818511813879\n",
            "step = 10400: loss = 0.007329272106289864\n",
            "step = 10600: loss = 0.005620724055916071\n",
            "step = 10800: loss = 0.007672000210732222\n",
            "step = 11000: loss = 0.007090258412063122\n",
            "step = 11000: Average Return = 0.3866126239299774\n",
            "step = 11200: loss = 0.006888414733111858\n",
            "step = 11400: loss = 0.00829952023923397\n",
            "step = 11600: loss = 0.009080292657017708\n",
            "step = 11800: loss = 0.007694815751165152\n",
            "step = 12000: loss = 0.006405968219041824\n",
            "step = 12000: Average Return = 0.13925403356552124\n",
            "step = 12200: loss = 0.012789524160325527\n",
            "step = 12400: loss = 0.008110035210847855\n",
            "step = 12600: loss = 0.004816429223865271\n",
            "step = 12800: loss = 0.00875113159418106\n",
            "step = 13000: loss = 0.007315977476537228\n",
            "step = 13000: Average Return = 0.390475332736969\n",
            "step = 13200: loss = 0.012038475833833218\n",
            "step = 13400: loss = 0.006528086494654417\n",
            "step = 13600: loss = 0.006718084216117859\n",
            "step = 13800: loss = 0.006550121586769819\n",
            "step = 14000: loss = 0.01286864373832941\n",
            "step = 14000: Average Return = 0.2868642508983612\n",
            "step = 14200: loss = 0.005463710054755211\n",
            "step = 14400: loss = 0.004545321688055992\n",
            "step = 14600: loss = 0.004541020840406418\n",
            "step = 14800: loss = 0.006058318540453911\n",
            "step = 15000: loss = 0.006467827130109072\n",
            "step = 15000: Average Return = 0.21411581337451935\n",
            "step = 15200: loss = 0.0062047261744737625\n",
            "step = 15400: loss = 0.006220283918082714\n",
            "step = 15600: loss = 0.004914033226668835\n",
            "step = 15800: loss = 0.005210123490542173\n",
            "step = 16000: loss = 0.004845001269131899\n",
            "step = 16000: Average Return = 0.08995243906974792\n",
            "step = 16200: loss = 0.005427336320281029\n",
            "step = 16400: loss = 0.005762535147368908\n",
            "step = 16600: loss = 0.004500608891248703\n",
            "step = 16800: loss = 0.0053022801876068115\n",
            "step = 17000: loss = 0.0063918521627783775\n",
            "step = 17000: Average Return = 0.12985295057296753\n",
            "step = 17200: loss = 0.005119123496115208\n",
            "step = 17400: loss = 0.004601311404258013\n",
            "step = 17600: loss = 0.0073091727681458\n",
            "step = 17800: loss = 0.0056823245249688625\n",
            "step = 18000: loss = 0.005909023806452751\n",
            "step = 18000: Average Return = 0.11599370092153549\n",
            "step = 18200: loss = 0.006228108890354633\n",
            "step = 18400: loss = 0.0051205940544605255\n",
            "step = 18600: loss = 0.00543166184797883\n",
            "step = 18800: loss = 0.008727357722818851\n",
            "step = 19000: loss = 0.004836651962250471\n",
            "step = 19000: Average Return = 0.03672686219215393\n",
            "step = 19200: loss = 0.008266986347734928\n",
            "step = 19400: loss = 0.005242376588284969\n",
            "step = 19600: loss = 0.006121658254414797\n",
            "step = 19800: loss = 0.005801650695502758\n",
            "step = 20000: loss = 0.009767402894794941\n"
          ]
        },
        {
          "output_type": "stream",
          "name": "stderr",
          "text": [
            "WARNING:absl:Function `function_with_signature` contains input name(s) 0/step_type, 0/reward, 0/discount, 0/observation with unsupported characters which will be renamed to step_type, reward, discount, observation in the SavedModel.\n"
          ]
        },
        {
          "output_type": "stream",
          "name": "stdout",
          "text": [
            "step = 20000: Average Return = 0.0975307822227478\n"
          ]
        },
        {
          "output_type": "stream",
          "name": "stderr",
          "text": [
            "WARNING:absl:Found untraced functions such as QNetwork_layer_call_fn, QNetwork_layer_call_and_return_conditional_losses, EncodingNetwork_layer_call_fn, EncodingNetwork_layer_call_and_return_conditional_losses, dense_21_layer_call_fn while saving (showing 5 of 25). These functions will not be directly callable after loading.\n"
          ]
        },
        {
          "output_type": "stream",
          "name": "stdout",
          "text": [
            "INFO:tensorflow:Assets written to: /tmp/policy/assets\n"
          ]
        },
        {
          "output_type": "stream",
          "name": "stderr",
          "text": [
            "/usr/local/lib/python3.7/dist-packages/tensorflow/python/saved_model/nested_structure_coder.py:561: UserWarning: Encoding a StructuredValue with type tf_agents.policies.greedy_policy.DeterministicWithLogProb_ACTTypeSpec; loading this StructuredValue will require that this type be imported and registered.\n",
            "  \"imported and registered.\" % type_spec_class_name)\n",
            "INFO:tensorflow:Assets written to: /tmp/policy/assets\n"
          ]
        },
        {
          "output_type": "display_data",
          "data": {
            "image/png": "[encoded data removed]",
            "text/plain": [
              "<Figure size 432x288 with 1 Axes>"
            ]
          },
          "metadata": {
            "needs_background": "light"
          }
        }
      ]
    },
    {
      "cell_type": "code",
      "source": [
        "npv = compute_avg_return(eval_env, agent.policy, num_episodes=10000) # 10000 Paths\n",
        "pricing_dict['RL-DDQN - 10000 Path'] = npv\n",
        "pricing_dict"
      ],
      "metadata": {
        "colab": {
          "base_uri": "https://localhost:8080/"
        },
        "id": "aN7mvd70iYHU",
        "outputId": "fd005427-a6ef-4354-e124-f8b7685223c0"
      },
      "execution_count": null,
      "outputs": [
        {
          "output_type": "execute_result",
          "data": {
            "text/plain": [
              "{'American Put - Binomial Tree': 0.18327259259578063,\n",
              " 'RL-DDQN - 100 Path': 0.18708532,\n",
              " 'RL-DQN - 100 Path': 0.1414174}"
            ]
          },
          "metadata": {},
          "execution_count": 31
        }
      ]
    },
    {
      "cell_type": "markdown",
      "source": [
        "**PPO Agent**"
      ],
      "metadata": {
        "id": "nDoPTzh2GFMv"
      }
    },
    {
      "cell_type": "code",
      "source": [
        "# Hyper-parameters\n",
        "num_iterations = 20000  # @param {type:\"integer\"}\n",
        "\n",
        "collect_steps_per_iteration = 10  # @param {type:\"integer\"}\n",
        "replay_buffer_max_length = 100000  # @param {type:\"integer\"}\n",
        "batch_size = 256  # @param {type:\"integer\"}\n",
        "\n",
        "learning_rate = 1e-3  # @param {type:\"number\"}\n",
        "num_eval_episodes = 10  # @param {type:\"integer\"}\n",
        "\n",
        "eval_interval = 1000  # @param {type:\"integer\"}\n",
        "log_interval = 200  # @param {type:\"integer\"}\n",
        "\n",
        "train_env_gym = BermudanOptionEnv() # american put env\n",
        "eval_env_gym = BermudanOptionEnv() # test case\n",
        "\n",
        "train_env_wrap = gym_wrapper.GymWrapper(train_env_gym)\n",
        "eval_env_wrap = gym_wrapper.GymWrapper(eval_env_gym)\n",
        "\n",
        "train_env = tf_py_environment.TFPyEnvironment(train_env_wrap)\n",
        "eval_env = tf_py_environment.TFPyEnvironment(eval_env_wrap)\n",
        "\n",
        "fc_layer_params = (100,) # number of hidden layers\n",
        "\n",
        "q_net = q_network.QNetwork(\n",
        "    train_env.observation_spec(),\n",
        "    train_env.action_spec(),\n",
        "    fc_layer_params=fc_layer_params)\n",
        "\n",
        "optimizer = tf.compat.v1.train.AdamOptimizer(learning_rate=learning_rate)\n",
        "\n",
        "train_step_counter = tf.Variable(0)\n",
        "\n",
        "agent = ppo_agent.PPOAgent(\n",
        "    train_env.time_step_spec(),\n",
        "    train_env.action_spec(),\n",
        "    q_network=q_net,\n",
        "    optimizer=optimizer,\n",
        "    td_errors_loss_fn=common.element_wise_squared_loss,\n",
        "    train_step_counter=train_step_counter)\n",
        "\n",
        "agent.initialize()\n",
        "\n",
        "replay_buffer = tf_uniform_replay_buffer.TFUniformReplayBuffer(\n",
        "    data_spec=agent.collect_data_spec,\n",
        "    batch_size=train_env.batch_size,\n",
        "    max_length=replay_buffer_max_length)\n",
        "\n",
        "# the buffer will update the Q table based on not only the past one step, but some older steps as well.\n",
        "\n",
        "dataset = replay_buffer.as_dataset(\n",
        "    num_parallel_calls=3,\n",
        "    sample_batch_size=batch_size,\n",
        "    num_steps=2).prefetch(3)\n",
        "\n",
        "iterator = iter(dataset)\n",
        "\n",
        "# eval_env evaluation\n",
        "\n",
        "# computer average return of the Q network, which in our case is the reward, which is premium option price\n",
        "def compute_avg_return(environment, policy, num_episodes=10):\n",
        "\n",
        "    total_return = 0.0\n",
        "    for i in range(num_episodes):\n",
        "\n",
        "        time_step = environment.reset()\n",
        "        episode_return = 0.0\n",
        "\n",
        "        while not time_step.is_last():\n",
        "            action_step = policy.action(time_step)\n",
        "            time_step = environment.step(action_step.action)\n",
        "            episode_return += time_step.reward\n",
        "        total_return += episode_return\n",
        "\n",
        "    avg_return = total_return / num_episodes\n",
        "    return avg_return.numpy()[0]\n",
        "\n",
        "# Data Collection\n",
        "\n",
        "def collect_step(environment, policy, buffer):\n",
        "    time_step = environment.current_time_step()\n",
        "    action_step = policy.action(time_step)\n",
        "    next_time_step = environment.step(action_step.action)\n",
        "    traj = trajectory.from_transition(time_step, action_step, next_time_step)\n",
        "\n",
        "    # Add trajectory to the replay buffer\n",
        "    buffer.add_batch(traj)\n",
        "\n",
        "# common loop in RL- especailly DQN\n",
        "def collect_data(env, policy, buffer, steps):\n",
        "    for i in range(steps):\n",
        "        collect_step(env, policy, buffer)\n",
        "\n",
        "# training!!\n",
        "agent.train = common.function(agent.train)\n",
        "\n",
        "# Reset the train step\n",
        "agent.train_step_counter.assign(0)\n",
        "\n",
        "# Evaluate the agent's policy once before training.\n",
        "avg_return = compute_avg_return(eval_env, agent.policy, num_eval_episodes)\n",
        "returns = [avg_return]\n",
        "\n",
        "for i in range(num_iterations):\n",
        "    # Collect a few steps using collect_policy and save to the replay buffer.\n",
        "    for j in range(collect_steps_per_iteration):\n",
        "        collect_step(train_env, agent.collect_policy, replay_buffer)\n",
        "\n",
        "    # Sample a batch of data from the buffer and update the agent's network.\n",
        "    experience, unused_info = next(iterator)\n",
        "    train_loss = agent.train(experience).loss\n",
        "\n",
        "    step = agent.train_step_counter.numpy()\n",
        "\n",
        "    if step % log_interval == 0:\n",
        "        print('step = {0}: loss = {1}'.format(step, train_loss))\n",
        "\n",
        "    if step % eval_interval == 0:\n",
        "        avg_return = compute_avg_return(\n",
        "            eval_env, agent.policy, num_eval_episodes)\n",
        "        print('step = {0}: Average Return = {1}'.format(step, avg_return))\n",
        "        returns.append(avg_return)\n",
        "\n",
        "# plot training iterations\n",
        "iterations = range(0, num_iterations + 1, eval_interval)\n",
        "plt.plot(iterations, returns)\n",
        "plt.ylabel('Average Return')\n",
        "plt.xlabel('Iterations')\n",
        "plt.ylim(top=2)\n",
        "\n",
        "# save policy\n",
        "tempdir = os.getenv(\"TEST_TMPDIR\", tempfile.gettempdir())\n",
        "policy_dir = os.path.join(tempdir, 'policy')\n",
        "tf_policy_saver = policy_saver.PolicySaver(agent.policy)\n",
        "tf_policy_saver.save(policy_dir)\n",
        "\n",
        "saved_policy = tf.compat.v2.saved_model.load(policy_dir)"
      ],
      "metadata": {
        "id": "HB5sZ8AGGHCR"
      },
      "execution_count": null,
      "outputs": []
    },
    {
      "cell_type": "code",
      "source": [
        "npv = compute_avg_return(eval_env, agent.policy, num_episodes=10000) # 10000 path\n",
        "pricing_dict['RL-PPO - 10000 Path'] = npv\n",
        "pricing_dict"
      ],
      "metadata": {
        "id": "AquXEwUwGHK0"
      },
      "execution_count": null,
      "outputs": []
    },
    {
      "cell_type": "markdown",
      "source": [
        "# **Build & Abandon Case**"
      ],
      "metadata": {
        "id": "8g9m3Qkqae97"
      }
    },
    {
      "cell_type": "code",
      "source": [
        "!sudo apt-get update\n",
        "!sudo apt-get install -y xvfb ffmpeg freeglut3-dev\n",
        "!pip install 'imageio==2.4.0'\n",
        "!pip install pyvirtualdisplay\n",
        "!pip install tf-agents[reverb]\n",
        "!pip install pyglet"
      ],
      "metadata": {
        "colab": {
          "base_uri": "https://localhost:8080/"
        },
        "id": "qmglQTflNyYq",
        "outputId": "cd977138-289c-4953-dfb4-2cdfcab4c14d"
      },
      "execution_count": null,
      "outputs": [
        {
          "output_type": "stream",
          "name": "stdout",
          "text": [
            "Get:1 https://developer.download.nvidia.com/compute/cuda/repos/ubuntu1804/x86_64  InRelease [1,581 B]\n",
            "Ign:2 https://developer.download.nvidia.com/compute/machine-learning/repos/ubuntu1804/x86_64  InRelease\n",
            "Get:3 https://developer.download.nvidia.com/compute/cuda/repos/ubuntu1804/x86_64  Packages [813 kB]\n",
            "Hit:4 https://developer.download.nvidia.com/compute/machine-learning/repos/ubuntu1804/x86_64  Release\n",
            "Hit:6 http://archive.ubuntu.com/ubuntu bionic InRelease\n",
            "Get:7 http://ppa.launchpad.net/c2d4u.team/c2d4u4.0+/ubuntu bionic InRelease [15.9 kB]\n",
            "Get:8 http://archive.ubuntu.com/ubuntu bionic-updates InRelease [88.7 kB]\n",
            "Get:9 https://cloud.r-project.org/bin/linux/ubuntu bionic-cran40/ InRelease [3,626 B]\n",
            "Hit:10 http://ppa.launchpad.net/cran/libgit2/ubuntu bionic InRelease\n",
            "Get:11 http://archive.ubuntu.com/ubuntu bionic-backports InRelease [74.6 kB]\n",
            "Get:12 http://ppa.launchpad.net/deadsnakes/ppa/ubuntu bionic InRelease [15.9 kB]\n",
            "Get:13 http://archive.ubuntu.com/ubuntu bionic-updates/universe amd64 Packages [2,297 kB]\n",
            "Get:14 http://ppa.launchpad.net/graphics-drivers/ppa/ubuntu bionic InRelease [21.3 kB]\n",
            "Get:15 http://ppa.launchpad.net/c2d4u.team/c2d4u4.0+/ubuntu bionic/main Sources [2,022 kB]\n",
            "Get:16 http://archive.ubuntu.com/ubuntu bionic-updates/main amd64 Packages [3,293 kB]\n",
            "Get:17 http://archive.ubuntu.com/ubuntu bionic-updates/multiverse amd64 Packages [29.8 kB]\n",
            "Get:18 http://archive.ubuntu.com/ubuntu bionic-updates/restricted amd64 Packages [1,040 kB]\n",
            "Get:19 http://archive.ubuntu.com/ubuntu bionic-backports/main amd64 Packages [12.2 kB]\n",
            "Get:20 http://ppa.launchpad.net/c2d4u.team/c2d4u4.0+/ubuntu bionic/main amd64 Packages [1,036 kB]\n",
            "Get:21 http://ppa.launchpad.net/deadsnakes/ppa/ubuntu bionic/main amd64 Packages [45.3 kB]\n",
            "Get:22 http://ppa.launchpad.net/graphics-drivers/ppa/ubuntu bionic/main amd64 Packages [47.7 kB]\n",
            "Get:23 http://security.ubuntu.com/ubuntu bionic-security InRelease [88.7 kB]\n",
            "Get:24 http://security.ubuntu.com/ubuntu bionic-security/multiverse amd64 Packages [22.8 kB]\n",
            "Get:25 http://security.ubuntu.com/ubuntu bionic-security/main amd64 Packages [2,861 kB]\n",
            "Get:26 http://security.ubuntu.com/ubuntu bionic-security/restricted amd64 Packages [1,006 kB]\n",
            "Get:27 http://security.ubuntu.com/ubuntu bionic-security/universe amd64 Packages [1,521 kB]\n",
            "Fetched 16.4 MB in 11s (1,534 kB/s)\n",
            "Reading package lists... Done\n",
            "Reading package lists... Done\n",
            "Building dependency tree       \n",
            "Reading state information... Done\n",
            "freeglut3-dev is already the newest version (2.8.1-3).\n",
            "freeglut3-dev set to manually installed.\n",
            "The following package was automatically installed and is no longer required:\n",
            "  libnvidia-common-460\n",
            "Use 'sudo apt autoremove' to remove it.\n",
            "The following additional packages will be installed:\n",
            "  libavcodec-dev libavcodec57 libavdevice57 libavfilter6 libavformat-dev\n",
            "  libavformat57 libavresample-dev libavresample3 libavutil-dev libavutil55\n",
            "  libpostproc54 libswresample-dev libswresample2 libswscale-dev libswscale4\n",
            "Suggested packages:\n",
            "  ffmpeg-doc\n",
            "The following NEW packages will be installed:\n",
            "  xvfb\n",
            "The following packages will be upgraded:\n",
            "  ffmpeg libavcodec-dev libavcodec57 libavdevice57 libavfilter6\n",
            "  libavformat-dev libavformat57 libavresample-dev libavresample3 libavutil-dev\n",
            "  libavutil55 libpostproc54 libswresample-dev libswresample2 libswscale-dev\n",
            "  libswscale4\n",
            "16 upgraded, 1 newly installed, 0 to remove and 73 not upgraded.\n",
            "Need to get 16.2 MB of archives.\n",
            "After this operation, 2,277 kB of additional disk space will be used.\n",
            "Get:1 http://archive.ubuntu.com/ubuntu bionic-updates/universe amd64 libavformat-dev amd64 7:3.4.11-0ubuntu0.1 [1,133 kB]\n",
            "Get:2 http://archive.ubuntu.com/ubuntu bionic-updates/universe amd64 libavcodec-dev amd64 7:3.4.11-0ubuntu0.1 [5,084 kB]\n",
            "Get:3 http://archive.ubuntu.com/ubuntu bionic-updates/universe amd64 libswresample-dev amd64 7:3.4.11-0ubuntu0.1 [68.7 kB]\n",
            "Get:4 http://archive.ubuntu.com/ubuntu bionic-updates/universe amd64 libswresample2 amd64 7:3.4.11-0ubuntu0.1 [55.2 kB]\n",
            "Get:5 http://archive.ubuntu.com/ubuntu bionic-updates/universe amd64 libswscale-dev amd64 7:3.4.11-0ubuntu0.1 [167 kB]\n",
            "Get:6 http://archive.ubuntu.com/ubuntu bionic-updates/universe amd64 libswscale4 amd64 7:3.4.11-0ubuntu0.1 [150 kB]\n",
            "Get:7 http://archive.ubuntu.com/ubuntu bionic-updates/universe amd64 libavresample-dev amd64 7:3.4.11-0ubuntu0.1 [62.1 kB]\n",
            "Get:8 http://archive.ubuntu.com/ubuntu bionic-updates/universe amd64 libavresample3 amd64 7:3.4.11-0ubuntu0.1 [52.6 kB]\n",
            "Get:9 http://archive.ubuntu.com/ubuntu bionic-updates/universe amd64 libavutil-dev amd64 7:3.4.11-0ubuntu0.1 [295 kB]\n",
            "Get:10 http://archive.ubuntu.com/ubuntu bionic-updates/universe amd64 libavutil55 amd64 7:3.4.11-0ubuntu0.1 [191 kB]\n",
            "Get:11 http://archive.ubuntu.com/ubuntu bionic-updates/universe amd64 libavformat57 amd64 7:3.4.11-0ubuntu0.1 [953 kB]\n",
            "Get:12 http://archive.ubuntu.com/ubuntu bionic-updates/universe amd64 libavcodec57 amd64 7:3.4.11-0ubuntu0.1 [4,600 kB]\n",
            "Get:13 http://archive.ubuntu.com/ubuntu bionic-updates/universe amd64 libpostproc54 amd64 7:3.4.11-0ubuntu0.1 [50.3 kB]\n",
            "Get:14 http://archive.ubuntu.com/ubuntu bionic-updates/universe amd64 libavfilter6 amd64 7:3.4.11-0ubuntu0.1 [875 kB]\n",
            "Get:15 http://archive.ubuntu.com/ubuntu bionic-updates/universe amd64 libavdevice57 amd64 7:3.4.11-0ubuntu0.1 [75.1 kB]\n",
            "Get:16 http://archive.ubuntu.com/ubuntu bionic-updates/universe amd64 ffmpeg amd64 7:3.4.11-0ubuntu0.1 [1,587 kB]\n",
            "Get:17 http://archive.ubuntu.com/ubuntu bionic-updates/universe amd64 xvfb amd64 2:1.19.6-1ubuntu4.10 [784 kB]\n",
            "Fetched 16.2 MB in 4s (4,577 kB/s)\n",
            "debconf: unable to initialize frontend: Dialog\n",
            "debconf: (No usable dialog-like program is installed, so the dialog based frontend cannot be used. at /usr/share/perl5/Debconf/FrontEnd/Dialog.pm line 76, <> line 17.)\n",
            "debconf: falling back to frontend: Readline\n",
            "debconf: unable to initialize frontend: Readline\n",
            "debconf: (This frontend requires a controlling tty.)\n",
            "debconf: falling back to frontend: Teletype\n",
            "dpkg-preconfigure: unable to re-open stdin: \n",
            "(Reading database ... 155632 files and directories currently installed.)\n",
            "Preparing to unpack .../00-libavformat-dev_7%3a3.4.11-0ubuntu0.1_amd64.deb ...\n",
            "Unpacking libavformat-dev:amd64 (7:3.4.11-0ubuntu0.1) over (7:3.4.8-0ubuntu0.2) ...\n",
            "Preparing to unpack .../01-libavcodec-dev_7%3a3.4.11-0ubuntu0.1_amd64.deb ...\n",
            "Unpacking libavcodec-dev:amd64 (7:3.4.11-0ubuntu0.1) over (7:3.4.8-0ubuntu0.2) ...\n",
            "Preparing to unpack .../02-libswresample-dev_7%3a3.4.11-0ubuntu0.1_amd64.deb ...\n",
            "Unpacking libswresample-dev:amd64 (7:3.4.11-0ubuntu0.1) over (7:3.4.8-0ubuntu0.2) ...\n",
            "Preparing to unpack .../03-libswresample2_7%3a3.4.11-0ubuntu0.1_amd64.deb ...\n",
            "Unpacking libswresample2:amd64 (7:3.4.11-0ubuntu0.1) over (7:3.4.8-0ubuntu0.2) ...\n",
            "Preparing to unpack .../04-libswscale-dev_7%3a3.4.11-0ubuntu0.1_amd64.deb ...\n",
            "Unpacking libswscale-dev:amd64 (7:3.4.11-0ubuntu0.1) over (7:3.4.8-0ubuntu0.2) ...\n",
            "Preparing to unpack .../05-libswscale4_7%3a3.4.11-0ubuntu0.1_amd64.deb ...\n",
            "Unpacking libswscale4:amd64 (7:3.4.11-0ubuntu0.1) over (7:3.4.8-0ubuntu0.2) ...\n",
            "Preparing to unpack .../06-libavresample-dev_7%3a3.4.11-0ubuntu0.1_amd64.deb ...\n",
            "Unpacking libavresample-dev:amd64 (7:3.4.11-0ubuntu0.1) over (7:3.4.8-0ubuntu0.2) ...\n",
            "Preparing to unpack .../07-libavresample3_7%3a3.4.11-0ubuntu0.1_amd64.deb ...\n",
            "Unpacking libavresample3:amd64 (7:3.4.11-0ubuntu0.1) over (7:3.4.8-0ubuntu0.2) ...\n",
            "Preparing to unpack .../08-libavutil-dev_7%3a3.4.11-0ubuntu0.1_amd64.deb ...\n",
            "Unpacking libavutil-dev:amd64 (7:3.4.11-0ubuntu0.1) over (7:3.4.8-0ubuntu0.2) ...\n",
            "Preparing to unpack .../09-libavutil55_7%3a3.4.11-0ubuntu0.1_amd64.deb ...\n",
            "Unpacking libavutil55:amd64 (7:3.4.11-0ubuntu0.1) over (7:3.4.8-0ubuntu0.2) ...\n",
            "Preparing to unpack .../10-libavformat57_7%3a3.4.11-0ubuntu0.1_amd64.deb ...\n",
            "Unpacking libavformat57:amd64 (7:3.4.11-0ubuntu0.1) over (7:3.4.8-0ubuntu0.2) ...\n",
            "Preparing to unpack .../11-libavcodec57_7%3a3.4.11-0ubuntu0.1_amd64.deb ...\n",
            "Unpacking libavcodec57:amd64 (7:3.4.11-0ubuntu0.1) over (7:3.4.8-0ubuntu0.2) ...\n",
            "Preparing to unpack .../12-libpostproc54_7%3a3.4.11-0ubuntu0.1_amd64.deb ...\n",
            "Unpacking libpostproc54:amd64 (7:3.4.11-0ubuntu0.1) over (7:3.4.8-0ubuntu0.2) ...\n",
            "Preparing to unpack .../13-libavfilter6_7%3a3.4.11-0ubuntu0.1_amd64.deb ...\n",
            "Unpacking libavfilter6:amd64 (7:3.4.11-0ubuntu0.1) over (7:3.4.8-0ubuntu0.2) ...\n",
            "Preparing to unpack .../14-libavdevice57_7%3a3.4.11-0ubuntu0.1_amd64.deb ...\n",
            "Unpacking libavdevice57:amd64 (7:3.4.11-0ubuntu0.1) over (7:3.4.8-0ubuntu0.2) ...\n",
            "Preparing to unpack .../15-ffmpeg_7%3a3.4.11-0ubuntu0.1_amd64.deb ...\n",
            "Unpacking ffmpeg (7:3.4.11-0ubuntu0.1) over (7:3.4.8-0ubuntu0.2) ...\n",
            "Selecting previously unselected package xvfb.\n",
            "Preparing to unpack .../16-xvfb_2%3a1.19.6-1ubuntu4.10_amd64.deb ...\n",
            "Unpacking xvfb (2:1.19.6-1ubuntu4.10) ...\n",
            "Setting up libavutil55:amd64 (7:3.4.11-0ubuntu0.1) ...\n",
            "Setting up xvfb (2:1.19.6-1ubuntu4.10) ...\n",
            "Setting up libswresample2:amd64 (7:3.4.11-0ubuntu0.1) ...\n",
            "Setting up libswscale4:amd64 (7:3.4.11-0ubuntu0.1) ...\n",
            "Setting up libpostproc54:amd64 (7:3.4.11-0ubuntu0.1) ...\n",
            "Setting up libavutil-dev:amd64 (7:3.4.11-0ubuntu0.1) ...\n",
            "Setting up libavresample3:amd64 (7:3.4.11-0ubuntu0.1) ...\n",
            "Setting up libavcodec57:amd64 (7:3.4.11-0ubuntu0.1) ...\n",
            "Setting up libavresample-dev:amd64 (7:3.4.11-0ubuntu0.1) ...\n",
            "Setting up libswscale-dev:amd64 (7:3.4.11-0ubuntu0.1) ...\n",
            "Setting up libswresample-dev:amd64 (7:3.4.11-0ubuntu0.1) ...\n",
            "Setting up libavformat57:amd64 (7:3.4.11-0ubuntu0.1) ...\n",
            "Setting up libavfilter6:amd64 (7:3.4.11-0ubuntu0.1) ...\n",
            "Setting up libavcodec-dev:amd64 (7:3.4.11-0ubuntu0.1) ...\n",
            "Setting up libavformat-dev:amd64 (7:3.4.11-0ubuntu0.1) ...\n",
            "Setting up libavdevice57:amd64 (7:3.4.11-0ubuntu0.1) ...\n",
            "Setting up ffmpeg (7:3.4.11-0ubuntu0.1) ...\n",
            "Processing triggers for libc-bin (2.27-3ubuntu1.3) ...\n",
            "/sbin/ldconfig.real: /usr/local/lib/python3.7/dist-packages/ideep4py/lib/libmkldnn.so.0 is not a symbolic link\n",
            "\n",
            "Processing triggers for man-db (2.8.3-2ubuntu0.1) ...\n",
            "Looking in indexes: https://pypi.org/simple, https://us-python.pkg.dev/colab-wheels/public/simple/\n",
            "Collecting imageio==2.4.0\n",
            "  Downloading imageio-2.4.0.tar.gz (3.3 MB)\n",
            "\u001b[K     |████████████████████████████████| 3.3 MB 4.2 MB/s \n",
            "\u001b[?25hRequirement already satisfied: numpy in /usr/local/lib/python3.7/dist-packages (from imageio==2.4.0) (1.21.6)\n",
            "Requirement already satisfied: pillow in /usr/local/lib/python3.7/dist-packages (from imageio==2.4.0) (7.1.2)\n",
            "Building wheels for collected packages: imageio\n",
            "  Building wheel for imageio (setup.py) ... \u001b[?25l\u001b[?25hdone\n",
            "  Created wheel for imageio: filename=imageio-2.4.0-py3-none-any.whl size=3303895 sha256=236948a8b6fffaeca8011e29c901511cc389497e8fd977b2947b90a1094047d8\n",
            "  Stored in directory: /root/.cache/pip/wheels/aa/de/2f/6c5a75120d68a2c3138120c8d0ce1c6f9483a4b96307986bf2\n",
            "Successfully built imageio\n",
            "Installing collected packages: imageio\n",
            "  Attempting uninstall: imageio\n",
            "    Found existing installation: imageio 2.4.1\n",
            "    Uninstalling imageio-2.4.1:\n",
            "      Successfully uninstalled imageio-2.4.1\n",
            "\u001b[31mERROR: pip's dependency resolver does not currently take into account all the packages that are installed. This behaviour is the source of the following dependency conflicts.\n",
            "albumentations 0.1.12 requires imgaug<0.2.7,>=0.2.5, but you have imgaug 0.2.9 which is incompatible.\u001b[0m\n",
            "Successfully installed imageio-2.4.0\n",
            "Looking in indexes: https://pypi.org/simple, https://us-python.pkg.dev/colab-wheels/public/simple/\n",
            "Collecting pyvirtualdisplay\n",
            "  Downloading PyVirtualDisplay-3.0-py3-none-any.whl (15 kB)\n",
            "Installing collected packages: pyvirtualdisplay\n",
            "Successfully installed pyvirtualdisplay-3.0\n",
            "Looking in indexes: https://pypi.org/simple, https://us-python.pkg.dev/colab-wheels/public/simple/\n",
            "Collecting tf-agents[reverb]\n",
            "  Downloading tf_agents-0.13.0-py3-none-any.whl (1.3 MB)\n",
            "\u001b[K     |████████████████████████████████| 1.3 MB 4.2 MB/s \n",
            "\u001b[?25hRequirement already satisfied: protobuf>=3.11.3 in /usr/local/lib/python3.7/dist-packages (from tf-agents[reverb]) (3.17.3)\n",
            "Requirement already satisfied: wrapt>=1.11.1 in /usr/local/lib/python3.7/dist-packages (from tf-agents[reverb]) (1.14.1)\n",
            "Requirement already satisfied: numpy>=1.13.3 in /usr/local/lib/python3.7/dist-packages (from tf-agents[reverb]) (1.21.6)\n",
            "Requirement already satisfied: pillow in /usr/local/lib/python3.7/dist-packages (from tf-agents[reverb]) (7.1.2)\n",
            "Requirement already satisfied: typing-extensions>=3.7.4.3 in /usr/local/lib/python3.7/dist-packages (from tf-agents[reverb]) (4.2.0)\n",
            "Requirement already satisfied: absl-py>=0.6.1 in /usr/local/lib/python3.7/dist-packages (from tf-agents[reverb]) (1.1.0)\n",
            "Requirement already satisfied: cloudpickle>=1.3 in /usr/local/lib/python3.7/dist-packages (from tf-agents[reverb]) (1.3.0)\n",
            "Requirement already satisfied: gym<=0.23.0,>=0.17.0 in /usr/local/lib/python3.7/dist-packages (from tf-agents[reverb]) (0.17.3)\n",
            "Requirement already satisfied: tensorflow-probability>=0.16.0 in /usr/local/lib/python3.7/dist-packages (from tf-agents[reverb]) (0.16.0)\n",
            "Requirement already satisfied: six>=1.10.0 in /usr/local/lib/python3.7/dist-packages (from tf-agents[reverb]) (1.15.0)\n",
            "Requirement already satisfied: gin-config>=0.4.0 in /usr/local/lib/python3.7/dist-packages (from tf-agents[reverb]) (0.5.0)\n",
            "Collecting pygame==2.1.0\n",
            "  Downloading pygame-2.1.0-cp37-cp37m-manylinux_2_17_x86_64.manylinux2014_x86_64.whl (18.3 MB)\n",
            "\u001b[K     |████████████████████████████████| 18.3 MB 26.3 MB/s \n",
            "\u001b[?25hCollecting rlds\n",
            "  Downloading rlds-0.1.4-py3-none-manylinux2010_x86_64.whl (37 kB)\n",
            "Collecting tensorflow~=2.9.0\n",
            "  Downloading tensorflow-2.9.1-cp37-cp37m-manylinux_2_17_x86_64.manylinux2014_x86_64.whl (511.7 MB)\n",
            "\u001b[K     |████████████████████████████████| 511.7 MB 4.3 kB/s \n",
            "\u001b[?25hCollecting dm-reverb~=0.8.0\n",
            "  Downloading dm_reverb-0.8.0-cp37-cp37m-manylinux2014_x86_64.whl (6.5 MB)\n",
            "\u001b[K     |████████████████████████████████| 6.5 MB 24.3 MB/s \n",
            "\u001b[?25hRequirement already satisfied: dm-tree in /usr/local/lib/python3.7/dist-packages (from dm-reverb~=0.8.0->tf-agents[reverb]) (0.1.7)\n",
            "Requirement already satisfied: portpicker in /usr/local/lib/python3.7/dist-packages (from dm-reverb~=0.8.0->tf-agents[reverb]) (1.3.9)\n",
            "Requirement already satisfied: pyglet<=1.5.0,>=1.4.0 in /usr/local/lib/python3.7/dist-packages (from gym<=0.23.0,>=0.17.0->tf-agents[reverb]) (1.5.0)\n",
            "Requirement already satisfied: scipy in /usr/local/lib/python3.7/dist-packages (from gym<=0.23.0,>=0.17.0->tf-agents[reverb]) (1.4.1)\n",
            "Requirement already satisfied: future in /usr/local/lib/python3.7/dist-packages (from pyglet<=1.5.0,>=1.4.0->gym<=0.23.0,>=0.17.0->tf-agents[reverb]) (0.16.0)\n",
            "Requirement already satisfied: astunparse>=1.6.0 in /usr/local/lib/python3.7/dist-packages (from tensorflow~=2.9.0->tf-agents[reverb]) (1.6.3)\n",
            "Collecting tensorboard<2.10,>=2.9\n",
            "  Downloading tensorboard-2.9.1-py3-none-any.whl (5.8 MB)\n",
            "\u001b[K     |████████████████████████████████| 5.8 MB 49.9 MB/s \n",
            "\u001b[?25hRequirement already satisfied: setuptools in /usr/local/lib/python3.7/dist-packages (from tensorflow~=2.9.0->tf-agents[reverb]) (57.4.0)\n",
            "Collecting keras<2.10.0,>=2.9.0rc0\n",
            "  Downloading keras-2.9.0-py2.py3-none-any.whl (1.6 MB)\n",
            "\u001b[K     |████████████████████████████████| 1.6 MB 32.9 MB/s \n",
            "\u001b[?25hCollecting gast<=0.4.0,>=0.2.1\n",
            "  Downloading gast-0.4.0-py3-none-any.whl (9.8 kB)\n",
            "Collecting tensorflow-estimator<2.10.0,>=2.9.0rc0\n",
            "  Downloading tensorflow_estimator-2.9.0-py2.py3-none-any.whl (438 kB)\n",
            "\u001b[K     |████████████████████████████████| 438 kB 82.3 MB/s \n",
            "\u001b[?25hRequirement already satisfied: packaging in /usr/local/lib/python3.7/dist-packages (from tensorflow~=2.9.0->tf-agents[reverb]) (21.3)\n",
            "Requirement already satisfied: libclang>=13.0.0 in /usr/local/lib/python3.7/dist-packages (from tensorflow~=2.9.0->tf-agents[reverb]) (14.0.1)\n",
            "Requirement already satisfied: keras-preprocessing>=1.1.1 in /usr/local/lib/python3.7/dist-packages (from tensorflow~=2.9.0->tf-agents[reverb]) (1.1.2)\n",
            "Collecting flatbuffers<2,>=1.12\n",
            "  Downloading flatbuffers-1.12-py2.py3-none-any.whl (15 kB)\n",
            "Requirement already satisfied: tensorflow-io-gcs-filesystem>=0.23.1 in /usr/local/lib/python3.7/dist-packages (from tensorflow~=2.9.0->tf-agents[reverb]) (0.26.0)\n",
            "Requirement already satisfied: google-pasta>=0.1.1 in /usr/local/lib/python3.7/dist-packages (from tensorflow~=2.9.0->tf-agents[reverb]) (0.2.0)\n",
            "Requirement already satisfied: opt-einsum>=2.3.2 in /usr/local/lib/python3.7/dist-packages (from tensorflow~=2.9.0->tf-agents[reverb]) (3.3.0)\n",
            "Requirement already satisfied: h5py>=2.9.0 in /usr/local/lib/python3.7/dist-packages (from tensorflow~=2.9.0->tf-agents[reverb]) (3.1.0)\n",
            "Requirement already satisfied: termcolor>=1.1.0 in /usr/local/lib/python3.7/dist-packages (from tensorflow~=2.9.0->tf-agents[reverb]) (1.1.0)\n",
            "Requirement already satisfied: grpcio<2.0,>=1.24.3 in /usr/local/lib/python3.7/dist-packages (from tensorflow~=2.9.0->tf-agents[reverb]) (1.46.3)\n",
            "Requirement already satisfied: wheel<1.0,>=0.23.0 in /usr/local/lib/python3.7/dist-packages (from astunparse>=1.6.0->tensorflow~=2.9.0->tf-agents[reverb]) (0.37.1)\n",
            "Requirement already satisfied: cached-property in /usr/local/lib/python3.7/dist-packages (from h5py>=2.9.0->tensorflow~=2.9.0->tf-agents[reverb]) (1.5.2)\n",
            "Requirement already satisfied: tensorboard-data-server<0.7.0,>=0.6.0 in /usr/local/lib/python3.7/dist-packages (from tensorboard<2.10,>=2.9->tensorflow~=2.9.0->tf-agents[reverb]) (0.6.1)\n",
            "Requirement already satisfied: werkzeug>=1.0.1 in /usr/local/lib/python3.7/dist-packages (from tensorboard<2.10,>=2.9->tensorflow~=2.9.0->tf-agents[reverb]) (1.0.1)\n",
            "Requirement already satisfied: requests<3,>=2.21.0 in /usr/local/lib/python3.7/dist-packages (from tensorboard<2.10,>=2.9->tensorflow~=2.9.0->tf-agents[reverb]) (2.23.0)\n",
            "Requirement already satisfied: google-auth<3,>=1.6.3 in /usr/local/lib/python3.7/dist-packages (from tensorboard<2.10,>=2.9->tensorflow~=2.9.0->tf-agents[reverb]) (1.35.0)\n",
            "Requirement already satisfied: google-auth-oauthlib<0.5,>=0.4.1 in /usr/local/lib/python3.7/dist-packages (from tensorboard<2.10,>=2.9->tensorflow~=2.9.0->tf-agents[reverb]) (0.4.6)\n",
            "Requirement already satisfied: tensorboard-plugin-wit>=1.6.0 in /usr/local/lib/python3.7/dist-packages (from tensorboard<2.10,>=2.9->tensorflow~=2.9.0->tf-agents[reverb]) (1.8.1)\n",
            "Requirement already satisfied: markdown>=2.6.8 in /usr/local/lib/python3.7/dist-packages (from tensorboard<2.10,>=2.9->tensorflow~=2.9.0->tf-agents[reverb]) (3.3.7)\n",
            "Requirement already satisfied: rsa<5,>=3.1.4 in /usr/local/lib/python3.7/dist-packages (from google-auth<3,>=1.6.3->tensorboard<2.10,>=2.9->tensorflow~=2.9.0->tf-agents[reverb]) (4.8)\n",
            "Requirement already satisfied: cachetools<5.0,>=2.0.0 in /usr/local/lib/python3.7/dist-packages (from google-auth<3,>=1.6.3->tensorboard<2.10,>=2.9->tensorflow~=2.9.0->tf-agents[reverb]) (4.2.4)\n",
            "Requirement already satisfied: pyasn1-modules>=0.2.1 in /usr/local/lib/python3.7/dist-packages (from google-auth<3,>=1.6.3->tensorboard<2.10,>=2.9->tensorflow~=2.9.0->tf-agents[reverb]) (0.2.8)\n",
            "Requirement already satisfied: requests-oauthlib>=0.7.0 in /usr/local/lib/python3.7/dist-packages (from google-auth-oauthlib<0.5,>=0.4.1->tensorboard<2.10,>=2.9->tensorflow~=2.9.0->tf-agents[reverb]) (1.3.1)\n",
            "Requirement already satisfied: importlib-metadata>=4.4 in /usr/local/lib/python3.7/dist-packages (from markdown>=2.6.8->tensorboard<2.10,>=2.9->tensorflow~=2.9.0->tf-agents[reverb]) (4.11.4)\n",
            "Requirement already satisfied: zipp>=0.5 in /usr/local/lib/python3.7/dist-packages (from importlib-metadata>=4.4->markdown>=2.6.8->tensorboard<2.10,>=2.9->tensorflow~=2.9.0->tf-agents[reverb]) (3.8.0)\n",
            "Requirement already satisfied: pyasn1<0.5.0,>=0.4.6 in /usr/local/lib/python3.7/dist-packages (from pyasn1-modules>=0.2.1->google-auth<3,>=1.6.3->tensorboard<2.10,>=2.9->tensorflow~=2.9.0->tf-agents[reverb]) (0.4.8)\n",
            "Requirement already satisfied: idna<3,>=2.5 in /usr/local/lib/python3.7/dist-packages (from requests<3,>=2.21.0->tensorboard<2.10,>=2.9->tensorflow~=2.9.0->tf-agents[reverb]) (2.10)\n",
            "Requirement already satisfied: urllib3!=1.25.0,!=1.25.1,<1.26,>=1.21.1 in /usr/local/lib/python3.7/dist-packages (from requests<3,>=2.21.0->tensorboard<2.10,>=2.9->tensorflow~=2.9.0->tf-agents[reverb]) (1.24.3)\n",
            "Requirement already satisfied: chardet<4,>=3.0.2 in /usr/local/lib/python3.7/dist-packages (from requests<3,>=2.21.0->tensorboard<2.10,>=2.9->tensorflow~=2.9.0->tf-agents[reverb]) (3.0.4)\n",
            "Requirement already satisfied: certifi>=2017.4.17 in /usr/local/lib/python3.7/dist-packages (from requests<3,>=2.21.0->tensorboard<2.10,>=2.9->tensorflow~=2.9.0->tf-agents[reverb]) (2022.5.18.1)\n",
            "Requirement already satisfied: oauthlib>=3.0.0 in /usr/local/lib/python3.7/dist-packages (from requests-oauthlib>=0.7.0->google-auth-oauthlib<0.5,>=0.4.1->tensorboard<2.10,>=2.9->tensorflow~=2.9.0->tf-agents[reverb]) (3.2.0)\n",
            "Requirement already satisfied: decorator in /usr/local/lib/python3.7/dist-packages (from tensorflow-probability>=0.16.0->tf-agents[reverb]) (4.4.2)\n",
            "Requirement already satisfied: pyparsing!=3.0.5,>=2.0.2 in /usr/local/lib/python3.7/dist-packages (from packaging->tensorflow~=2.9.0->tf-agents[reverb]) (3.0.9)\n",
            "Installing collected packages: gast, tensorflow-estimator, tensorboard, pygame, keras, flatbuffers, tf-agents, tensorflow, rlds, dm-reverb\n",
            "  Attempting uninstall: gast\n",
            "    Found existing installation: gast 0.5.3\n",
            "    Uninstalling gast-0.5.3:\n",
            "      Successfully uninstalled gast-0.5.3\n",
            "  Attempting uninstall: tensorflow-estimator\n",
            "    Found existing installation: tensorflow-estimator 2.8.0\n",
            "    Uninstalling tensorflow-estimator-2.8.0:\n",
            "      Successfully uninstalled tensorflow-estimator-2.8.0\n",
            "  Attempting uninstall: tensorboard\n",
            "    Found existing installation: tensorboard 2.8.0\n",
            "    Uninstalling tensorboard-2.8.0:\n",
            "      Successfully uninstalled tensorboard-2.8.0\n",
            "  Attempting uninstall: keras\n",
            "    Found existing installation: keras 2.8.0\n",
            "    Uninstalling keras-2.8.0:\n",
            "      Successfully uninstalled keras-2.8.0\n",
            "  Attempting uninstall: flatbuffers\n",
            "    Found existing installation: flatbuffers 2.0\n",
            "    Uninstalling flatbuffers-2.0:\n",
            "      Successfully uninstalled flatbuffers-2.0\n",
            "  Attempting uninstall: tensorflow\n",
            "    Found existing installation: tensorflow 2.8.2+zzzcolab20220527125636\n",
            "    Uninstalling tensorflow-2.8.2+zzzcolab20220527125636:\n",
            "      Successfully uninstalled tensorflow-2.8.2+zzzcolab20220527125636\n",
            "Successfully installed dm-reverb-0.8.0 flatbuffers-1.12 gast-0.4.0 keras-2.9.0 pygame-2.1.0 rlds-0.1.4 tensorboard-2.9.1 tensorflow-2.9.1 tensorflow-estimator-2.9.0 tf-agents-0.13.0\n",
            "Looking in indexes: https://pypi.org/simple, https://us-python.pkg.dev/colab-wheels/public/simple/\n",
            "Requirement already satisfied: pyglet in /usr/local/lib/python3.7/dist-packages (1.5.0)\n",
            "Requirement already satisfied: future in /usr/local/lib/python3.7/dist-packages (from pyglet) (0.16.0)\n"
          ]
        }
      ]
    },
    {
      "cell_type": "code",
      "source": [
        "!pip install QuantLib\n",
        "!pip install -q tf-agents"
      ],
      "metadata": {
        "colab": {
          "base_uri": "https://localhost:8080/"
        },
        "id": "c4UoCkG_Ofvv",
        "outputId": "ce27e8e3-446f-4b60-df7a-5e529cf8d558"
      },
      "execution_count": null,
      "outputs": [
        {
          "output_type": "stream",
          "name": "stdout",
          "text": [
            "Looking in indexes: https://pypi.org/simple, https://us-python.pkg.dev/colab-wheels/public/simple/\n",
            "Collecting QuantLib\n",
            "  Downloading QuantLib-1.26-cp37-cp37m-manylinux_2_12_x86_64.manylinux2010_x86_64.whl (17.8 MB)\n",
            "\u001b[K     |████████████████████████████████| 17.8 MB 3.6 MB/s \n",
            "\u001b[?25hInstalling collected packages: QuantLib\n",
            "Successfully installed QuantLib-1.26\n"
          ]
        }
      ]
    },
    {
      "cell_type": "markdown",
      "source": [
        "# **No Abandon**"
      ],
      "metadata": {
        "id": "NtyIa7vLn2al"
      }
    },
    {
      "cell_type": "code",
      "source": [
        "import matplotlib.pyplot as plt\n",
        "from tf_agents.policies import policy_saver\n",
        "import tempfile\n",
        "import random\n",
        "import os\n",
        "from tf_agents.utils import common  # loss function\n",
        "from tf_agents.trajectories import trajectory  # s->s' trajectory\n",
        "from tf_agents.replay_buffers import tf_uniform_replay_buffer  # replay buffer\n",
        "from tf_agents.networks import q_network  # Q net\n",
        "from tf_agents.environments import tf_py_environment  # gym to tf gym\n",
        "from tf_agents.environments import gym_wrapper  # wrap OpenAI gym\n",
        "from tf_agents.agents.ddpg import ddpg_agent  # DDPG Agent, also some other agents, discussed later\n",
        "import tensorflow as tf\n",
        "import numpy as np\n",
        "import gym\n",
        "import QuantLib as ql  # used for calculating the price of option if we hold it, baseline\n",
        "\n",
        "# Build and Abandon Gym Environment\n",
        "class BuildAbandonOptionEnv(gym.Env): #put\n",
        "    def __init__(self):\n",
        "        self.S0 = 100.0\n",
        "        self.K = 5.0\n",
        "        self.r = 0.03\n",
        "        self.sigma = 0.10\n",
        "        self.T = 2.0\n",
        "        self.tc = 0.5\n",
        "        self.gamma = 1.0\n",
        "        self.Cop = 100.0\n",
        "        self.Cab = 1.0\n",
        "        self.tb = 0 # this is our state to observe\n",
        "        self.N = 500    # 500 day, only do 20 days first\n",
        "\n",
        "        # 1. at time step t, my abandon happens when E(V_t) < 0, with the abandon and cost\n",
        "        # 2. 4 states: S, t, ta, tb \n",
        "        # 2. we don't have a aboundary for building and abandoning (t > t_b + t_c)\n",
        "        # 3. Traning Algorithm: States: 1. S, 2. ta, 3. tb\n",
        "\n",
        "        self.build = False\n",
        "        self.EV_keep = 0\n",
        "        self.fb = 100\n",
        "\n",
        "        self.S1 = 0\n",
        "        self.reward = 0\n",
        "        self.current_day = 0    # from day 0 taking N steps to day N\n",
        "        self.underlying_prices = []\n",
        "        self.time = []\n",
        "        self.integral = []\n",
        "        self.integral_sum = 0\n",
        "        self.current_day_ratio = self.current_day/(self.N/self.T)\n",
        "        self.action_space = gym.spaces.Box(low=100, high=105, shape=(1,))    \n",
        "        self.observation_space = gym.spaces.Box(low=np.array([0, 0, 0]), high=np.array(\n",
        "            [np.inf, 2.0, 2.0]), dtype=np.float32)      # S in [0, inf], tao in [0, 1]\n",
        "\n",
        "    def step(self, action):\n",
        "        if self.build == False and self.S1 >= action:   \n",
        "            self.build = True\n",
        "            self.tb = self.current_day_ratio\n",
        "            if self.current_day_ratio == self.T:\n",
        "              reward = -(self.K * np.exp(-self.r * self.tb) + (self.Cab * np.exp(-self.r * self.current_day_ratio)))\n",
        "              done = True\n",
        "            else:\n",
        "              reward = -(self.K * np.exp(-self.r * self.tb) + (self.Cab * np.exp(-self.r * self.current_day_ratio)))\n",
        "              self.current_day += 1\n",
        "              self.current_day_ratio = self.current_day/(self.N/self.T)\n",
        "              self.S1 = self.S1 * np.exp((self.r - 0.5 * self.sigma**2) * (self.T/self.N) + self.sigma * np.sqrt(self.T/self.N) * np.random.normal()) #GBM process price\n",
        "              self.underlying_prices.append(self.S1)\n",
        "              self.time.append(self.current_day_ratio)\n",
        "              self.integral.append(np.exp(-self.r * self.time[-1])*self.gamma*(self.underlying_prices[-1]-self.Cop))\n",
        "              done = False\n",
        "            # print(\"If 2\")\n",
        "            self.fb = action\n",
        "        elif self.build == True:\n",
        "            if (self.current_day_ratio >= self.tb) and (self.current_day_ratio < (self.tb + self.tc)):\n",
        "                if self.current_day_ratio == self.T:\n",
        "                    reward = -(self.K * np.exp(-self.r * self.tb) + (self.Cab * np.exp(-self.r * self.current_day_ratio)))\n",
        "                    done = True\n",
        "                else:\n",
        "                    reward = -(self.K * np.exp(-self.r * self.tb) + (self.Cab * np.exp(-self.r * self.current_day_ratio)))\n",
        "                    self.current_day += 1\n",
        "                    self.current_day_ratio = self.current_day/(self.N/self.T)\n",
        "                    self.S1 = self.S1 * np.exp((self.r - 0.5 * self.sigma**2) * (self.T/self.N) + self.sigma * np.sqrt(self.T/self.N) * np.random.normal()) #GBM process price\n",
        "                    self.underlying_prices.append(self.S1)\n",
        "                    self.time.append(self.current_day_ratio)\n",
        "                    self.integral.append(np.exp(-self.r * self.time[-1])*self.gamma*(self.underlying_prices[-1]-self.Cop))\n",
        "                    done = False\n",
        "            elif (self.current_day_ratio >= (self.tb + self.tc)):\n",
        "                  self.integral_sum = sum(self.integral)\n",
        "                  self.EV_keep = -(self.K * np.exp(-self.r * self.tb) + (self.Cab * np.exp(-self.r * self.current_day_ratio))) + self.integral_sum\n",
        "                  if self.current_day_ratio == self.T:\n",
        "                      reward = self.EV_keep\n",
        "                      done = True\n",
        "                  else:\n",
        "                      reward = self.EV_keep\n",
        "                      self.current_day += 1\n",
        "                      self.current_day_ratio = self.current_day/(self.N/self.T)\n",
        "                      self.S1 = self.S1 * np.exp((self.r - 0.5 * self.sigma**2) * (self.T/self.N) + self.sigma * np.sqrt(self.T/self.N) * np.random.normal()) #GBM process price\n",
        "                      self.underlying_prices.append(self.S1)\n",
        "                      self.time.append(self.current_day_ratio)\n",
        "                      self.integral.append(np.exp(-self.r * self.time[-1])*self.gamma*(self.underlying_prices[-1]-self.Cop))\n",
        "                      done = False\n",
        "        elif self.build == False and self.S1 < action:   \n",
        "            if self.current_day_ratio == self.T:\n",
        "              reward = 0\n",
        "              done = True\n",
        "            else:\n",
        "              reward = 0\n",
        "              self.current_day += 1\n",
        "              self.current_day_ratio = self.current_day/(self.N/self.T)\n",
        "              self.S1 = self.S1 * np.exp((self.r - 0.5 * self.sigma**2) * (self.T/self.N) + self.sigma * np.sqrt(self.T/self.N) * np.random.normal()) #GBM process price\n",
        "              self.underlying_prices.append(self.S1)\n",
        "              self.time.append(self.current_day_ratio)\n",
        "              self.integral.append(np.exp(-self.r * self.time[-1])*self.gamma*(self.underlying_prices[-1]-self.Cop))\n",
        "              done = False\n",
        "        # print(action)\n",
        "        return np.array([self.S1, self.current_day_ratio, self.tb]), reward, done, {}\n",
        "\n",
        "    def reset(self):\n",
        "        self.build = False\n",
        "        self.tb = 0\n",
        "        self.current_day = self.tb*(self.N/self.T)\n",
        "        self.S1 = self.S0\n",
        "        self.underlying_prices = [0]\n",
        "        self.time = [0]\n",
        "        self.integral = [0]\n",
        "        self.integral_sum = 0\n",
        "        self.current_day_ratio = self.current_day/(self.N/self.T)\n",
        "        self.EV_keep = 0\n",
        "        self.fb = 100\n",
        "        return [self.S1, self.current_day_ratio, self.tb]"
      ],
      "metadata": {
        "id": "zDp6l484n1vY"
      },
      "execution_count": null,
      "outputs": []
    },
    {
      "cell_type": "code",
      "source": [
        "from tf_agents.agents.ddpg import ddpg_agent\n",
        "from tf_agents.agents.ddpg import actor_network\n",
        "from tf_agents.agents.ddpg import critic_network\n",
        "# Hyper-parameters\n",
        "num_iterations = 20000  # @param {type:\"integer\"}\n",
        "\n",
        "collect_steps_per_iteration = 10  # @param {type:\"integer\"}\n",
        "replay_buffer_max_length = 100000  # @param {type:\"integer\"}\n",
        "batch_size = 256  # @param {type:\"integer\"}\n",
        "\n",
        "initial_collect_steps = 2000\n",
        "\n",
        "learning_rate = 1e-3  # @param {type:\"number\"}\n",
        "num_eval_episodes = 10  # @param {type:\"integer\"}\n",
        "\n",
        "eval_interval = 1000  # @param {type:\"integer\"}\n",
        "log_interval = 200  # @param {type:\"integer\"}\n",
        "\n",
        "train_env_gym = BuildAbandonOptionEnv() # american put env\n",
        "eval_env_gym = BuildAbandonOptionEnv() # test case\n",
        "\n",
        "train_env_wrap = gym_wrapper.GymWrapper(train_env_gym)\n",
        "eval_env_wrap = gym_wrapper.GymWrapper(eval_env_gym)\n",
        "\n",
        "train_env = tf_py_environment.TFPyEnvironment(train_env_wrap)\n",
        "eval_env = tf_py_environment.TFPyEnvironment(eval_env_wrap)\n",
        "\n",
        "\n",
        "actor_optimizer = tf.compat.v1.train.AdamOptimizer(learning_rate=learning_rate)\n",
        "critic_optimizer = tf.compat.v1.train.AdamOptimizer(learning_rate=learning_rate)\n",
        "\n",
        "train_step_counter = tf.Variable(0)\n",
        "\n",
        "act_net = actor_network.ActorNetwork(input_tensor_spec = train_env.observation_spec(),\n",
        "                                     output_tensor_spec = train_env.action_spec(),\n",
        "                                     fc_layer_params = (100,),\n",
        "                                     activation_fn = tf.keras.activations.relu                 \n",
        "                                     )\n",
        "\n",
        "crit_net = critic_network.CriticNetwork(input_tensor_spec = (train_env.observation_spec(), train_env.action_spec()),\n",
        "                                        observation_fc_layer_params = (100,),\n",
        "                                        action_fc_layer_params = None,\n",
        "                                        joint_fc_layer_params = (100,),\n",
        "                                        activation_fn = tf.keras.activations.relu\n",
        "                                        )\n",
        "starter_epsilon = 1.0\n",
        "end_epsilon = 0.5\n",
        "decay_steps = num_iterations + initial_collect_steps\n",
        "ou_noise_size = tf.compat.v1.train.polynomial_decay(starter_epsilon,\n",
        "                                                    train_step_counter,\n",
        "                                                    decay_steps,\n",
        "                                                    end_epsilon,\n",
        "                                                    power=1.0,\n",
        "                                                    cycle=False)\n",
        "agent = ddpg_agent.DdpgAgent(time_step_spec = train_env.time_step_spec(),\n",
        "                             action_spec = train_env.action_spec(),\n",
        "                             actor_network = act_net,\n",
        "                             critic_network = crit_net,\n",
        "                             actor_optimizer = actor_optimizer,\n",
        "                             critic_optimizer = critic_optimizer, \n",
        "                             gamma = 0.99,\n",
        "                             target_critic_network = None, # Target network = same as primary\n",
        "                             target_update_tau = 0.1, \n",
        "                             ou_stddev = ou_noise_size(), # was 1 \n",
        "                             ou_damping = 0.25,\n",
        "                             td_errors_loss_fn = common.element_wise_squared_loss,\n",
        "                             train_step_counter=train_step_counter\n",
        "                             )\n",
        "agent.initialize()\n",
        "\n",
        "replay_buffer = tf_uniform_replay_buffer.TFUniformReplayBuffer(\n",
        "    data_spec=agent.collect_data_spec,\n",
        "    batch_size=train_env.batch_size,\n",
        "    max_length=replay_buffer_max_length)\n",
        "\n",
        "# the buffer will update the Q table based on not only the past one step, but some older steps as well.\n",
        "\n",
        "dataset = replay_buffer.as_dataset(\n",
        "    num_parallel_calls=3,\n",
        "    sample_batch_size=batch_size,\n",
        "    num_steps=2).prefetch(3)\n",
        "\n",
        "iterator = iter(dataset)\n",
        "\n",
        "# eval_env evaluation\n",
        "\n",
        "# computer average return of the Q network, which in our case is the reward, which is premium option price\n",
        "def compute_avg_return(environment, policy, num_episodes=10):\n",
        "\n",
        "    total_return = 0.0\n",
        "    for i in range(num_episodes):\n",
        "\n",
        "        time_step = environment.reset()\n",
        "        episode_return = 0.0\n",
        "        \n",
        "        while not time_step.is_last():\n",
        "            action_step = policy.action(time_step)\n",
        "            time_step = environment.step(action_step.action)\n",
        "            episode_return += time_step.reward\n",
        "        total_return += episode_return\n",
        "    avg_return = total_return / num_episodes\n",
        "    return avg_return.numpy()[0]\n",
        "\n",
        "# Data Collection\n",
        "\n",
        "def collect_step(environment, policy, buffer):\n",
        "    time_step = environment.current_time_step()\n",
        "    action_step = policy.action(time_step)\n",
        "    next_time_step = environment.step(action_step.action)\n",
        "    traj = trajectory.from_transition(time_step, action_step, next_time_step)\n",
        "\n",
        "    # Add trajectory to the replay buffer\n",
        "    buffer.add_batch(traj)\n",
        "\n",
        "# common loop in RL- especailly DQN\n",
        "def collect_data(env, policy, buffer, steps):\n",
        "    for i in range(steps):\n",
        "        collect_step(env, policy, buffer)\n",
        "\n",
        "# training!!\n",
        "agent.train = common.function(agent.train)\n",
        "\n",
        "# Reset the train step\n",
        "agent.train_step_counter.assign(0)\n",
        "\n",
        "# Evaluate the agent's policy once before training.\n",
        "avg_return = compute_avg_return(eval_env, agent.policy, num_eval_episodes)\n",
        "returns = [avg_return]\n",
        "\n",
        "for i in range(num_iterations):\n",
        "    # Collect a few steps using collect_policy and save to the replay buffer.\n",
        "    for j in range(collect_steps_per_iteration):\n",
        "        collect_step(train_env, agent.collect_policy, replay_buffer)\n",
        "\n",
        "    # Sample a batch of data from the buffer and update the agent's network.\n",
        "    experience, unused_info = next(iterator)\n",
        "    train_loss = agent.train(experience).loss\n",
        "\n",
        "    step = agent.train_step_counter.numpy()\n",
        "\n",
        "    if step % log_interval == 0:\n",
        "        print('step = {0}: loss = {1}, noise = {2}'.format(step, train_loss, float(np.round(np.array(ou_noise_size()),2))))\n",
        "\n",
        "    if step % eval_interval == 0:\n",
        "        avg_return = compute_avg_return(\n",
        "            eval_env, agent.policy, num_eval_episodes)\n",
        "        print('step = {0}: Average Return = {1}'.format(step, avg_return))\n",
        "        returns.append(avg_return)\n",
        "\n",
        "# plot training iterations\n",
        "iterations = range(0, num_iterations + 1, eval_interval)\n",
        "plt.plot(iterations, returns)\n",
        "plt.ylabel('Average Return')\n",
        "plt.xlabel('Iterations')\n",
        "plt.ylim(top=2)\n",
        "\n",
        "# save policy\n",
        "tempdir = os.getenv(\"TEST_TMPDIR\", tempfile.gettempdir())\n",
        "policy_dir = os.path.join(tempdir, 'policy')\n",
        "tf_policy_saver = policy_saver.PolicySaver(agent.policy)\n",
        "tf_policy_saver.save(policy_dir)\n",
        "\n",
        "saved_policy = tf.compat.v2.saved_model.load(policy_dir)"
      ],
      "metadata": {
        "colab": {
          "base_uri": "https://localhost:8080/",
          "height": 606
        },
        "id": "EHJAFbeNtnZE",
        "outputId": "c3ecf64e-ef20-4ad2-e5fe-04d02ae305a4"
      },
      "execution_count": null,
      "outputs": [
        {
          "output_type": "stream",
          "name": "stderr",
          "text": [
            "/usr/local/lib/python3.7/dist-packages/gym/logger.py:30: UserWarning: \u001b[33mWARN: Box bound precision lowered by casting to float32\u001b[0m\n",
            "  warnings.warn(colorize('%s: %s'%('WARN', msg % args), 'yellow'))\n"
          ]
        },
        {
          "output_type": "stream",
          "name": "stdout",
          "text": [
            "step = 200: loss = 8204998.0, noise = 1.0\n",
            "step = 400: loss = 5137481.0, noise = 0.9900000095367432\n",
            "step = 600: loss = 4025779.0, noise = 0.9900000095367432\n",
            "step = 800: loss = 3433072.75, noise = 0.9800000190734863\n",
            "step = 1000: loss = 3996287.25, noise = 0.9800000190734863\n",
            "step = 1000: Average Return = -111881.75\n",
            "step = 1200: loss = 4083610.25, noise = 0.9700000286102295\n",
            "step = 1400: loss = 5037939.0, noise = 0.9700000286102295\n",
            "step = 1600: loss = 4569550.0, noise = 0.9599999785423279\n",
            "step = 1800: loss = 3274204.5, noise = 0.9599999785423279\n",
            "step = 2000: loss = 4157018.25, noise = 0.949999988079071\n"
          ]
        },
        {
          "output_type": "error",
          "ename": "KeyboardInterrupt",
          "evalue": "ignored",
          "traceback": [
            "\u001b[0;31m---------------------------------------------------------------------------\u001b[0m",
            "\u001b[0;31mKeyboardInterrupt\u001b[0m                         Traceback (most recent call last)",
            "\u001b[0;32m<ipython-input-42-d9f21f406b4a>\u001b[0m in \u001b[0;36m<module>\u001b[0;34m()\u001b[0m\n\u001b[1;32m    144\u001b[0m     \u001b[0;32mif\u001b[0m \u001b[0mstep\u001b[0m \u001b[0;34m%\u001b[0m \u001b[0meval_interval\u001b[0m \u001b[0;34m==\u001b[0m \u001b[0;36m0\u001b[0m\u001b[0;34m:\u001b[0m\u001b[0;34m\u001b[0m\u001b[0;34m\u001b[0m\u001b[0m\n\u001b[1;32m    145\u001b[0m         avg_return = compute_avg_return(\n\u001b[0;32m--> 146\u001b[0;31m             eval_env, agent.policy, num_eval_episodes)\n\u001b[0m\u001b[1;32m    147\u001b[0m         \u001b[0mprint\u001b[0m\u001b[0;34m(\u001b[0m\u001b[0;34m'step = {0}: Average Return = {1}'\u001b[0m\u001b[0;34m.\u001b[0m\u001b[0mformat\u001b[0m\u001b[0;34m(\u001b[0m\u001b[0mstep\u001b[0m\u001b[0;34m,\u001b[0m \u001b[0mavg_return\u001b[0m\u001b[0;34m)\u001b[0m\u001b[0;34m)\u001b[0m\u001b[0;34m\u001b[0m\u001b[0;34m\u001b[0m\u001b[0m\n\u001b[1;32m    148\u001b[0m         \u001b[0mreturns\u001b[0m\u001b[0;34m.\u001b[0m\u001b[0mappend\u001b[0m\u001b[0;34m(\u001b[0m\u001b[0mavg_return\u001b[0m\u001b[0;34m)\u001b[0m\u001b[0;34m\u001b[0m\u001b[0;34m\u001b[0m\u001b[0m\n",
            "\u001b[0;32m<ipython-input-42-d9f21f406b4a>\u001b[0m in \u001b[0;36mcompute_avg_return\u001b[0;34m(environment, policy, num_episodes)\u001b[0m\n\u001b[1;32m     95\u001b[0m \u001b[0;34m\u001b[0m\u001b[0m\n\u001b[1;32m     96\u001b[0m         \u001b[0;32mwhile\u001b[0m \u001b[0;32mnot\u001b[0m \u001b[0mtime_step\u001b[0m\u001b[0;34m.\u001b[0m\u001b[0mis_last\u001b[0m\u001b[0;34m(\u001b[0m\u001b[0;34m)\u001b[0m\u001b[0;34m:\u001b[0m\u001b[0;34m\u001b[0m\u001b[0;34m\u001b[0m\u001b[0m\n\u001b[0;32m---> 97\u001b[0;31m             \u001b[0maction_step\u001b[0m \u001b[0;34m=\u001b[0m \u001b[0mpolicy\u001b[0m\u001b[0;34m.\u001b[0m\u001b[0maction\u001b[0m\u001b[0;34m(\u001b[0m\u001b[0mtime_step\u001b[0m\u001b[0;34m)\u001b[0m\u001b[0;34m\u001b[0m\u001b[0;34m\u001b[0m\u001b[0m\n\u001b[0m\u001b[1;32m     98\u001b[0m             \u001b[0mtime_step\u001b[0m \u001b[0;34m=\u001b[0m \u001b[0menvironment\u001b[0m\u001b[0;34m.\u001b[0m\u001b[0mstep\u001b[0m\u001b[0;34m(\u001b[0m\u001b[0maction_step\u001b[0m\u001b[0;34m.\u001b[0m\u001b[0maction\u001b[0m\u001b[0;34m)\u001b[0m\u001b[0;34m\u001b[0m\u001b[0;34m\u001b[0m\u001b[0m\n\u001b[1;32m     99\u001b[0m             \u001b[0mepisode_return\u001b[0m \u001b[0;34m+=\u001b[0m \u001b[0mtime_step\u001b[0m\u001b[0;34m.\u001b[0m\u001b[0mreward\u001b[0m\u001b[0;34m\u001b[0m\u001b[0;34m\u001b[0m\u001b[0m\n",
            "\u001b[0;32m/usr/local/lib/python3.7/dist-packages/tf_agents/policies/tf_policy.py\u001b[0m in \u001b[0;36maction\u001b[0;34m(self, time_step, policy_state, seed)\u001b[0m\n\u001b[1;32m    322\u001b[0m     \u001b[0;32mif\u001b[0m \u001b[0mself\u001b[0m\u001b[0;34m.\u001b[0m\u001b[0m_automatic_state_reset\u001b[0m\u001b[0;34m:\u001b[0m\u001b[0;34m\u001b[0m\u001b[0;34m\u001b[0m\u001b[0m\n\u001b[1;32m    323\u001b[0m       \u001b[0mpolicy_state\u001b[0m \u001b[0;34m=\u001b[0m \u001b[0mself\u001b[0m\u001b[0;34m.\u001b[0m\u001b[0m_maybe_reset_state\u001b[0m\u001b[0;34m(\u001b[0m\u001b[0mtime_step\u001b[0m\u001b[0;34m,\u001b[0m \u001b[0mpolicy_state\u001b[0m\u001b[0;34m)\u001b[0m\u001b[0;34m\u001b[0m\u001b[0;34m\u001b[0m\u001b[0m\n\u001b[0;32m--> 324\u001b[0;31m     \u001b[0mstep\u001b[0m \u001b[0;34m=\u001b[0m \u001b[0maction_fn\u001b[0m\u001b[0;34m(\u001b[0m\u001b[0mtime_step\u001b[0m\u001b[0;34m=\u001b[0m\u001b[0mtime_step\u001b[0m\u001b[0;34m,\u001b[0m \u001b[0mpolicy_state\u001b[0m\u001b[0;34m=\u001b[0m\u001b[0mpolicy_state\u001b[0m\u001b[0;34m,\u001b[0m \u001b[0mseed\u001b[0m\u001b[0;34m=\u001b[0m\u001b[0mseed\u001b[0m\u001b[0;34m)\u001b[0m\u001b[0;34m\u001b[0m\u001b[0;34m\u001b[0m\u001b[0m\n\u001b[0m\u001b[1;32m    325\u001b[0m \u001b[0;34m\u001b[0m\u001b[0m\n\u001b[1;32m    326\u001b[0m     \u001b[0;32mdef\u001b[0m \u001b[0mclip_action\u001b[0m\u001b[0;34m(\u001b[0m\u001b[0maction\u001b[0m\u001b[0;34m,\u001b[0m \u001b[0maction_spec\u001b[0m\u001b[0;34m)\u001b[0m\u001b[0;34m:\u001b[0m\u001b[0;34m\u001b[0m\u001b[0;34m\u001b[0m\u001b[0m\n",
            "\u001b[0;32m/usr/local/lib/python3.7/dist-packages/tf_agents/utils/common.py\u001b[0m in \u001b[0;36mwith_check_resource_vars\u001b[0;34m(*fn_args, **fn_kwargs)\u001b[0m\n\u001b[1;32m    186\u001b[0m         \u001b[0;31m# We're either in eager mode or in tf.function mode (no in-between); so\u001b[0m\u001b[0;34m\u001b[0m\u001b[0;34m\u001b[0m\u001b[0;34m\u001b[0m\u001b[0m\n\u001b[1;32m    187\u001b[0m         \u001b[0;31m# autodep-like behavior is already expected of fn.\u001b[0m\u001b[0;34m\u001b[0m\u001b[0;34m\u001b[0m\u001b[0;34m\u001b[0m\u001b[0m\n\u001b[0;32m--> 188\u001b[0;31m         \u001b[0;32mreturn\u001b[0m \u001b[0mfn\u001b[0m\u001b[0;34m(\u001b[0m\u001b[0;34m*\u001b[0m\u001b[0mfn_args\u001b[0m\u001b[0;34m,\u001b[0m \u001b[0;34m**\u001b[0m\u001b[0mfn_kwargs\u001b[0m\u001b[0;34m)\u001b[0m\u001b[0;34m\u001b[0m\u001b[0;34m\u001b[0m\u001b[0m\n\u001b[0m\u001b[1;32m    189\u001b[0m       \u001b[0;32mif\u001b[0m \u001b[0;32mnot\u001b[0m \u001b[0mresource_variables_enabled\u001b[0m\u001b[0;34m(\u001b[0m\u001b[0;34m)\u001b[0m\u001b[0;34m:\u001b[0m\u001b[0;34m\u001b[0m\u001b[0;34m\u001b[0m\u001b[0m\n\u001b[1;32m    190\u001b[0m         \u001b[0;32mraise\u001b[0m \u001b[0mRuntimeError\u001b[0m\u001b[0;34m(\u001b[0m\u001b[0mMISSING_RESOURCE_VARIABLES_ERROR\u001b[0m\u001b[0;34m)\u001b[0m\u001b[0;34m\u001b[0m\u001b[0;34m\u001b[0m\u001b[0m\n",
            "\u001b[0;32m/usr/local/lib/python3.7/dist-packages/tf_agents/policies/tf_policy.py\u001b[0m in \u001b[0;36m_action\u001b[0;34m(self, time_step, policy_state, seed)\u001b[0m\n\u001b[1;32m    558\u001b[0m     \"\"\"\n\u001b[1;32m    559\u001b[0m     \u001b[0mseed_stream\u001b[0m \u001b[0;34m=\u001b[0m \u001b[0mtfp\u001b[0m\u001b[0;34m.\u001b[0m\u001b[0mutil\u001b[0m\u001b[0;34m.\u001b[0m\u001b[0mSeedStream\u001b[0m\u001b[0;34m(\u001b[0m\u001b[0mseed\u001b[0m\u001b[0;34m=\u001b[0m\u001b[0mseed\u001b[0m\u001b[0;34m,\u001b[0m \u001b[0msalt\u001b[0m\u001b[0;34m=\u001b[0m\u001b[0;34m'tf_agents_tf_policy'\u001b[0m\u001b[0;34m)\u001b[0m\u001b[0;34m\u001b[0m\u001b[0;34m\u001b[0m\u001b[0m\n\u001b[0;32m--> 560\u001b[0;31m     \u001b[0mdistribution_step\u001b[0m \u001b[0;34m=\u001b[0m \u001b[0mself\u001b[0m\u001b[0;34m.\u001b[0m\u001b[0m_distribution\u001b[0m\u001b[0;34m(\u001b[0m\u001b[0mtime_step\u001b[0m\u001b[0;34m,\u001b[0m \u001b[0mpolicy_state\u001b[0m\u001b[0;34m)\u001b[0m  \u001b[0;31m# pytype: disable=wrong-arg-types\u001b[0m\u001b[0;34m\u001b[0m\u001b[0;34m\u001b[0m\u001b[0m\n\u001b[0m\u001b[1;32m    561\u001b[0m     actions = tf.nest.map_structure(\n\u001b[1;32m    562\u001b[0m         \u001b[0;32mlambda\u001b[0m \u001b[0md\u001b[0m\u001b[0;34m:\u001b[0m \u001b[0mreparameterized_sampling\u001b[0m\u001b[0;34m.\u001b[0m\u001b[0msample\u001b[0m\u001b[0;34m(\u001b[0m\u001b[0md\u001b[0m\u001b[0;34m,\u001b[0m \u001b[0mseed\u001b[0m\u001b[0;34m=\u001b[0m\u001b[0mseed_stream\u001b[0m\u001b[0;34m(\u001b[0m\u001b[0;34m)\u001b[0m\u001b[0;34m)\u001b[0m\u001b[0;34m,\u001b[0m\u001b[0;34m\u001b[0m\u001b[0;34m\u001b[0m\u001b[0m\n",
            "\u001b[0;32m/usr/local/lib/python3.7/dist-packages/tf_agents/policies/actor_policy.py\u001b[0m in \u001b[0;36m_distribution\u001b[0;34m(self, time_step, policy_state)\u001b[0m\n\u001b[1;32m    180\u001b[0m     actions_or_distributions, policy_state = self._apply_actor_network(\n\u001b[1;32m    181\u001b[0m         \u001b[0mnetwork_observation\u001b[0m\u001b[0;34m,\u001b[0m \u001b[0mstep_type\u001b[0m\u001b[0;34m=\u001b[0m\u001b[0mtime_step\u001b[0m\u001b[0;34m.\u001b[0m\u001b[0mstep_type\u001b[0m\u001b[0;34m,\u001b[0m\u001b[0;34m\u001b[0m\u001b[0;34m\u001b[0m\u001b[0m\n\u001b[0;32m--> 182\u001b[0;31m         policy_state=policy_state, mask=mask)\n\u001b[0m\u001b[1;32m    183\u001b[0m \u001b[0;34m\u001b[0m\u001b[0m\n\u001b[1;32m    184\u001b[0m     \u001b[0;32mdef\u001b[0m \u001b[0m_to_distribution\u001b[0m\u001b[0;34m(\u001b[0m\u001b[0maction_or_distribution\u001b[0m\u001b[0;34m)\u001b[0m\u001b[0;34m:\u001b[0m\u001b[0;34m\u001b[0m\u001b[0;34m\u001b[0m\u001b[0m\n",
            "\u001b[0;32m/usr/local/lib/python3.7/dist-packages/tf_agents/policies/actor_policy.py\u001b[0m in \u001b[0;36m_apply_actor_network\u001b[0;34m(self, observation, step_type, policy_state, mask)\u001b[0m\n\u001b[1;32m    152\u001b[0m       return self._actor_network(\n\u001b[1;32m    153\u001b[0m           \u001b[0mobservation\u001b[0m\u001b[0;34m,\u001b[0m \u001b[0mstep_type\u001b[0m\u001b[0;34m=\u001b[0m\u001b[0mstep_type\u001b[0m\u001b[0;34m,\u001b[0m \u001b[0mnetwork_state\u001b[0m\u001b[0;34m=\u001b[0m\u001b[0mpolicy_state\u001b[0m\u001b[0;34m,\u001b[0m\u001b[0;34m\u001b[0m\u001b[0;34m\u001b[0m\u001b[0m\n\u001b[0;32m--> 154\u001b[0;31m           training=self._training)\n\u001b[0m\u001b[1;32m    155\u001b[0m     \u001b[0;32melse\u001b[0m\u001b[0;34m:\u001b[0m\u001b[0;34m\u001b[0m\u001b[0;34m\u001b[0m\u001b[0m\n\u001b[1;32m    156\u001b[0m       return self._actor_network(\n",
            "\u001b[0;32m/usr/local/lib/python3.7/dist-packages/tf_agents/networks/network.py\u001b[0m in \u001b[0;36m__call__\u001b[0;34m(self, inputs, *args, **kwargs)\u001b[0m\n\u001b[1;32m    388\u001b[0m       \u001b[0mA\u001b[0m \u001b[0mtuple\u001b[0m\u001b[0;31m \u001b[0m\u001b[0;31m`\u001b[0m\u001b[0;34m(\u001b[0m\u001b[0moutputs\u001b[0m\u001b[0;34m,\u001b[0m \u001b[0mnew_network_state\u001b[0m\u001b[0;34m)\u001b[0m\u001b[0;31m`\u001b[0m\u001b[0;34m.\u001b[0m\u001b[0;34m\u001b[0m\u001b[0;34m\u001b[0m\u001b[0m\n\u001b[1;32m    389\u001b[0m     \"\"\"\n\u001b[0;32m--> 390\u001b[0;31m     \u001b[0;32mif\u001b[0m \u001b[0mself\u001b[0m\u001b[0;34m.\u001b[0m\u001b[0minput_tensor_spec\u001b[0m \u001b[0;32mis\u001b[0m \u001b[0;32mnot\u001b[0m \u001b[0;32mNone\u001b[0m\u001b[0;34m:\u001b[0m\u001b[0;34m\u001b[0m\u001b[0;34m\u001b[0m\u001b[0m\n\u001b[0m\u001b[1;32m    391\u001b[0m       nest_utils.assert_matching_dtypes_and_inner_shapes(\n\u001b[1;32m    392\u001b[0m           \u001b[0minputs\u001b[0m\u001b[0;34m,\u001b[0m\u001b[0;34m\u001b[0m\u001b[0;34m\u001b[0m\u001b[0m\n",
            "\u001b[0;32m/usr/local/lib/python3.7/dist-packages/tf_agents/networks/network.py\u001b[0m in \u001b[0;36minput_tensor_spec\u001b[0;34m(self)\u001b[0m\n\u001b[1;32m    184\u001b[0m   \u001b[0;32mdef\u001b[0m \u001b[0minput_tensor_spec\u001b[0m\u001b[0;34m(\u001b[0m\u001b[0mself\u001b[0m\u001b[0;34m)\u001b[0m\u001b[0;34m:\u001b[0m\u001b[0;34m\u001b[0m\u001b[0;34m\u001b[0m\u001b[0m\n\u001b[1;32m    185\u001b[0m     \u001b[0;34m\"\"\"Returns the spec of the input to the network of type InputSpec.\"\"\"\u001b[0m\u001b[0;34m\u001b[0m\u001b[0;34m\u001b[0m\u001b[0m\n\u001b[0;32m--> 186\u001b[0;31m     \u001b[0;32mreturn\u001b[0m \u001b[0mself\u001b[0m\u001b[0;34m.\u001b[0m\u001b[0m_input_tensor_spec\u001b[0m\u001b[0;34m\u001b[0m\u001b[0;34m\u001b[0m\u001b[0m\n\u001b[0m\u001b[1;32m    187\u001b[0m \u001b[0;34m\u001b[0m\u001b[0m\n\u001b[1;32m    188\u001b[0m   \u001b[0;32mdef\u001b[0m \u001b[0mcreate_variables\u001b[0m\u001b[0;34m(\u001b[0m\u001b[0mself\u001b[0m\u001b[0;34m,\u001b[0m \u001b[0minput_tensor_spec\u001b[0m\u001b[0;34m=\u001b[0m\u001b[0;32mNone\u001b[0m\u001b[0;34m,\u001b[0m \u001b[0;34m**\u001b[0m\u001b[0mkwargs\u001b[0m\u001b[0;34m)\u001b[0m\u001b[0;34m:\u001b[0m\u001b[0;34m\u001b[0m\u001b[0;34m\u001b[0m\u001b[0m\n",
            "\u001b[0;31mKeyboardInterrupt\u001b[0m: "
          ]
        }
      ]
    },
    {
      "cell_type": "markdown",
      "source": [
        "# **Old Build and Abandon**"
      ],
      "metadata": {
        "id": "QuSoMBuun6TW"
      }
    },
    {
      "cell_type": "code",
      "source": [
        "import matplotlib.pyplot as plt\n",
        "from tf_agents.policies import policy_saver\n",
        "import tempfile\n",
        "import random\n",
        "import os\n",
        "from tf_agents.utils import common  # loss function\n",
        "from tf_agents.trajectories import trajectory  # s->s' trajectory\n",
        "from tf_agents.replay_buffers import tf_uniform_replay_buffer  # replay buffer\n",
        "from tf_agents.networks import q_network  # Q net\n",
        "from tf_agents.environments import tf_py_environment  # gym to tf gym\n",
        "from tf_agents.environments import gym_wrapper  # wrap OpenAI gym\n",
        "from tf_agents.agents.dqn import dqn_agent  # DQN Agent, also some other agents, discussed later\n",
        "import tensorflow as tf\n",
        "import numpy as np\n",
        "import gym\n",
        "import QuantLib as ql  # used for calculating the price of option if we hold it, baseline\n",
        "\n",
        "# Build and Abandon Gym Environment\n",
        "class BuildAbandonOptionEnv(gym.Env): #put\n",
        "    def __init__(self):\n",
        "        self.S0 = 100.0\n",
        "        self.K = 5.0\n",
        "        self.r = 0.03\n",
        "        self.sigma = 0.10\n",
        "        self.T = 2.0\n",
        "        self.tc = 0.5\n",
        "        self.gamma = 1.0\n",
        "        self.Cop = 100.0\n",
        "        self.Cab = 1.0\n",
        "        self.ta = 2.0 # this is our state to observe\n",
        "        self.tb = 0 # this is our state to observe\n",
        "        self.N = 500    # 500 day, only do 20 days first\n",
        "\n",
        "        # 1. at time step t, my abandon happens when E(V_t) < 0, with the abandon and cost\n",
        "        # 2. 4 states: S, t, ta, tb \n",
        "        # 2. we don't have a aboundary for building and abandoning (t > t_b + t_c)\n",
        "        # 3. Traning Algorithm: States: 1. S, 2. ta, 3. tb\n",
        "\n",
        "        self.build = False\n",
        "        self.abandon = False\n",
        "        self.EV_abandon = 0\n",
        "        self.EV_keep = 0\n",
        "        self.fb = 100\n",
        "        self.fa = 100\n",
        "        self.panelty = 1.0\n",
        "\n",
        "        self.S1 = 0\n",
        "        self.reward = 0\n",
        "        self.current_day = 0    # from day 0 taking N steps to day N\n",
        "        self.underlying_prices = []\n",
        "        self.time = []\n",
        "        self.integral = []\n",
        "        self.integral_sum = 0\n",
        "        self.current_day_ratio = self.current_day/(self.N/self.T)\n",
        "\n",
        "        self.action_space = gym.spaces.Discrete(2)        \n",
        "        self.observation_space = gym.spaces.Box(low=np.array([0, 0, 0]), high=np.array(\n",
        "            [np.inf, 2.0, 2.0]), dtype=np.float32)      # S in [0, inf], tao in [0, 1]\n",
        "\n",
        "    def step(self, action):\n",
        "        if self.build == False and self.abandon == False:   # at time t <= tb, no build yet\n",
        "          if action == 0:\n",
        "            if self.current_day_ratio == self.T:\n",
        "              reward = 0\n",
        "              done = True\n",
        "            else:\n",
        "              reward = 0\n",
        "              self.current_day += 1\n",
        "              self.current_day_ratio = self.current_day/(self.N/self.T)\n",
        "              self.S1 = self.S1 * np.exp((self.r - 0.5 * self.sigma**2) * (self.T/self.N) + self.sigma * np.sqrt(self.T/self.N) * np.random.normal()) #GBM process price\n",
        "              self.underlying_prices.append(self.S1)\n",
        "              self.time.append(self.current_day_ratio)\n",
        "              done = False\n",
        "          elif action == 1: # we just build it now\n",
        "            self.fb = self.S1\n",
        "            if self.current_day_ratio == self.T:\n",
        "                self.tb = self.T\n",
        "                self.build = True\n",
        "                reward = -(self.K * np.exp(-self.r * self.tb) + (self.Cab * np.exp(-self.r * self.current_day_ratio)))\n",
        "                done = True\n",
        "            else:\n",
        "                self.tb = self.current_day_ratio\n",
        "                self.build = True\n",
        "                reward = -(self.K * np.exp(-self.r * self.tb) + (self.Cab * np.exp(-self.r * self.current_day_ratio)))\n",
        "                self.current_day += 1\n",
        "                self.current_day_ratio = self.current_day/(self.N/self.T)\n",
        "                self.S1 = self.S1 * np.exp((self.r - 0.5 * self.sigma**2) * (self.T/self.N) + self.sigma * np.sqrt(self.T/self.N) * np.random.normal()) #GBM process price\n",
        "                self.underlying_prices.append(self.S1)\n",
        "                self.time.append(self.current_day_ratio)\n",
        "                done = False\n",
        "        elif self.build == True and self.abandon == False: # we have built the plant, and we haven't abandon it yet, plus we don't want to abandon it right now\n",
        "          self.EV_abandon = -(self.K * np.exp(-self.r * self.tb) + (self.Cab * np.exp(-self.r * self.current_day_ratio)))  \n",
        "          self.EV_keep = -(self.K * np.exp(-self.r * self.tb) + (self.Cab * np.exp(-self.r * self.current_day_ratio))) \n",
        "          if action == 0:\n",
        "            if (self.current_day_ratio >= self.tb) and (self.current_day_ratio < (self.tb + self.tc)):\n",
        "                if self.current_day_ratio == self.T:\n",
        "                    reward = self.EV_keep\n",
        "                    done = True\n",
        "                else:\n",
        "                    reward = self.EV_keep\n",
        "                    self.current_day += 1\n",
        "                    self.current_day_ratio = self.current_day/(self.N/self.T)\n",
        "                    self.S1 = self.S1 * np.exp((self.r - 0.5 * self.sigma**2) * (self.T/self.N) + self.sigma * np.sqrt(self.T/self.N) * np.random.normal()) #GBM process price\n",
        "                    self.underlying_prices.append(self.S1)\n",
        "                    self.time.append(self.current_day_ratio)\n",
        "                    done = False\n",
        "            elif (self.current_day_ratio >= (self.tb + self.tc)) and (self.current_day_ratio < self.ta):\n",
        "                self.integral_sum = sum(self.integral)\n",
        "                self.EV_keep = -(self.K * np.exp(-self.r * self.tb) + (self.Cab * np.exp(-self.r * self.current_day_ratio))) + self.integral_sum\n",
        "                if self.EV_keep >= self.EV_abandon:\n",
        "                  if self.current_day_ratio == self.T:\n",
        "                      reward = self.EV_keep\n",
        "                      done = True\n",
        "                  else:\n",
        "                      reward = self.EV_keep\n",
        "                      self.current_day += 1\n",
        "                      self.current_day_ratio = self.current_day/(self.N/self.T)\n",
        "                      self.S1 = self.S1 * np.exp((self.r - 0.5 * self.sigma**2) * (self.T/self.N) + self.sigma * np.sqrt(self.T/self.N) * np.random.normal()) #GBM process price\n",
        "                      self.underlying_prices.append(self.S1)\n",
        "                      self.time.append(self.current_day_ratio)\n",
        "                      self.integral.append((self.T/self.N)*np.exp(-self.r * self.time[-1])*self.gamma*(self.underlying_prices[-1]-self.Cop))\n",
        "                      done = False\n",
        "                elif self.EV_keep < self.EV_abandon:\n",
        "                  if self.current_day_ratio == self.T:\n",
        "                      reward = self.EV_keep - self.panelty*abs(self.EV_abandon - self.EV_keep)\n",
        "                      done = True\n",
        "                  else:\n",
        "                      reward = self.EV_keep - self.panelty*abs(self.EV_abandon - self.EV_keep)\n",
        "                      self.current_day += 1\n",
        "                      self.current_day_ratio = self.current_day/(self.N/self.T)\n",
        "                      self.S1 = self.S1 * np.exp((self.r - 0.5 * self.sigma**2) * (self.T/self.N) + self.sigma * np.sqrt(self.T/self.N) * np.random.normal()) #GBM process price\n",
        "                      self.underlying_prices.append(self.S1)\n",
        "                      self.time.append(self.current_day_ratio)\n",
        "                      self.integral.append((self.T/self.N)*np.exp(-self.r * self.time[-1])*self.gamma*(self.underlying_prices[-1]-self.Cop))\n",
        "                      done = False\n",
        "          elif action == 1:\n",
        "            self.fa = self.S1\n",
        "            if (self.current_day_ratio >= self.tb) and (self.current_day_ratio < (self.tb + self.tc)):\n",
        "              self.ta = self.current_day_ratio\n",
        "              self.abandon = True\n",
        "              if self.current_day_ratio == self.T:\n",
        "                    reward = self.EV_abandon\n",
        "                    done = True\n",
        "              else:\n",
        "                    reward = self.EV_abandon\n",
        "                    self.current_day += 1\n",
        "                    self.current_day_ratio = self.current_day/(self.N/self.T)\n",
        "                    self.S1 = self.S1 * np.exp((self.r - 0.5 * self.sigma**2) * (self.T/self.N) + self.sigma * np.sqrt(self.T/self.N) * np.random.normal()) #GBM process price\n",
        "                    self.underlying_prices.append(self.S1)\n",
        "                    self.time.append(self.current_day_ratio)\n",
        "                    self.integral.append((self.T/self.N)*np.exp(-self.r * self.time[-1])*self.gamma*(self.underlying_prices[-1]-self.Cop))\n",
        "                    done = False\n",
        "            elif (self.current_day_ratio >= (self.tb + self.tc)) and (self.current_day_ratio < self.ta):\n",
        "                self.ta = self.current_day_ratio\n",
        "                self.abandon = True\n",
        "                self.integral_sum = sum(self.integral)\n",
        "                self.EV_keep = -(self.K * np.exp(-self.r * self.tb) + (self.Cab * np.exp(-self.r * self.current_day_ratio))) + self.integral_sum\n",
        "                if self.EV_keep > self.EV_abandon:\n",
        "                  if self.current_day_ratio == self.T:\n",
        "                      reward = self.EV_abandon - abs(self.EV_keep - self.EV_abandon)\n",
        "                      done = True\n",
        "                  else:\n",
        "                      reward = self.EV_abandon - abs(self.EV_keep - self.EV_abandon)\n",
        "                      self.current_day += 1\n",
        "                      self.current_day_ratio = self.current_day/(self.N/self.T)\n",
        "                      self.S1 = self.S1 * np.exp((self.r - 0.5 * self.sigma**2) * (self.T/self.N) + self.sigma * np.sqrt(self.T/self.N) * np.random.normal()) #GBM process price\n",
        "                      self.underlying_prices.append(self.S1)\n",
        "                      self.time.append(self.current_day_ratio)\n",
        "                      self.integral.append((self.T/self.N)*np.exp(-self.r * self.time[-1])*self.gamma*(self.underlying_prices[-1]-self.Cop))\n",
        "                      done = False\n",
        "                elif self.EV_keep <= self.EV_abandon:\n",
        "                  if self.current_day_ratio == self.T:\n",
        "                      reward = self.EV_abandon\n",
        "                      done = True\n",
        "                  else:\n",
        "                      reward = self.EV_abandon\n",
        "                      self.current_day += 1\n",
        "                      self.current_day_ratio = self.current_day/(self.N/self.T)\n",
        "                      self.S1 = self.S1 * np.exp((self.r - 0.5 * self.sigma**2) * (self.T/self.N) + self.sigma * np.sqrt(self.T/self.N) * np.random.normal()) #GBM process price\n",
        "                      self.underlying_prices.append(self.S1)\n",
        "                      self.time.append(self.current_day_ratio)\n",
        "                      self.integral.append((self.T/self.N)*np.exp(-self.r * self.time[-1])*self.gamma*(self.underlying_prices[-1]-self.Cop))\n",
        "                      done = False\n",
        "        elif self.build == True and self.abandon == True:\n",
        "            if (self.current_day_ratio >= self.ta):\n",
        "                if self.current_day_ratio == self.T:\n",
        "                    reward = -(self.K * np.exp(-self.r * self.tb) + (self.Cab * np.exp(-self.r * self.ta)))\n",
        "                    done = True\n",
        "                else:\n",
        "                    reward = -(self.K * np.exp(-self.r * self.tb) + (self.Cab * np.exp(-self.r * self.ta)))\n",
        "                    self.current_day += 1\n",
        "                    self.current_day_ratio = self.current_day/(self.N/self.T)\n",
        "                    self.S1 = self.S1 * np.exp((self.r - 0.5 * self.sigma**2) * (self.T/self.N) + self.sigma * np.sqrt(self.T/self.N) * np.random.normal()) #GBM process price\n",
        "                    self.underlying_prices.append(self.S1)\n",
        "                    self.time.append(self.current_day_ratio)\n",
        "                    self.integral.append((self.T/self.N)*np.exp(-self.r * self.time[-1])*self.gamma*(self.underlying_prices[-1]-self.Cop))\n",
        "                    done = False\n",
        "        return np.array([self.S1,self.tb, self.ta]), reward, done, {}\n",
        "\n",
        "    def reset(self):\n",
        "        self.build = False\n",
        "        self.abandon = False\n",
        "        self.tb = 0\n",
        "        self.ta = 2.0\n",
        "        self.current_day = self.tb*(self.N/self.T)\n",
        "        self.S1 = self.S0\n",
        "        self.underlying_prices = [0]\n",
        "        self.time = [0]\n",
        "        self.integral = [0]\n",
        "        self.integral_sum = 0\n",
        "        self.current_day_ratio = self.current_day/(self.N/self.T)\n",
        "        self.EV_abandon = 0\n",
        "        self.EV_keep = 0\n",
        "        self.fb = 100\n",
        "        self.fa = 100\n",
        "        return [self.S1, self.tb, self.ta]"
      ],
      "metadata": {
        "id": "5sfucY21aiRh"
      },
      "execution_count": null,
      "outputs": []
    },
    {
      "cell_type": "code",
      "source": [
        "# Hyper-parameters\n",
        "num_iterations = 20000  # @param {type:\"integer\"}\n",
        "\n",
        "collect_steps_per_iteration = 10  # @param {type:\"integer\"}\n",
        "replay_buffer_max_length = 100000  # @param {type:\"integer\"}\n",
        "batch_size = 256  # @param {type:\"integer\"}\n",
        "\n",
        "learning_rate = 1e-3  # @param {type:\"number\"}\n",
        "num_eval_episodes = 10  # @param {type:\"integer\"}\n",
        "\n",
        "eval_interval = 1000  # @param {type:\"integer\"}\n",
        "log_interval = 200  # @param {type:\"integer\"}\n",
        "\n",
        "train_env_gym = BuildAbandonOptionEnv() # american put env\n",
        "eval_env_gym = BuildAbandonOptionEnv() # test case\n",
        "\n",
        "train_env_wrap = gym_wrapper.GymWrapper(train_env_gym)\n",
        "eval_env_wrap = gym_wrapper.GymWrapper(eval_env_gym)\n",
        "\n",
        "train_env = tf_py_environment.TFPyEnvironment(train_env_wrap)\n",
        "eval_env = tf_py_environment.TFPyEnvironment(eval_env_wrap)\n",
        "\n",
        "fc_layer_params = (200,) # number of hidden layers\n",
        "\n",
        "q_net = q_network.QNetwork(\n",
        "    train_env.observation_spec(),\n",
        "    train_env.action_spec(),\n",
        "    fc_layer_params=fc_layer_params)\n",
        "\n",
        "optimizer = tf.compat.v1.train.AdamOptimizer(learning_rate=learning_rate)\n",
        "\n",
        "train_step_counter = tf.Variable(0)\n",
        "\n",
        "agent = dqn_agent.DdqnAgent(\n",
        "    train_env.time_step_spec(),\n",
        "    train_env.action_spec(),\n",
        "    q_network=q_net,\n",
        "    optimizer=optimizer,\n",
        "    td_errors_loss_fn=common.element_wise_squared_loss,\n",
        "    train_step_counter=train_step_counter)\n",
        "\n",
        "agent.initialize()\n",
        "\n",
        "replay_buffer = tf_uniform_replay_buffer.TFUniformReplayBuffer(\n",
        "    data_spec=agent.collect_data_spec,\n",
        "    batch_size=train_env.batch_size,\n",
        "    max_length=replay_buffer_max_length)\n",
        "\n",
        "# the buffer will update the Q table based on not only the past one step, but some older steps as well.\n",
        "\n",
        "dataset = replay_buffer.as_dataset(\n",
        "    num_parallel_calls=3,\n",
        "    sample_batch_size=batch_size,\n",
        "    num_steps=2).prefetch(3)\n",
        "\n",
        "iterator = iter(dataset)\n",
        "\n",
        "# eval_env evaluation\n",
        "\n",
        "# computer average return of the Q network, which in our case is the reward, which is premium option price\n",
        "def compute_avg_return(environment, policy, num_episodes=10):\n",
        "\n",
        "    total_return = 0.0\n",
        "    for i in range(num_episodes):\n",
        "\n",
        "        time_step = environment.reset()\n",
        "        episode_return = 0.0\n",
        "\n",
        "        while not time_step.is_last():\n",
        "            action_step = policy.action(time_step)\n",
        "            time_step = environment.step(action_step.action)\n",
        "            episode_return += time_step.reward\n",
        "        total_return += episode_return\n",
        "\n",
        "    avg_return = total_return / num_episodes\n",
        "    return avg_return.numpy()[0]\n",
        "\n",
        "# Data Collection\n",
        "\n",
        "def collect_step(environment, policy, buffer):\n",
        "    time_step = environment.current_time_step()\n",
        "    action_step = policy.action(time_step)\n",
        "    next_time_step = environment.step(action_step.action)\n",
        "    traj = trajectory.from_transition(time_step, action_step, next_time_step)\n",
        "\n",
        "    # Add trajectory to the replay buffer\n",
        "    buffer.add_batch(traj)\n",
        "\n",
        "# common loop in RL- especailly DQN\n",
        "def collect_data(env, policy, buffer, steps):\n",
        "    for i in range(steps):\n",
        "        collect_step(env, policy, buffer)\n",
        "\n",
        "# training!!\n",
        "agent.train = common.function(agent.train)\n",
        "\n",
        "# Reset the train step\n",
        "agent.train_step_counter.assign(0)\n",
        "\n",
        "# Evaluate the agent's policy once before training.\n",
        "avg_return = compute_avg_return(eval_env, agent.policy, num_eval_episodes)\n",
        "returns = [avg_return]\n",
        "\n",
        "for i in range(num_iterations):\n",
        "    # Collect a few steps using collect_policy and save to the replay buffer.\n",
        "    for j in range(collect_steps_per_iteration):\n",
        "        collect_step(train_env, agent.collect_policy, replay_buffer)\n",
        "\n",
        "    # Sample a batch of data from the buffer and update the agent's network.\n",
        "    experience, unused_info = next(iterator)\n",
        "    train_loss = agent.train(experience).loss\n",
        "\n",
        "    step = agent.train_step_counter.numpy()\n",
        "\n",
        "    if step % log_interval == 0:\n",
        "        print('step = {0}: loss = {1}'.format(step, train_loss))\n",
        "\n",
        "    if step % eval_interval == 0:\n",
        "        avg_return = compute_avg_return(\n",
        "            eval_env, agent.policy, num_eval_episodes)\n",
        "        print('step = {0}: Average Return = {1}'.format(step, avg_return))\n",
        "        returns.append(avg_return)\n",
        "\n",
        "# plot training iterations\n",
        "iterations = range(0, num_iterations + 1, eval_interval)\n",
        "plt.plot(iterations, returns)\n",
        "plt.ylabel('Average Return')\n",
        "plt.xlabel('Iterations')\n",
        "plt.ylim(top=2)\n",
        "\n",
        "# save policy\n",
        "tempdir = os.getenv(\"TEST_TMPDIR\", tempfile.gettempdir())\n",
        "policy_dir = os.path.join(tempdir, 'policy')\n",
        "tf_policy_saver = policy_saver.PolicySaver(agent.policy)\n",
        "tf_policy_saver.save(policy_dir)\n",
        "\n",
        "saved_policy = tf.compat.v2.saved_model.load(policy_dir)"
      ],
      "metadata": {
        "colab": {
          "base_uri": "https://localhost:8080/"
        },
        "id": "aTanW3Kq8DBC",
        "outputId": "cb38d912-fd5f-47c9-8821-0f4ecde2c6c4"
      },
      "execution_count": null,
      "outputs": [
        {
          "output_type": "stream",
          "name": "stderr",
          "text": [
            "/usr/local/lib/python3.7/dist-packages/gym/logger.py:30: UserWarning: \u001b[33mWARN: Box bound precision lowered by casting to float32\u001b[0m\n",
            "  warnings.warn(colorize('%s: %s'%('WARN', msg % args), 'yellow'))\n"
          ]
        },
        {
          "output_type": "stream",
          "name": "stdout",
          "text": [
            "step = 200: loss = 6613.47314453125\n",
            "step = 400: loss = 100.58078002929688\n",
            "step = 600: loss = 14916.6298828125\n",
            "step = 800: loss = 107.72962951660156\n",
            "step = 1000: loss = 141.1700439453125\n",
            "step = 1000: Average Return = 0.0\n",
            "step = 1200: loss = 134.8883514404297\n",
            "step = 1400: loss = 162.22027587890625\n",
            "step = 1600: loss = 109.32025146484375\n",
            "step = 1800: loss = 10458.90625\n",
            "step = 2000: loss = 15749.1474609375\n",
            "step = 2000: Average Return = 0.0\n",
            "step = 2200: loss = 120.163330078125\n",
            "step = 2400: loss = 28016.47265625\n",
            "step = 2600: loss = 89.25239562988281\n",
            "step = 2800: loss = 9014.875\n",
            "step = 3000: loss = 10343.2548828125\n",
            "step = 3000: Average Return = 0.0\n",
            "step = 3200: loss = 69.64776611328125\n",
            "step = 3400: loss = 130.6139678955078\n",
            "step = 3600: loss = 159.30230712890625\n",
            "step = 3800: loss = 117.51951599121094\n",
            "step = 4000: loss = 10169.7197265625\n",
            "step = 4000: Average Return = 0.0\n",
            "step = 4200: loss = 146.42454528808594\n",
            "step = 4400: loss = 103.6318130493164\n",
            "step = 4600: loss = 106.20716857910156\n",
            "step = 4800: loss = 5741.89306640625\n",
            "step = 5000: loss = 7289.94140625\n",
            "step = 5000: Average Return = -3005.958740234375\n",
            "step = 5200: loss = 114.36473083496094\n",
            "step = 5400: loss = 124.20196533203125\n",
            "step = 5600: loss = 94.50746154785156\n",
            "step = 5800: loss = 91.05680084228516\n",
            "step = 6000: loss = 12550.384765625\n",
            "step = 6000: Average Return = -3005.958740234375\n",
            "step = 6200: loss = 101.67091369628906\n",
            "step = 6400: loss = 132.76553344726562\n",
            "step = 6600: loss = 91.81224822998047\n",
            "step = 6800: loss = 124.46087646484375\n",
            "step = 7000: loss = 138.31112670898438\n",
            "step = 7000: Average Return = -3005.958740234375\n",
            "step = 7200: loss = 125.15751647949219\n",
            "step = 7400: loss = 85.42462921142578\n",
            "step = 7600: loss = 23603.46484375\n",
            "step = 7800: loss = 96.22195434570312\n",
            "step = 8000: loss = 6212.73876953125\n",
            "step = 8000: Average Return = -3005.958740234375\n",
            "step = 8200: loss = 15000.8251953125\n",
            "step = 8400: loss = 85.53541564941406\n",
            "step = 8600: loss = 120.1387939453125\n",
            "step = 8800: loss = 119.03538513183594\n",
            "step = 9000: loss = 107.75981140136719\n",
            "step = 9000: Average Return = 0.0\n",
            "step = 9200: loss = 7333.45556640625\n",
            "step = 9400: loss = 152.48248291015625\n",
            "step = 9600: loss = 9691.1884765625\n",
            "step = 9800: loss = 8806.1845703125\n",
            "step = 10000: loss = 97.67683410644531\n",
            "step = 10000: Average Return = -3005.958740234375\n",
            "step = 10200: loss = 20551.927734375\n",
            "step = 10400: loss = 117.099365234375\n",
            "step = 10600: loss = 147.95733642578125\n",
            "step = 10800: loss = 106.959228515625\n",
            "step = 11000: loss = 8161.88427734375\n",
            "step = 11000: Average Return = -3005.958740234375\n",
            "step = 11200: loss = 108.67375946044922\n",
            "step = 11400: loss = 14384.0791015625\n",
            "step = 11600: loss = 8404.2724609375\n",
            "step = 11800: loss = 8115.83984375\n",
            "step = 12000: loss = 123.5966796875\n",
            "step = 12000: Average Return = 0.0\n",
            "step = 12200: loss = 6842.20263671875\n",
            "step = 12400: loss = 7352.736328125\n",
            "step = 12600: loss = 18871.9296875\n",
            "step = 12800: loss = 95.3143539428711\n",
            "step = 13000: loss = 7060.08935546875\n",
            "step = 13000: Average Return = 0.0\n",
            "step = 13200: loss = 10734.546875\n",
            "step = 13400: loss = 108.50358581542969\n",
            "step = 13600: loss = 93.13976287841797\n",
            "step = 13800: loss = 105.36288452148438\n",
            "step = 14000: loss = 143.1416015625\n",
            "step = 14000: Average Return = -3005.958740234375\n",
            "step = 14200: loss = 158.908203125\n",
            "step = 14400: loss = 111.76054382324219\n",
            "step = 14600: loss = 116.60975646972656\n",
            "step = 14800: loss = 100.40203857421875\n",
            "step = 15000: loss = 11593.685546875\n",
            "step = 15000: Average Return = -3005.958740234375\n",
            "step = 15200: loss = 124.15229034423828\n",
            "step = 15400: loss = 114.58051300048828\n",
            "step = 15600: loss = 93.8123779296875\n",
            "step = 15800: loss = 115.06317138671875\n",
            "step = 16000: loss = 114.53355407714844\n",
            "step = 16000: Average Return = 0.0\n",
            "step = 16200: loss = 9278.478515625\n",
            "step = 16400: loss = 113.6045913696289\n",
            "step = 16600: loss = 101.27369689941406\n",
            "step = 16800: loss = 8655.537109375\n",
            "step = 17000: loss = 123.35102844238281\n",
            "step = 17000: Average Return = 0.0\n",
            "step = 17200: loss = 13290.55859375\n",
            "step = 17400: loss = 161.71771240234375\n",
            "step = 17600: loss = 137.45339965820312\n",
            "step = 17800: loss = 11164.6162109375\n",
            "step = 18000: loss = 92.85015869140625\n",
            "step = 18000: Average Return = 0.0\n",
            "step = 18200: loss = 11359.0244140625\n",
            "step = 18400: loss = 116.640625\n",
            "step = 18600: loss = 12391.224609375\n",
            "step = 18800: loss = 129.83981323242188\n",
            "step = 19000: loss = 113.07086181640625\n",
            "step = 19000: Average Return = 0.0\n",
            "step = 19200: loss = 105.32646942138672\n",
            "step = 19400: loss = 16643.83203125\n",
            "step = 19600: loss = 9276.1630859375\n",
            "step = 19800: loss = 164.0799560546875\n",
            "step = 20000: loss = 153.41281127929688\n",
            "step = 20000: Average Return = 0.0\n"
          ]
        },
        {
          "output_type": "stream",
          "name": "stderr",
          "text": [
            "WARNING:absl:Function `function_with_signature` contains input name(s) 0/step_type, 0/reward, 0/discount, 0/observation with unsupported characters which will be renamed to step_type, reward, discount, observation in the SavedModel.\n",
            "WARNING:absl:Found untraced functions such as QNetwork_layer_call_fn, QNetwork_layer_call_and_return_conditional_losses, EncodingNetwork_layer_call_fn, EncodingNetwork_layer_call_and_return_conditional_losses, dense_21_layer_call_fn while saving (showing 5 of 10). These functions will not be directly callable after loading.\n"
          ]
        },
        {
          "output_type": "stream",
          "name": "stdout",
          "text": [
            "INFO:tensorflow:Assets written to: /tmp/policy/assets\n"
          ]
        },
        {
          "output_type": "stream",
          "name": "stderr",
          "text": [
            "/usr/local/lib/python3.7/dist-packages/tensorflow/python/saved_model/nested_structure_coder.py:524: UserWarning: Encoding a StructuredValue with type tfp.distributions.Deterministic_ACTTypeSpec; loading this StructuredValue will require that this type be imported and registered.\n",
            "  \"imported and registered.\" % type_spec_class_name)\n",
            "INFO:tensorflow:Assets written to: /tmp/policy/assets\n"
          ]
        },
        {
          "output_type": "display_data",
          "data": {
            "text/plain": [
              "<Figure size 432x288 with 1 Axes>"
            ],
            "image/png": "[encoded data removed]"
          },
          "metadata": {
            "needs_background": "light"
          }
        }
      ]
    },
    {
      "cell_type": "code",
      "source": [
        "pricing_dict = {}\n",
        "npv = compute_avg_return(eval_env, agent.policy, num_episodes=100) # not averaged\n",
        "pricing_dict['RL-DQN - 10000 Path'] = npv\n",
        "pricing_dict"
      ],
      "metadata": {
        "id": "ZY1x-4e9YQ5P",
        "colab": {
          "base_uri": "https://localhost:8080/",
          "height": 363
        },
        "outputId": "e2775755-8831-47f8-dac8-554d3fadbfd4"
      },
      "execution_count": null,
      "outputs": [
        {
          "output_type": "error",
          "ename": "IndexError",
          "evalue": "ignored",
          "traceback": [
            "\u001b[0;31m---------------------------------------------------------------------------\u001b[0m",
            "\u001b[0;31mIndexError\u001b[0m                                Traceback (most recent call last)",
            "\u001b[0;32m<ipython-input-19-486c8623c94f>\u001b[0m in \u001b[0;36m<module>\u001b[0;34m()\u001b[0m\n\u001b[1;32m      1\u001b[0m \u001b[0mpricing_dict\u001b[0m \u001b[0;34m=\u001b[0m \u001b[0;34m{\u001b[0m\u001b[0;34m}\u001b[0m\u001b[0;34m\u001b[0m\u001b[0;34m\u001b[0m\u001b[0m\n\u001b[0;32m----> 2\u001b[0;31m \u001b[0mnpv\u001b[0m \u001b[0;34m=\u001b[0m \u001b[0mcompute_avg_return\u001b[0m\u001b[0;34m(\u001b[0m\u001b[0meval_env\u001b[0m\u001b[0;34m,\u001b[0m \u001b[0magent\u001b[0m\u001b[0;34m.\u001b[0m\u001b[0mpolicy\u001b[0m\u001b[0;34m,\u001b[0m \u001b[0mnum_episodes\u001b[0m\u001b[0;34m=\u001b[0m\u001b[0;36m100\u001b[0m\u001b[0;34m)\u001b[0m \u001b[0;31m# not averaged\u001b[0m\u001b[0;34m\u001b[0m\u001b[0;34m\u001b[0m\u001b[0m\n\u001b[0m\u001b[1;32m      3\u001b[0m \u001b[0mpricing_dict\u001b[0m\u001b[0;34m[\u001b[0m\u001b[0;34m'RL-DQN - 10000 Path'\u001b[0m\u001b[0;34m]\u001b[0m \u001b[0;34m=\u001b[0m \u001b[0mnpv\u001b[0m\u001b[0;34m\u001b[0m\u001b[0;34m\u001b[0m\u001b[0m\n\u001b[1;32m      4\u001b[0m \u001b[0mpricing_dict\u001b[0m\u001b[0;34m\u001b[0m\u001b[0;34m\u001b[0m\u001b[0m\n",
            "\u001b[0;32m<ipython-input-12-b4de4c646592>\u001b[0m in \u001b[0;36mcompute_avg_return\u001b[0;34m(environment, policy, num_episodes)\u001b[0m\n\u001b[1;32m     72\u001b[0m         \u001b[0;32mwhile\u001b[0m \u001b[0;32mnot\u001b[0m \u001b[0mtime_step\u001b[0m\u001b[0;34m.\u001b[0m\u001b[0mis_last\u001b[0m\u001b[0;34m(\u001b[0m\u001b[0;34m)\u001b[0m\u001b[0;34m:\u001b[0m\u001b[0;34m\u001b[0m\u001b[0;34m\u001b[0m\u001b[0m\n\u001b[1;32m     73\u001b[0m             \u001b[0maction_step\u001b[0m \u001b[0;34m=\u001b[0m \u001b[0mpolicy\u001b[0m\u001b[0;34m.\u001b[0m\u001b[0maction\u001b[0m\u001b[0;34m(\u001b[0m\u001b[0mtime_step\u001b[0m\u001b[0;34m)\u001b[0m\u001b[0;34m\u001b[0m\u001b[0;34m\u001b[0m\u001b[0m\n\u001b[0;32m---> 74\u001b[0;31m             \u001b[0mtime_step\u001b[0m \u001b[0;34m=\u001b[0m \u001b[0menvironment\u001b[0m\u001b[0;34m.\u001b[0m\u001b[0mstep\u001b[0m\u001b[0;34m(\u001b[0m\u001b[0maction_step\u001b[0m\u001b[0;34m.\u001b[0m\u001b[0maction\u001b[0m\u001b[0;34m)\u001b[0m\u001b[0;34m\u001b[0m\u001b[0;34m\u001b[0m\u001b[0m\n\u001b[0m\u001b[1;32m     75\u001b[0m             \u001b[0mepisode_return\u001b[0m \u001b[0;34m+=\u001b[0m \u001b[0mtime_step\u001b[0m\u001b[0;34m.\u001b[0m\u001b[0mreward\u001b[0m\u001b[0;34m\u001b[0m\u001b[0;34m\u001b[0m\u001b[0m\n\u001b[1;32m     76\u001b[0m         \u001b[0mtotal_return\u001b[0m \u001b[0;34m+=\u001b[0m \u001b[0mepisode_return\u001b[0m\u001b[0;34m\u001b[0m\u001b[0;34m\u001b[0m\u001b[0m\n",
            "\u001b[0;32m/usr/local/lib/python3.7/dist-packages/tf_agents/environments/tf_environment.py\u001b[0m in \u001b[0;36mstep\u001b[0;34m(self, action)\u001b[0m\n\u001b[1;32m    239\u001b[0m           \u001b[0mcorresponding\u001b[0m \u001b[0mto\u001b[0m\u001b[0;31m \u001b[0m\u001b[0;31m`\u001b[0m\u001b[0mobservation_spec\u001b[0m\u001b[0;34m(\u001b[0m\u001b[0;34m)\u001b[0m\u001b[0;31m`\u001b[0m\u001b[0;34m.\u001b[0m\u001b[0;34m\u001b[0m\u001b[0;34m\u001b[0m\u001b[0m\n\u001b[1;32m    240\u001b[0m     \"\"\"\n\u001b[0;32m--> 241\u001b[0;31m     \u001b[0;32mreturn\u001b[0m \u001b[0mself\u001b[0m\u001b[0;34m.\u001b[0m\u001b[0m_step\u001b[0m\u001b[0;34m(\u001b[0m\u001b[0maction\u001b[0m\u001b[0;34m)\u001b[0m\u001b[0;34m\u001b[0m\u001b[0;34m\u001b[0m\u001b[0m\n\u001b[0m\u001b[1;32m    242\u001b[0m \u001b[0;34m\u001b[0m\u001b[0m\n\u001b[1;32m    243\u001b[0m   \u001b[0;32mdef\u001b[0m \u001b[0mrender\u001b[0m\u001b[0;34m(\u001b[0m\u001b[0mself\u001b[0m\u001b[0;34m)\u001b[0m\u001b[0;34m:\u001b[0m\u001b[0;34m\u001b[0m\u001b[0;34m\u001b[0m\u001b[0m\n",
            "\u001b[0;32m/usr/local/lib/python3.7/dist-packages/tf_agents/environments/tf_py_environment.py\u001b[0m in \u001b[0;36m_step\u001b[0;34m(self, actions)\u001b[0m\n\u001b[1;32m    317\u001b[0m           \u001b[0mflat_actions\u001b[0m\u001b[0;34m,\u001b[0m\u001b[0;34m\u001b[0m\u001b[0;34m\u001b[0m\u001b[0m\n\u001b[1;32m    318\u001b[0m           \u001b[0mself\u001b[0m\u001b[0;34m.\u001b[0m\u001b[0m_time_step_dtypes\u001b[0m\u001b[0;34m,\u001b[0m\u001b[0;34m\u001b[0m\u001b[0;34m\u001b[0m\u001b[0m\n\u001b[0;32m--> 319\u001b[0;31m           name='step_py_func')\n\u001b[0m\u001b[1;32m    320\u001b[0m       \u001b[0;32mreturn\u001b[0m \u001b[0mself\u001b[0m\u001b[0;34m.\u001b[0m\u001b[0m_time_step_from_numpy_function_outputs\u001b[0m\u001b[0;34m(\u001b[0m\u001b[0moutputs\u001b[0m\u001b[0;34m)\u001b[0m\u001b[0;34m\u001b[0m\u001b[0;34m\u001b[0m\u001b[0m\n\u001b[1;32m    321\u001b[0m \u001b[0;34m\u001b[0m\u001b[0m\n",
            "\u001b[0;32m/usr/local/lib/python3.7/dist-packages/tensorflow/python/util/traceback_utils.py\u001b[0m in \u001b[0;36merror_handler\u001b[0;34m(*args, **kwargs)\u001b[0m\n\u001b[1;32m    151\u001b[0m     \u001b[0;32mexcept\u001b[0m \u001b[0mException\u001b[0m \u001b[0;32mas\u001b[0m \u001b[0me\u001b[0m\u001b[0;34m:\u001b[0m\u001b[0;34m\u001b[0m\u001b[0;34m\u001b[0m\u001b[0m\n\u001b[1;32m    152\u001b[0m       \u001b[0mfiltered_tb\u001b[0m \u001b[0;34m=\u001b[0m \u001b[0m_process_traceback_frames\u001b[0m\u001b[0;34m(\u001b[0m\u001b[0me\u001b[0m\u001b[0;34m.\u001b[0m\u001b[0m__traceback__\u001b[0m\u001b[0;34m)\u001b[0m\u001b[0;34m\u001b[0m\u001b[0;34m\u001b[0m\u001b[0m\n\u001b[0;32m--> 153\u001b[0;31m       \u001b[0;32mraise\u001b[0m \u001b[0me\u001b[0m\u001b[0;34m.\u001b[0m\u001b[0mwith_traceback\u001b[0m\u001b[0;34m(\u001b[0m\u001b[0mfiltered_tb\u001b[0m\u001b[0;34m)\u001b[0m \u001b[0;32mfrom\u001b[0m \u001b[0;32mNone\u001b[0m\u001b[0;34m\u001b[0m\u001b[0;34m\u001b[0m\u001b[0m\n\u001b[0m\u001b[1;32m    154\u001b[0m     \u001b[0;32mfinally\u001b[0m\u001b[0;34m:\u001b[0m\u001b[0;34m\u001b[0m\u001b[0;34m\u001b[0m\u001b[0m\n\u001b[1;32m    155\u001b[0m       \u001b[0;32mdel\u001b[0m \u001b[0mfiltered_tb\u001b[0m\u001b[0;34m\u001b[0m\u001b[0;34m\u001b[0m\u001b[0m\n",
            "\u001b[0;32m/usr/local/lib/python3.7/dist-packages/tf_agents/environments/tf_py_environment.py\u001b[0m in \u001b[0;36m_isolated_step_py\u001b[0;34m(*flattened_actions)\u001b[0m\n\u001b[1;32m    300\u001b[0m \u001b[0;34m\u001b[0m\u001b[0m\n\u001b[1;32m    301\u001b[0m     \u001b[0;32mdef\u001b[0m \u001b[0m_isolated_step_py\u001b[0m\u001b[0;34m(\u001b[0m\u001b[0;34m*\u001b[0m\u001b[0mflattened_actions\u001b[0m\u001b[0;34m)\u001b[0m\u001b[0;34m:\u001b[0m\u001b[0;34m\u001b[0m\u001b[0;34m\u001b[0m\u001b[0m\n\u001b[0;32m--> 302\u001b[0;31m       \u001b[0;32mreturn\u001b[0m \u001b[0mself\u001b[0m\u001b[0;34m.\u001b[0m\u001b[0m_execute\u001b[0m\u001b[0;34m(\u001b[0m\u001b[0m_step_py\u001b[0m\u001b[0;34m,\u001b[0m \u001b[0;34m*\u001b[0m\u001b[0mflattened_actions\u001b[0m\u001b[0;34m)\u001b[0m\u001b[0;34m\u001b[0m\u001b[0;34m\u001b[0m\u001b[0m\n\u001b[0m\u001b[1;32m    303\u001b[0m \u001b[0;34m\u001b[0m\u001b[0m\n\u001b[1;32m    304\u001b[0m     \u001b[0;32mwith\u001b[0m \u001b[0mtf\u001b[0m\u001b[0;34m.\u001b[0m\u001b[0mname_scope\u001b[0m\u001b[0;34m(\u001b[0m\u001b[0;34m'step'\u001b[0m\u001b[0;34m)\u001b[0m\u001b[0;34m:\u001b[0m\u001b[0;34m\u001b[0m\u001b[0;34m\u001b[0m\u001b[0m\n",
            "\u001b[0;32m/usr/local/lib/python3.7/dist-packages/tf_agents/environments/tf_py_environment.py\u001b[0m in \u001b[0;36m_execute\u001b[0;34m(self, fn, *args, **kwargs)\u001b[0m\n\u001b[1;32m    209\u001b[0m   \u001b[0;32mdef\u001b[0m \u001b[0m_execute\u001b[0m\u001b[0;34m(\u001b[0m\u001b[0mself\u001b[0m\u001b[0;34m,\u001b[0m \u001b[0mfn\u001b[0m\u001b[0;34m,\u001b[0m \u001b[0;34m*\u001b[0m\u001b[0margs\u001b[0m\u001b[0;34m,\u001b[0m \u001b[0;34m**\u001b[0m\u001b[0mkwargs\u001b[0m\u001b[0;34m)\u001b[0m\u001b[0;34m:\u001b[0m\u001b[0;34m\u001b[0m\u001b[0;34m\u001b[0m\u001b[0m\n\u001b[1;32m    210\u001b[0m     \u001b[0;32mif\u001b[0m \u001b[0;32mnot\u001b[0m \u001b[0mself\u001b[0m\u001b[0;34m.\u001b[0m\u001b[0m_pool\u001b[0m\u001b[0;34m:\u001b[0m\u001b[0;34m\u001b[0m\u001b[0;34m\u001b[0m\u001b[0m\n\u001b[0;32m--> 211\u001b[0;31m       \u001b[0;32mreturn\u001b[0m \u001b[0mfn\u001b[0m\u001b[0;34m(\u001b[0m\u001b[0;34m*\u001b[0m\u001b[0margs\u001b[0m\u001b[0;34m,\u001b[0m \u001b[0;34m**\u001b[0m\u001b[0mkwargs\u001b[0m\u001b[0;34m)\u001b[0m\u001b[0;34m\u001b[0m\u001b[0;34m\u001b[0m\u001b[0m\n\u001b[0m\u001b[1;32m    212\u001b[0m     \u001b[0;32mreturn\u001b[0m \u001b[0mself\u001b[0m\u001b[0;34m.\u001b[0m\u001b[0m_pool\u001b[0m\u001b[0;34m.\u001b[0m\u001b[0mapply\u001b[0m\u001b[0;34m(\u001b[0m\u001b[0mfn\u001b[0m\u001b[0;34m,\u001b[0m \u001b[0margs\u001b[0m\u001b[0;34m=\u001b[0m\u001b[0margs\u001b[0m\u001b[0;34m,\u001b[0m \u001b[0mkwds\u001b[0m\u001b[0;34m=\u001b[0m\u001b[0mkwargs\u001b[0m\u001b[0;34m)\u001b[0m\u001b[0;34m\u001b[0m\u001b[0;34m\u001b[0m\u001b[0m\n\u001b[1;32m    213\u001b[0m \u001b[0;34m\u001b[0m\u001b[0m\n",
            "\u001b[0;32m/usr/local/lib/python3.7/dist-packages/tf_agents/environments/tf_py_environment.py\u001b[0m in \u001b[0;36m_step_py\u001b[0;34m(*flattened_actions)\u001b[0m\n\u001b[1;32m    296\u001b[0m         packed = tf.nest.pack_sequence_as(\n\u001b[1;32m    297\u001b[0m             structure=self.action_spec(), flat_sequence=flattened_actions)\n\u001b[0;32m--> 298\u001b[0;31m         \u001b[0mself\u001b[0m\u001b[0;34m.\u001b[0m\u001b[0m_time_step\u001b[0m \u001b[0;34m=\u001b[0m \u001b[0mself\u001b[0m\u001b[0;34m.\u001b[0m\u001b[0m_env\u001b[0m\u001b[0;34m.\u001b[0m\u001b[0mstep\u001b[0m\u001b[0;34m(\u001b[0m\u001b[0mpacked\u001b[0m\u001b[0;34m)\u001b[0m\u001b[0;34m\u001b[0m\u001b[0;34m\u001b[0m\u001b[0m\n\u001b[0m\u001b[1;32m    299\u001b[0m         \u001b[0;32mreturn\u001b[0m \u001b[0mtf\u001b[0m\u001b[0;34m.\u001b[0m\u001b[0mnest\u001b[0m\u001b[0;34m.\u001b[0m\u001b[0mflatten\u001b[0m\u001b[0;34m(\u001b[0m\u001b[0mself\u001b[0m\u001b[0;34m.\u001b[0m\u001b[0m_time_step\u001b[0m\u001b[0;34m)\u001b[0m\u001b[0;34m\u001b[0m\u001b[0;34m\u001b[0m\u001b[0m\n\u001b[1;32m    300\u001b[0m \u001b[0;34m\u001b[0m\u001b[0m\n",
            "\u001b[0;32m/usr/local/lib/python3.7/dist-packages/tf_agents/environments/py_environment.py\u001b[0m in \u001b[0;36mstep\u001b[0;34m(self, action)\u001b[0m\n\u001b[1;32m    230\u001b[0m       \u001b[0;32mreturn\u001b[0m \u001b[0mself\u001b[0m\u001b[0;34m.\u001b[0m\u001b[0mreset\u001b[0m\u001b[0;34m(\u001b[0m\u001b[0;34m)\u001b[0m\u001b[0;34m\u001b[0m\u001b[0;34m\u001b[0m\u001b[0m\n\u001b[1;32m    231\u001b[0m \u001b[0;34m\u001b[0m\u001b[0m\n\u001b[0;32m--> 232\u001b[0;31m     \u001b[0mself\u001b[0m\u001b[0;34m.\u001b[0m\u001b[0m_current_time_step\u001b[0m \u001b[0;34m=\u001b[0m \u001b[0mself\u001b[0m\u001b[0;34m.\u001b[0m\u001b[0m_step\u001b[0m\u001b[0;34m(\u001b[0m\u001b[0maction\u001b[0m\u001b[0;34m)\u001b[0m\u001b[0;34m\u001b[0m\u001b[0;34m\u001b[0m\u001b[0m\n\u001b[0m\u001b[1;32m    233\u001b[0m     \u001b[0;32mreturn\u001b[0m \u001b[0mself\u001b[0m\u001b[0;34m.\u001b[0m\u001b[0m_current_time_step\u001b[0m\u001b[0;34m\u001b[0m\u001b[0;34m\u001b[0m\u001b[0m\n\u001b[1;32m    234\u001b[0m \u001b[0;34m\u001b[0m\u001b[0m\n",
            "\u001b[0;32m/usr/local/lib/python3.7/dist-packages/tf_agents/environments/batched_py_environment.py\u001b[0m in \u001b[0;36m_step\u001b[0;34m(self, actions)\u001b[0m\n\u001b[1;32m    163\u001b[0m     \u001b[0;32mif\u001b[0m \u001b[0mself\u001b[0m\u001b[0;34m.\u001b[0m\u001b[0m_num_envs\u001b[0m \u001b[0;34m==\u001b[0m \u001b[0;36m1\u001b[0m\u001b[0;34m:\u001b[0m\u001b[0;34m\u001b[0m\u001b[0;34m\u001b[0m\u001b[0m\n\u001b[1;32m    164\u001b[0m       \u001b[0mactions\u001b[0m \u001b[0;34m=\u001b[0m \u001b[0mnest_utils\u001b[0m\u001b[0;34m.\u001b[0m\u001b[0munbatch_nested_array\u001b[0m\u001b[0;34m(\u001b[0m\u001b[0mactions\u001b[0m\u001b[0;34m)\u001b[0m\u001b[0;34m\u001b[0m\u001b[0;34m\u001b[0m\u001b[0m\n\u001b[0;32m--> 165\u001b[0;31m       \u001b[0mtime_steps\u001b[0m \u001b[0;34m=\u001b[0m \u001b[0mself\u001b[0m\u001b[0;34m.\u001b[0m\u001b[0m_envs\u001b[0m\u001b[0;34m[\u001b[0m\u001b[0;36m0\u001b[0m\u001b[0;34m]\u001b[0m\u001b[0;34m.\u001b[0m\u001b[0mstep\u001b[0m\u001b[0;34m(\u001b[0m\u001b[0mactions\u001b[0m\u001b[0;34m)\u001b[0m\u001b[0;34m\u001b[0m\u001b[0;34m\u001b[0m\u001b[0m\n\u001b[0m\u001b[1;32m    166\u001b[0m       \u001b[0;32mreturn\u001b[0m \u001b[0mnest_utils\u001b[0m\u001b[0;34m.\u001b[0m\u001b[0mbatch_nested_array\u001b[0m\u001b[0;34m(\u001b[0m\u001b[0mtime_steps\u001b[0m\u001b[0;34m)\u001b[0m\u001b[0;34m\u001b[0m\u001b[0;34m\u001b[0m\u001b[0m\n\u001b[1;32m    167\u001b[0m     \u001b[0;32melse\u001b[0m\u001b[0;34m:\u001b[0m\u001b[0;34m\u001b[0m\u001b[0;34m\u001b[0m\u001b[0m\n",
            "\u001b[0;32m/usr/local/lib/python3.7/dist-packages/tf_agents/environments/py_environment.py\u001b[0m in \u001b[0;36mstep\u001b[0;34m(self, action)\u001b[0m\n\u001b[1;32m    230\u001b[0m       \u001b[0;32mreturn\u001b[0m \u001b[0mself\u001b[0m\u001b[0;34m.\u001b[0m\u001b[0mreset\u001b[0m\u001b[0;34m(\u001b[0m\u001b[0;34m)\u001b[0m\u001b[0;34m\u001b[0m\u001b[0;34m\u001b[0m\u001b[0m\n\u001b[1;32m    231\u001b[0m \u001b[0;34m\u001b[0m\u001b[0m\n\u001b[0;32m--> 232\u001b[0;31m     \u001b[0mself\u001b[0m\u001b[0;34m.\u001b[0m\u001b[0m_current_time_step\u001b[0m \u001b[0;34m=\u001b[0m \u001b[0mself\u001b[0m\u001b[0;34m.\u001b[0m\u001b[0m_step\u001b[0m\u001b[0;34m(\u001b[0m\u001b[0maction\u001b[0m\u001b[0;34m)\u001b[0m\u001b[0;34m\u001b[0m\u001b[0;34m\u001b[0m\u001b[0m\n\u001b[0m\u001b[1;32m    233\u001b[0m     \u001b[0;32mreturn\u001b[0m \u001b[0mself\u001b[0m\u001b[0;34m.\u001b[0m\u001b[0m_current_time_step\u001b[0m\u001b[0;34m\u001b[0m\u001b[0;34m\u001b[0m\u001b[0m\n\u001b[1;32m    234\u001b[0m \u001b[0;34m\u001b[0m\u001b[0m\n",
            "\u001b[0;32m/usr/local/lib/python3.7/dist-packages/tf_agents/environments/gym_wrapper.py\u001b[0m in \u001b[0;36m_step\u001b[0;34m(self, action)\u001b[0m\n\u001b[1;32m    214\u001b[0m     \u001b[0;31m# TODO(oars): Figure out how tuple or dict actions will be generated by the\u001b[0m\u001b[0;34m\u001b[0m\u001b[0;34m\u001b[0m\u001b[0;34m\u001b[0m\u001b[0m\n\u001b[1;32m    215\u001b[0m     \u001b[0;31m# agents and if we can pass them through directly to gym.\u001b[0m\u001b[0;34m\u001b[0m\u001b[0;34m\u001b[0m\u001b[0;34m\u001b[0m\u001b[0m\n\u001b[0;32m--> 216\u001b[0;31m     \u001b[0mobservation\u001b[0m\u001b[0;34m,\u001b[0m \u001b[0mreward\u001b[0m\u001b[0;34m,\u001b[0m \u001b[0mself\u001b[0m\u001b[0;34m.\u001b[0m\u001b[0m_done\u001b[0m\u001b[0;34m,\u001b[0m \u001b[0mself\u001b[0m\u001b[0;34m.\u001b[0m\u001b[0m_info\u001b[0m \u001b[0;34m=\u001b[0m \u001b[0mself\u001b[0m\u001b[0;34m.\u001b[0m\u001b[0m_gym_env\u001b[0m\u001b[0;34m.\u001b[0m\u001b[0mstep\u001b[0m\u001b[0;34m(\u001b[0m\u001b[0maction\u001b[0m\u001b[0;34m)\u001b[0m\u001b[0;34m\u001b[0m\u001b[0;34m\u001b[0m\u001b[0m\n\u001b[0m\u001b[1;32m    217\u001b[0m \u001b[0;34m\u001b[0m\u001b[0m\n\u001b[1;32m    218\u001b[0m     \u001b[0;32mif\u001b[0m \u001b[0mself\u001b[0m\u001b[0;34m.\u001b[0m\u001b[0m_match_obs_space_dtype\u001b[0m\u001b[0;34m:\u001b[0m\u001b[0;34m\u001b[0m\u001b[0;34m\u001b[0m\u001b[0m\n",
            "\u001b[0;32m<ipython-input-16-db22091c4a92>\u001b[0m in \u001b[0;36mstep\u001b[0;34m(self, action)\u001b[0m\n\u001b[1;32m     61\u001b[0m \u001b[0;34m\u001b[0m\u001b[0m\n\u001b[1;32m     62\u001b[0m     \u001b[0;32mdef\u001b[0m \u001b[0mstep\u001b[0m\u001b[0;34m(\u001b[0m\u001b[0mself\u001b[0m\u001b[0;34m,\u001b[0m \u001b[0maction\u001b[0m\u001b[0;34m)\u001b[0m\u001b[0;34m:\u001b[0m\u001b[0;34m\u001b[0m\u001b[0;34m\u001b[0m\u001b[0m\n\u001b[0;32m---> 63\u001b[0;31m         \u001b[0maction_build\u001b[0m \u001b[0;34m=\u001b[0m \u001b[0maction\u001b[0m\u001b[0;34m[\u001b[0m\u001b[0;36m0\u001b[0m\u001b[0;34m]\u001b[0m\u001b[0;34m\u001b[0m\u001b[0;34m\u001b[0m\u001b[0m\n\u001b[0m\u001b[1;32m     64\u001b[0m         \u001b[0maction_abandon\u001b[0m \u001b[0;34m=\u001b[0m \u001b[0maction\u001b[0m\u001b[0;34m[\u001b[0m\u001b[0;36m1\u001b[0m\u001b[0;34m]\u001b[0m\u001b[0;34m\u001b[0m\u001b[0;34m\u001b[0m\u001b[0m\n\u001b[1;32m     65\u001b[0m         \u001b[0mprint\u001b[0m\u001b[0;34m(\u001b[0m\u001b[0maction_build\u001b[0m\u001b[0;34m,\u001b[0m \u001b[0maction_abandon\u001b[0m\u001b[0;34m)\u001b[0m\u001b[0;34m\u001b[0m\u001b[0;34m\u001b[0m\u001b[0m\n",
            "\u001b[0;31mIndexError\u001b[0m: too many indices for array: array is 0-dimensional, but 1 were indexed"
          ]
        }
      ]
    }
  ]
}